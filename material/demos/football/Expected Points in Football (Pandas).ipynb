{
 "cells": [
  {
   "cell_type": "markdown",
   "metadata": {},
   "source": [
    "# Expected Points in Football\n",
    "\n",
    "This demo covers building a preliminary Expected Points model for football.  The model provides an expected value of having possession of the ball and 1st and 10 from a particular yard line.  For example, what's the expected next score given a drive starting at our own 42 yard line?  Or starting at our own 1 yard line?  Or opponent 1 yard line?  The interpretation is the expected value of the next score in the game, hence a value of how much the possession is worth.  \n",
    "\n",
    "We first define _Possession Value_ was the value of the next score in the game to the possessing team.  For example, if the 49ers hold the ball 1st and 10 at the 42 yardline and the next score in the game occurred 4 drives later (after the 49ers and Raiders traded punts) and it was a field goal by the 49ers, then the _Possession Value_ when they held the ball 1st and 10 at the 42 yardline was +3 points.\n",
    "\n",
    "We average the possession value by yardline to get the expected points:\n",
    "$$\n",
    "    \\text{Expected Points at Yardline $X$} = \\frac{1}{\\text{# of Drives Starting at Yardline $X$}} \\sum_i \\text{Posssesion Value of Drive $i$ Starting at Yardline $X$}\n",
    "$$\n",
    "\n",
    "\n",
    "We will be using collected kickoffs and drive starts or first downs that have been extracted from NFL play-by-play data.  We restrict the analysis to the first and third quarters only since the second and fourth quarters contain abnormal play due to time and winning constraints."
   ]
  },
  {
   "cell_type": "code",
   "execution_count": null,
   "metadata": {},
   "outputs": [],
   "source": [
    "%run ../../utils/notebook_setup.py"
   ]
  },
  {
   "cell_type": "code",
   "execution_count": null,
   "metadata": {},
   "outputs": [],
   "source": [
    "import numpy as np\n",
    "import pandas as pd"
   ]
  },
  {
   "cell_type": "markdown",
   "metadata": {},
   "source": [
    "## 1. NFL PxP Data\n",
    "\n",
    "What does play-by-play data even look like for the NFL?  We will be using a processed form of the data but here is a view of the granularity provided by the play-by-play data. This isn't even a complete view but rather a subset of what's available."
   ]
  },
  {
   "cell_type": "code",
   "execution_count": null,
   "metadata": {},
   "outputs": [],
   "source": [
    "pxp = pd.read_csv('nfl_pxp_2009_2016.csv.gz')\n",
    "pxp.head(10)"
   ]
  },
  {
   "cell_type": "code",
   "execution_count": null,
   "metadata": {},
   "outputs": [],
   "source": [
    "pxp.iloc[1]"
   ]
  },
  {
   "cell_type": "markdown",
   "metadata": {},
   "source": [
    "## 2. NFL Possession Data: Drive Starts\n",
    "\n",
    "NFL possession data is loaded from csv format.  We first load data that contains all kickoffs and drive starts.  The two columns we'll chiefly be interested in are `Yardline100` and `PossessionValue`.  The rest of the columns are:\n",
    "\n",
    "+ GameID\n",
    "+ Drive - index given the # of the drive within the game\n",
    "+ Quarter\n",
    "+ Half\n",
    "+ Down\n",
    "+ Yardline100 - the yard line expressed on a scale of 1 to 99 instead of 1 to 50 and back to 1.\n",
    "+ YrdRegion - region of the field: Inside the 10, 10 to 20, and beyond 20.\n",
    "+ PossessionType - either a first down or a kickoff\n",
    "+ PossessionTeam - possessing team\n",
    "+ AbsScoreDiff\n",
    "+ NextScore - Next score in the game (+ for home team, - for away team)\n",
    "+ PossessionValue - value of possession (+ if NextScore favors possessing team)"
   ]
  },
  {
   "cell_type": "code",
   "execution_count": null,
   "metadata": {},
   "outputs": [],
   "source": [
    "states_drive_starts = pd.read_csv('nfl_drive_starts_2009_2016.csv.gz')"
   ]
  },
  {
   "cell_type": "code",
   "execution_count": null,
   "metadata": {},
   "outputs": [],
   "source": [
    "states_drive_starts.head(10)"
   ]
  },
  {
   "cell_type": "markdown",
   "metadata": {},
   "source": [
    "### What is the Expected Points value for a Kickoff?\n",
    "\n",
    "The first thing we can ask is what is the expected value of receiving a kickoff?  What is is the expected value of the next score?\n",
    "\n",
    "To do this, we do two things: get all the kickoffs and compute the average possession value."
   ]
  },
  {
   "cell_type": "code",
   "execution_count": null,
   "metadata": {},
   "outputs": [],
   "source": [
    "# Restrict to kickoff events\n",
    "ko = states_drive_starts['PossessionType'] == 'Kickoff'"
   ]
  },
  {
   "cell_type": "code",
   "execution_count": null,
   "metadata": {},
   "outputs": [],
   "source": [
    "# Compute the average kickoff value\n",
    "ekv = states_drive_starts.loc[ko]['PossessionValue'].mean()\n",
    "print(f\"Expected Kickoff Value: {ekv:.3f} pts\")"
   ]
  },
  {
   "cell_type": "markdown",
   "metadata": {},
   "source": [
    "_Questions_\n",
    "\n",
    "1. If the kickoff has expected value of about 0.6 points to the receiving team, then how much is a touchdown or field goal really worth in expectation?\n",
    "2. How might this affect your decision making as a coach?  If you're deciding between trying to score a field goal or punting the ball away, would it matter if a field goal was not worth 3 points but rather worth something less?"
   ]
  },
  {
   "cell_type": "markdown",
   "metadata": {},
   "source": [
    "### Expected Points for Drive Starts\n",
    "\n",
    "We can group by each yardline where a drive started and computed the expected points.  This is straightforward: we group by `Yardline100` and compute the mean of `PossessionValue`.  We can plot the result too."
   ]
  },
  {
   "cell_type": "code",
   "execution_count": null,
   "metadata": {},
   "outputs": [],
   "source": [
    "drive_starts = states_drive_starts.loc[~ko]\n",
    "\n",
    "raw_drive_start_epv = drive_starts.\\\n",
    "    groupby('Yardline100')['PossessionValue'].\\\n",
    "    mean()\n",
    "\n",
    "raw_drive_start_epv.plot();"
   ]
  },
  {
   "cell_type": "markdown",
   "metadata": {},
   "source": [
    "_Questions_\n",
    "\n",
    "1. Expected points generally increases as we get closer to the goal (Yardline100 near 0).  Does this confirm your own intuitions about scoring in football?\n",
    "2. About where is the breakeven point, ie. the point where the possession is worth 0 points and thus even between the possessing team and the defending team?\n",
    "3. Why is the line jagged?  In a lot of cases, it seems to tell us that if we move a yard closer, we'll have a lower expected points value.  Why do you think that's wrong?"
   ]
  },
  {
   "cell_type": "markdown",
   "metadata": {},
   "source": [
    "#### How often do possessions even start at some yardlines?\n",
    "\n",
    "We just computed average possession value for each drive starting at particular yardline.  Not many drives start at the opponent's 1 yardline given that it requires a turnover or a big return to start there.  A worthwhile thing to ask is, how often _do_ we start at these yardlines?\n",
    "\n",
    "In some cases, not often."
   ]
  },
  {
   "cell_type": "code",
   "execution_count": null,
   "metadata": {},
   "outputs": [],
   "source": [
    "bins = np.arange(0, 100)\n",
    "drive_starts.hist(column='Yardline100', bins=bins);"
   ]
  },
  {
   "cell_type": "code",
   "execution_count": null,
   "metadata": {},
   "outputs": [],
   "source": [
    "drive_starts.groupby('Yardline100')['PossessionValue'].count().head(20)"
   ]
  },
  {
   "cell_type": "markdown",
   "metadata": {},
   "source": [
    "_Question_\n",
    "\n",
    "1. If barely any possessions start within the opponent 10 yardline, should we trust our model for expected points based on drive start?"
   ]
  },
  {
   "cell_type": "markdown",
   "metadata": {},
   "source": [
    "## 2. NFL Possession Data Part 2: First Downs\n",
    "\n",
    "Similar to the drive start data, we can also consider all first downs (regular 1st and 10 and 1st and Goal plays, not 1st and 5 due to a penalty).   We can load data that contains all kickoffs and first downs.  See the top for more information about the columns."
   ]
  },
  {
   "cell_type": "code",
   "execution_count": null,
   "metadata": {},
   "outputs": [],
   "source": [
    "states_first_downs = pd.read_csv('nfl_first_downs_2009_2016.csv.gz')"
   ]
  },
  {
   "cell_type": "code",
   "execution_count": null,
   "metadata": {},
   "outputs": [],
   "source": [
    "states_first_downs.head(10)"
   ]
  },
  {
   "cell_type": "markdown",
   "metadata": {},
   "source": [
    "### How often is there a first down at a given yardline?\n",
    "\n",
    "We've expanded our dataset.  Now we just consider times when a team had a first down at any point during a drive, not just the first play of the drive.\n",
    "\n",
    "From the histogram, we see there are a _lot_ more observations for each yardline (the 80/20 and 75/25 yardlines are about the same)."
   ]
  },
  {
   "cell_type": "code",
   "execution_count": null,
   "metadata": {},
   "outputs": [],
   "source": [
    "# extract kickoffs again\n",
    "ko_2 = states_first_downs['PossessionType'] == 'Kickoff'\n",
    "\n",
    "\n",
    "first_downs = states_first_downs.loc[~ko_2]\n",
    "first_downs.hist(column='Yardline100', bins=bins);"
   ]
  },
  {
   "cell_type": "markdown",
   "metadata": {},
   "source": [
    "_Question_\n",
    "\n",
    "1. What are the patterns we're seeing in the histogram?  Why are there little spikes at the 1 and 99/1 yardlines?  Why is there a mini spike at the 75/25 yardline?  Why is there a jump at the 70/30 yardline?"
   ]
  },
  {
   "cell_type": "markdown",
   "metadata": {},
   "source": [
    "### What do the Possession Values look like?\n",
    "\n",
    "How often are touchdowns scored from the 1 yardline?  What about from our own 1 yardline?"
   ]
  },
  {
   "cell_type": "code",
   "execution_count": null,
   "metadata": {},
   "outputs": [],
   "source": [
    "first_downs.loc[first_downs.Yardline100 == 1].\\\n",
    "    hist('PossessionValue', bins=np.arange(-7, 8))"
   ]
  },
  {
   "cell_type": "code",
   "execution_count": null,
   "metadata": {},
   "outputs": [],
   "source": [
    "first_downs.loc[first_downs.Yardline100 == 99].\\\n",
    "    hist('PossessionValue', bins=np.arange(-7, 8))"
   ]
  },
  {
   "cell_type": "markdown",
   "metadata": {},
   "source": [
    "### Did the value of the kickoff change?\n",
    "\n",
    "It's worth asking, with this different dataset did something change about kickoffs?\n",
    "\n",
    "Nope.  And why should it change?  We only incorporated more first downs, we didn't change how we viewed value."
   ]
  },
  {
   "cell_type": "code",
   "execution_count": null,
   "metadata": {},
   "outputs": [],
   "source": [
    "# Compute the average kickoff value\n",
    "ekv = states_first_downs.loc[ko_2]['PossessionValue'].mean()\n",
    "print(f\"Expected Kickoff Value: {ekv:.3f} pts\")"
   ]
  },
  {
   "cell_type": "markdown",
   "metadata": {},
   "source": [
    "### Expected Points for a First Down\n",
    "\n",
    "As before, we group by each yardline and computed the expected points for the first downs.\n",
    "\n",
    "The plot looks a lot less jagged: on the right-hand side from about 60 to 100 it looks identical to before.  But it looks a lot better on the left-hand side"
   ]
  },
  {
   "cell_type": "code",
   "execution_count": null,
   "metadata": {},
   "outputs": [],
   "source": [
    "raw_first_down_epv = first_downs.\\\n",
    "    groupby('Yardline100')['PossessionValue'].\\\n",
    "    mean()\n",
    "\n",
    "raw_first_down_epv.plot();"
   ]
  },
  {
   "cell_type": "markdown",
   "metadata": {},
   "source": [
    "_Questions_\n",
    "\n",
    "1. Suppose your team has a 1st and 10 at its own 40 yardline (60 in Yardline100).  What is the added value of a 20 yard play?\n",
    "2. Why did expanded our dataset to include all first downs make our expected points model less jagged?\n",
    "3. Brainstorm some ideas for how we can take the above plot and produce a smooth line for expected points?\n",
    "4. Regardless of how we would do it, what are some ways we would like to extend this model beyond it's current valuation of first downs?"
   ]
  }
 ],
 "metadata": {
  "hide_input": false,
  "kernelspec": {
   "display_name": "Python 3",
   "language": "python",
   "name": "python3"
  },
  "language_info": {
   "codemirror_mode": {
    "name": "ipython",
    "version": 3
   },
   "file_extension": ".py",
   "mimetype": "text/x-python",
   "name": "python",
   "nbconvert_exporter": "python",
   "pygments_lexer": "ipython3",
   "version": "3.6.5"
  },
  "toc": {
   "nav_menu": {},
   "number_sections": true,
   "sideBar": true,
   "skip_h1_title": true,
   "title_cell": "Table of Contents",
   "title_sidebar": "Contents",
   "toc_cell": true,
   "toc_position": {},
   "toc_section_display": true,
   "toc_window_display": false
  },
  "varInspector": {
   "cols": {
    "lenName": 16,
    "lenType": 16,
    "lenVar": 40
   },
   "kernels_config": {
    "python": {
     "delete_cmd_postfix": "",
     "delete_cmd_prefix": "del ",
     "library": "var_list.py",
     "varRefreshCmd": "print(var_dic_list())"
    },
    "r": {
     "delete_cmd_postfix": ") ",
     "delete_cmd_prefix": "rm(",
     "library": "var_list.r",
     "varRefreshCmd": "cat(var_dic_list()) "
    }
   },
   "types_to_exclude": [
    "module",
    "function",
    "builtin_function_or_method",
    "instance",
    "_Feature"
   ],
   "window_display": false
  }
 },
 "nbformat": 4,
 "nbformat_minor": 2
}
