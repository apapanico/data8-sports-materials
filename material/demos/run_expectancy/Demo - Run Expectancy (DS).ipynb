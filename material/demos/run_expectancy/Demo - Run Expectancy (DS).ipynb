{
 "cells": [
  {
   "cell_type": "markdown",
   "metadata": {},
   "source": [
    "# Demo - Run Expectancy\n",
    "\n",
    "This demo explores the concept of run expectancy and the _Run Expectancy Matrix_, an empirically driven measurement of how many runs we should expect to score in a given out/baserunner state.  We use run expectancy to explore basic baseball strategies like bunting and stealing."
   ]
  },
  {
   "cell_type": "code",
   "execution_count": null,
   "metadata": {},
   "outputs": [],
   "source": [
    "%run ../../utils/notebook_setup.py"
   ]
  },
  {
   "cell_type": "code",
   "execution_count": null,
   "metadata": {},
   "outputs": [],
   "source": [
    "from datascience import Table, are\n",
    "import numpy as np\n",
    "\n",
    "# custom functions that will help do some simple tasks\n",
    "from datascience_utils import *\n",
    "from datascience_stats import *\n",
    "from datascience_topic import fast_run_expectancy"
   ]
  },
  {
   "cell_type": "markdown",
   "metadata": {},
   "source": [
    "## 1. Retrosheet Play-by-Play Data\n",
    "\n",
    "Retrosheet data (http://www.retrosheet.org/) contains play-by-play event logs, a very raw form labeling all the events in a baseball game. Lucky for us, the software program Chadwick (found here: http://chadwick.sourceforge.net/doc/index.html) was created to handle a lot of the messy work to compiled the data into a useable form.  Chadwick converts the raw logs into CSV which is what we use here.  Also, Chadwick computes some pretty important quantities that we make use of.\n",
    "\n",
    "Note: This notebook uses data from 2001.  We could have used more recent data but Barry Bonds is a baseball god so part of this notebook is an excuse to revel in his statistical absurdity.\n",
    "\n",
    "### Loading the Data\n",
    "For our purposes, like computing the Run Expectancy Matrix, we only need a few of the columns available.  The relevant columns are:\n",
    "+ EVENT_ID - An ID for the event in the dataset\n",
    "+ INN_CT - Inning number\n",
    "+ BAT_HOME_ID - A flag indicating if the home team is batting\n",
    "+ EVENT_CD - A code for what happened in the event\n",
    "+ OUTS_CT - Number of outs\n",
    "+ BAT_LINEUP_ID - Place in the batting order.  1 through 9.\n",
    "+ BAT_EVENT_FL - A T/F flag as to whether the play-by-play event corresponds to a plate appearance (T) or some other type of event (F).\n",
    "+ START_BASES_CD - An integer code representing the state of the runners, eg. runner on 2nd\n",
    "+ END_BASES_CD - An integer code representing the state of the runners AFTER the event ends.\n",
    "+ EVENT_OUTS_CT - Number of outs recorded on this event\n",
    "+ EVENT_RUNS_CT - Number of runs scored on this event\n",
    "+ FATE_RUNS_CT - Number of runs scored AFTER this event\n",
    "+ INN_NEW_FL - A flag indicating if the PA is the start of a new half-inning"
   ]
  },
  {
   "cell_type": "code",
   "execution_count": null,
   "metadata": {},
   "outputs": [],
   "source": [
    "col_names = [\n",
    "    'INN_CT', 'BAT_HOME_ID', 'EVENT_CD', 'OUTS_CT', 'BAT_ID', \n",
    "    'BAT_LINEUP_ID', 'BAT_EVENT_FL', 'START_BASES_CD', 'END_BASES_CD', \n",
    "    'EVENT_OUTS_CT', 'EVENT_RUNS_CT', 'FATE_RUNS_CT', 'INN_NEW_FL']\n",
    "\n",
    "retro = Table.read_table(\n",
    "    'retrosheet_events-2017.csv.gz', sep=',', usecols=col_names)\n",
    "\n",
    "new_col_names = [\n",
    "    'Inning', 'Half-Inning', 'Event_Type', 'Outs', 'Batter_ID', \n",
    "    'Lineup_Order', 'PA_Flag', 'Start_Bases', 'End_Bases', 'Event_Outs', \n",
    "    'Event_Runs', 'Future_Runs', 'New_Inning']\n",
    "retro.relabel(col_names, new_col_names)\n",
    "\n",
    "retro.show(10)"
   ]
  },
  {
   "cell_type": "markdown",
   "metadata": {},
   "source": [
    "### Data Processing"
   ]
  },
  {
   "cell_type": "markdown",
   "metadata": {},
   "source": [
    "There are a few things we need to do to make the dataset a little easier to use.  \n",
    "\n",
    "First, three of the columns use integer codes to succinctly summarize their information.  Baserunner situations and event types are given by these integer codes.  For interpretation, this isn't helpful at all.  So we want to convert the integer codes into recognizable strings.  This information is available from http://www.retrosheet.org/."
   ]
  },
  {
   "cell_type": "code",
   "execution_count": null,
   "metadata": {},
   "outputs": [],
   "source": [
    "base_runner_codes = {\n",
    "    0: \"None on\",  # No one on\n",
    "    1: \"1st\",  # runner on 1st\n",
    "    2: \"2nd\",  # runner on 2nd\n",
    "    3: \"1st and 2nd\",  # runners on 1st & 2nd\n",
    "    4: \"3rd\",  # runner on 3rd\n",
    "    5: \"1st and 3rd\",  # runners on 1st & 3rd\n",
    "    6: \"2nd and 3rd\",  # runners on 2nd & 3rd\n",
    "    7: \"Bases Loaded\"  # bases loaded\n",
    "}\n",
    "# Replace the numeric code with a string code\n",
    "retro['Start_Bases'] = replace(retro, 'Start_Bases', base_runner_codes)\n",
    "retro['End_Bases'] = replace(retro, 'End_Bases', base_runner_codes)"
   ]
  },
  {
   "cell_type": "code",
   "execution_count": null,
   "metadata": {},
   "outputs": [],
   "source": [
    "event_codes = {\n",
    "    0: 'Unknown',\n",
    "    1: 'None',\n",
    "    2: 'Generic out',\n",
    "    3: 'K',  # Strikeout\n",
    "    4: 'SB',  # Stolen Base\n",
    "    5: 'Defensive indifference',\n",
    "    6: 'CS',  # Caught stealing\n",
    "    7: 'Pickoff error',\n",
    "    8: 'Pickoff',\n",
    "    9: 'Wild pitch',\n",
    "    10: 'Passed ball',\n",
    "    11: 'Balk',\n",
    "    12: 'Other advance/out advancing',\n",
    "    13: 'Foul error',\n",
    "    14: 'BB',  # Walk\n",
    "    15: 'IBB',  # Intentional walk\n",
    "    16: 'HBP',  # Hit by pitch\n",
    "    17: 'Interference',\n",
    "    18: 'RBOE',  # Reached base on error\n",
    "    19: 'FC',  # Fielder's choice\n",
    "    20: '1B',  # Single\n",
    "    21: '2B',  # Double\n",
    "    22: '3B',  # Triple\n",
    "    23: 'HR',  # Home run\n",
    "    24: 'Missing play',\n",
    "}\n",
    "\n",
    "# Replace numeric code with string\n",
    "retro['Event_Type'] = replace(retro, 'Event_Type', event_codes)"
   ]
  },
  {
   "cell_type": "markdown",
   "metadata": {},
   "source": [
    "Second, the play-by-play data contains entries that are not plate appearances.  One example is balks.  We want to drop these entries because they are not relevant to the question we are trying to answer.  "
   ]
  },
  {
   "cell_type": "code",
   "execution_count": null,
   "metadata": {},
   "outputs": [],
   "source": [
    "retro = retro.where('PA_Flag', value_or_predicate=\"T\")"
   ]
  },
  {
   "cell_type": "markdown",
   "metadata": {},
   "source": [
    "### Visualizations\n",
    "\n",
    "We can get an idea of what we're dealing with over a season of baseball data by looking at a few different visualizations."
   ]
  },
  {
   "cell_type": "code",
   "execution_count": null,
   "metadata": {},
   "outputs": [],
   "source": [
    "retro.group_barh('Start_Bases', width=8)"
   ]
  },
  {
   "cell_type": "code",
   "execution_count": null,
   "metadata": {},
   "outputs": [],
   "source": [
    "retro.group_barh('Event_Type', width=8)"
   ]
  },
  {
   "cell_type": "code",
   "execution_count": null,
   "metadata": {},
   "outputs": [],
   "source": [
    "retro.group_barh('Event_Runs', width=8)"
   ]
  },
  {
   "cell_type": "markdown",
   "metadata": {},
   "source": [
    "## 2. Runs in Remainder of Inning\n",
    "\n",
    "In order to compute the Run Expectancy Matrix, we need to just add `Future_Runs` and `Event_Runs`.  "
   ]
  },
  {
   "cell_type": "code",
   "execution_count": null,
   "metadata": {},
   "outputs": [],
   "source": [
    "retro['Runs_ROI'] = retro['Future_Runs'] + retro['Event_Runs']"
   ]
  },
  {
   "cell_type": "code",
   "execution_count": null,
   "metadata": {},
   "outputs": [],
   "source": [
    "retro.where('New_Inning', value_or_predicate=\"T\").\\\n",
    "    select(\"Runs_ROI\").\\\n",
    "    hist()"
   ]
  },
  {
   "cell_type": "code",
   "execution_count": null,
   "metadata": {},
   "outputs": [],
   "source": [
    "retro.where('New_Inning', value_or_predicate=\"T\").\\\n",
    "    group(\"Runs_ROI\").\\\n",
    "    show(15)"
   ]
  },
  {
   "cell_type": "code",
   "execution_count": null,
   "metadata": {},
   "outputs": [],
   "source": [
    "tmp = retro.where('New_Inning', value_or_predicate=\"T\").\\\n",
    "    group('Inning', collect=np.mean).\\\n",
    "    select('Inning', 'Runs_ROI mean')\n",
    "    \n",
    "tmp.bar('Inning', 'Runs_ROI mean', width=13)"
   ]
  },
  {
   "cell_type": "markdown",
   "metadata": {},
   "source": [
    "## 3. Run Expectancy Matrix\n",
    "\n",
    "The Run Expectancy Matrix is computed by grouping by `Outs` and `Bases` and computing an average.  For each out and baserunner combination, this collects all plate appearances in our dataset and the runs scored in the remainder of the inning from that plate appearance and after.  We are left with the 24 values that comprise the Run Expectancy Matrix.\n",
    "\n",
    "First, though, we need to drop all data from the ninth inning or later.  This is because we want data that represents the regular course of play.  We hypothesize these innings feature end-game strategy and thus the events violate some of our assumptions about the regular strategic play, or even are truncated due to walk-off events."
   ]
  },
  {
   "cell_type": "code",
   "execution_count": null,
   "metadata": {},
   "outputs": [],
   "source": [
    "retro_pre9 = retro.where('Inning', are.below(9))"
   ]
  },
  {
   "cell_type": "code",
   "execution_count": null,
   "metadata": {},
   "outputs": [],
   "source": [
    "run_expectancy = retro_pre9.select('Outs', 'Start_Bases', 'Runs_ROI').\\\n",
    "    group(['Outs', 'Start_Bases'], collect=np.mean)\n",
    "run_expectancy.relabel('Runs_ROI mean', 'RE')\n",
    "run_expectancy"
   ]
  },
  {
   "cell_type": "code",
   "execution_count": null,
   "metadata": {},
   "outputs": [],
   "source": [
    "run_expectancy.pivot('Outs', 'Start_Bases', values='RE', collect=np.sum).\\\n",
    "    sort('0')"
   ]
  },
  {
   "cell_type": "markdown",
   "metadata": {},
   "source": [
    "### Run Expectancy and Understanding Baseball"
   ]
  },
  {
   "cell_type": "markdown",
   "metadata": {},
   "source": [
    "#### Average RE Value by Game State"
   ]
  },
  {
   "cell_type": "code",
   "execution_count": null,
   "metadata": {},
   "outputs": [],
   "source": [
    "run_expectancy.select('Start_Bases', 'RE').\\\n",
    "    group('Start_Bases', collect=np.mean).\\\n",
    "    sort('RE mean')"
   ]
  },
  {
   "cell_type": "markdown",
   "metadata": {},
   "source": [
    "#### Cost of Making an Out by Game State"
   ]
  },
  {
   "cell_type": "code",
   "execution_count": null,
   "metadata": {},
   "outputs": [],
   "source": [
    "bases = run_expectancy.where('Outs', 0)['Start_Bases']\n",
    "zero_outs = run_expectancy.where('Outs', 0)['RE']\n",
    "one_out = run_expectancy.where('Outs', 1)['RE']\n",
    "two_out = run_expectancy.where('Outs', 2)['RE']\n",
    "\n",
    "\n",
    "out_costs = Table().with_columns(\n",
    "    'Start_Bases', bases,\n",
    "    '0 to 1',  one_out - zero_outs,\n",
    "    '1 to 2',  two_out - one_out\n",
    ")\n",
    "out_costs"
   ]
  },
  {
   "cell_type": "markdown",
   "metadata": {},
   "source": [
    "##### Cost of an Out When Third Base is Open"
   ]
  },
  {
   "cell_type": "code",
   "execution_count": null,
   "metadata": {},
   "outputs": [],
   "source": [
    "is_third_base_open = are.contained_in(['None on', '1st', '2nd', '1st and 2nd'])\n",
    "out_costs.where('Start_Bases', is_third_base_open)"
   ]
  },
  {
   "cell_type": "markdown",
   "metadata": {},
   "source": [
    "##### Cost of an Out When a Runner is on Third Base"
   ]
  },
  {
   "cell_type": "code",
   "execution_count": null,
   "metadata": {},
   "outputs": [],
   "source": [
    "is_runner_on_third = are.contained_in(['3rd', '1st and 3rd', '2nd and 3rd', 'Bases Loaded'])\n",
    "out_costs.where('Start_Bases', is_runner_on_third)"
   ]
  },
  {
   "cell_type": "markdown",
   "metadata": {},
   "source": [
    "### Making the First or Third Out at Third Base"
   ]
  },
  {
   "cell_type": "code",
   "execution_count": null,
   "metadata": {},
   "outputs": [],
   "source": [
    "def get_matrix_value(table, outs, base):\n",
    "    for o, b, v in table.to_array():\n",
    "        if outs == o and base == b:\n",
    "            return v"
   ]
  },
  {
   "cell_type": "markdown",
   "metadata": {},
   "source": [
    "#### Making First Out"
   ]
  },
  {
   "cell_type": "code",
   "execution_count": null,
   "metadata": {},
   "outputs": [],
   "source": [
    "re_2nd_0out = get_matrix_value(run_expectancy, 0, '2nd')\n",
    "re_3rd_0out = get_matrix_value(run_expectancy, 0, '3rd')\n",
    "re_3rd_1out = get_matrix_value(run_expectancy, 1, '3rd')\n",
    "\n",
    "re_2nd_0out, re_3rd_0out, re_3rd_1out"
   ]
  },
  {
   "cell_type": "code",
   "execution_count": null,
   "metadata": {},
   "outputs": [],
   "source": [
    "re_1st2nd_0out = get_matrix_value(run_expectancy, 0, '1st and 2nd')\n",
    "re_1st3rd_0out = get_matrix_value(run_expectancy, 0, '1st and 3rd')\n",
    "re_1st3rd_1out = get_matrix_value(run_expectancy, 1, '1st and 3rd')\n",
    "\n",
    "re_1st2nd_0out, re_1st3rd_0out, re_1st3rd_1out"
   ]
  },
  {
   "cell_type": "markdown",
   "metadata": {},
   "source": [
    "#### Making Third Out"
   ]
  },
  {
   "cell_type": "code",
   "execution_count": null,
   "metadata": {},
   "outputs": [],
   "source": [
    "re_2nd_2out = get_matrix_value(run_expectancy, 2, '2nd')\n",
    "re_3rd_2out = get_matrix_value(run_expectancy, 2, '3rd')\n",
    "re_3rd_3out = 0\n",
    "\n",
    "re_2nd_2out, re_3rd_2out, re_3rd_3out"
   ]
  },
  {
   "cell_type": "code",
   "execution_count": null,
   "metadata": {},
   "outputs": [],
   "source": [
    "re_1st2nd_2out = get_matrix_value(run_expectancy, 2, '1st and 2nd')\n",
    "re_1st3rd_2out = get_matrix_value(run_expectancy, 2, '1st and 3rd')\n",
    "re_1st3rd_3out = 0\n",
    "\n",
    "re_1st2nd_2out, re_1st3rd_2out, re_1st3rd_3out"
   ]
  },
  {
   "cell_type": "markdown",
   "metadata": {},
   "source": [
    "_Questions_\n",
    "1. What does the Run Expectancy Matrix describe about the nature of baseball?  \n",
    "2. What can you observe about the difference between having a runner on second base vs third base (consider 2nd vs 3rd and 1st and 2nd vs 1st and 3rd)?  \n",
    "3. How do things change with 2 outs?\n",
    "4. What does run expectancy tell us generally about outs?  That is, how valuable is one extra base compared to an out?"
   ]
  },
  {
   "cell_type": "markdown",
   "metadata": {},
   "source": [
    "## 4. RE24\n",
    "\n",
    "The RE24 run production values for each plate appearance is computed as\n",
    "$$\n",
    "    \\mathit{RE24} = \\text{Run Expectancy}_{\\text{Next}} - \\text{Run Expectancy}_{\\text{Current}} + \\text{Runs Scored}\n",
    "$$"
   ]
  },
  {
   "cell_type": "code",
   "execution_count": null,
   "metadata": {},
   "outputs": [],
   "source": [
    "# # NOTE: THIS CELL IS SLOW.\n",
    "# # It's easier to understand what the calculation is with this block of code but\n",
    "# # after that, you might as well run the next cell.\n",
    "\n",
    "# # Iterate through each PA computing run expectancy\n",
    "# # We need each PA's start outs, start bases, end outs, and end bases\n",
    "# next_outs = retro['Outs'] + retro['Event_Outs']\n",
    "# outs_and_bases = zip(\n",
    "#     retro['Outs'],\n",
    "#     retro['Start_Bases'],\n",
    "#     next_outs,\n",
    "#     retro['End_Bases']\n",
    "# )\n",
    "\n",
    "# # We build lists of current and next RE\n",
    "# run_exp = []\n",
    "# run_exp_next = []\n",
    "# for out, start_base, next_out, end_base in outs_and_bases:\n",
    "#     # Get current RE\n",
    "#     start_val = get_matrix_value(run_expectancy, outs, start_base)\n",
    "#     run_exp.append(start_val)\n",
    "    \n",
    "#     # Get next RE.  If PA ends inning, next RE is 0\n",
    "#     if next_out < 3:\n",
    "#         end_val = get_matrix_value(run_expectancy, next_out, end_base)\n",
    "#     else:\n",
    "#         end_val = 0\n",
    "#     run_exp_next.append(end_val)\n",
    "    \n",
    "# # Convert lists to numpy arrays\n",
    "# retro['Run_Expectancy'] = np.array(run_exp)\n",
    "# retro['Run_Expectancy_Next'] = np.array(run_exp_next)"
   ]
  },
  {
   "cell_type": "code",
   "execution_count": null,
   "metadata": {},
   "outputs": [],
   "source": [
    "# This only takes about a second or two\n",
    "retro = fast_run_expectancy(retro, run_expectancy)"
   ]
  },
  {
   "cell_type": "code",
   "execution_count": null,
   "metadata": {},
   "outputs": [],
   "source": [
    "view_cols = ['Batter_ID', 'Lineup_Order', 'Inning', 'Outs', 'Event_Type',\n",
    "             'Start_Bases', 'End_Bases', 'Event_Runs', 'Run_Expectancy',\n",
    "             'Run_Expectancy_Next']\n",
    "retro.select(view_cols).show(5)"
   ]
  },
  {
   "cell_type": "markdown",
   "metadata": {},
   "source": [
    "### Compute RE24\n",
    "Now its easy to compute the RE24 values using the fields we have computed."
   ]
  },
  {
   "cell_type": "code",
   "execution_count": null,
   "metadata": {},
   "outputs": [],
   "source": [
    "retro['RE24'] = retro['Run_Expectancy_Next'] - \\\n",
    "    retro['Run_Expectancy'] + retro['Event_Runs']"
   ]
  },
  {
   "cell_type": "markdown",
   "metadata": {},
   "source": [
    "#### Example\n",
    "\n",
    "Here are the first 10 rows from the Retrosheet table showing the first inning plus a bit of the second inning of the first game between the Angels and the Mariners."
   ]
  },
  {
   "cell_type": "code",
   "execution_count": null,
   "metadata": {},
   "outputs": [],
   "source": [
    "view_cols = ['Batter_ID', 'Lineup_Order', 'Inning', 'Outs', 'Event_Type',\n",
    "             'Start_Bases', 'End_Bases', 'Event_Runs', 'Run_Expectancy',\n",
    "             'Run_Expectancy_Next', 'RE24']\n",
    "retro.select(view_cols).show(10)"
   ]
  },
  {
   "cell_type": "markdown",
   "metadata": {},
   "source": [
    "#### Grand Slams\n",
    "\n",
    "Below are three grand slams hit by Brandon Belt, Manny Machado, and Aaron Judge with different out situations.\n",
    "\n",
    "First, notice how the high run expectancy at the beginning of the at-bat leads to a reduced or \"discounted\" RE24 value that does not equal 4.\n",
    "\n",
    "Second, notice how the circumstances of the outs lead to receiving different values for the grand slam."
   ]
  },
  {
   "cell_type": "code",
   "execution_count": null,
   "metadata": {},
   "outputs": [],
   "source": [
    "retro.select(view_cols).take(136255)"
   ]
  },
  {
   "cell_type": "code",
   "execution_count": null,
   "metadata": {},
   "outputs": [],
   "source": [
    "retro.select(view_cols).take(23031)"
   ]
  },
  {
   "cell_type": "code",
   "execution_count": null,
   "metadata": {},
   "outputs": [],
   "source": [
    "retro.select(view_cols).take(107066)"
   ]
  },
  {
   "cell_type": "markdown",
   "metadata": {},
   "source": [
    "#### Mookie Betts Going 1st to 3rd\n",
    "A good baserunner like Mookie Betts (11th in SB with 26) that can get from 1st to 3rd on a hit easier can make the next hitter look better.\n",
    "\n",
    "The following two pairs of events have Mookie reaching 1st with no outs.  Compare the RE24 values of these two outcomes for the subsequent batters.  The events are identical except for Mookie going to 3rd instead of 2nd on the single with Dustin Pedroia as the next hitter.  While we know little about the nature of the single that was hit, this shows a variation in values of RE24 for seemingly equal events."
   ]
  },
  {
   "cell_type": "code",
   "execution_count": null,
   "metadata": {},
   "outputs": [],
   "source": [
    "retro.take([27834, 27835])"
   ]
  },
  {
   "cell_type": "code",
   "execution_count": null,
   "metadata": {},
   "outputs": [],
   "source": [
    "retro.take([26962, 26963])"
   ]
  },
  {
   "attachments": {
    "image.png": {
     "image/png": "[encoded data removed]"
    }
   },
   "cell_type": "markdown",
   "metadata": {},
   "source": [
    "### Batter RE24\n",
    "\n",
    "We can group on `Batter_ID` and compute the Total RE24 for each batter.  We do this by just summing.\n",
    "\n",
    "We don't have much context for how this statistic should behave since we only have one year and only view the top 10.  We could dive into the statistic more on Baseball Reference or FanGraphs.  For context, Barry Bonds' 2001, 2002, and 2004 seasons were absolutely obscene when it comes to offense and run production by any and all metrics.  Here are the RE24 values for 2001: \n",
    "\n",
    "![image.png](attachment:image.png)"
   ]
  },
  {
   "cell_type": "code",
   "execution_count": null,
   "metadata": {},
   "outputs": [],
   "source": [
    "# Collect totals by batter\n",
    "batter_data = retro.select('Batter_ID', 'Run_Expectancy', 'RE24').\\\n",
    "    group('Batter_ID', collect=sum)\n",
    "\n",
    "# Sort and display the top 10\n",
    "batter_data.sort('RE24 sum', descending=True).\\\n",
    "    show(10)"
   ]
  },
  {
   "cell_type": "code",
   "execution_count": null,
   "metadata": {},
   "outputs": [],
   "source": [
    "batter_data.scatter('Run_Expectancy sum', select='RE24 sum')"
   ]
  }
 ],
 "metadata": {
  "hide_input": false,
  "kernelspec": {
   "display_name": "Python 3",
   "language": "python",
   "name": "python3"
  },
  "language_info": {
   "codemirror_mode": {
    "name": "ipython",
    "version": 3
   },
   "file_extension": ".py",
   "mimetype": "text/x-python",
   "name": "python",
   "nbconvert_exporter": "python",
   "pygments_lexer": "ipython3",
   "version": "3.6.5"
  },
  "toc": {
   "nav_menu": {},
   "number_sections": true,
   "sideBar": true,
   "skip_h1_title": true,
   "title_cell": "Table of Contents",
   "title_sidebar": "Contents",
   "toc_cell": true,
   "toc_position": {
    "height": "calc(100% - 180px)",
    "left": "10px",
    "top": "150px",
    "width": "444px"
   },
   "toc_section_display": true,
   "toc_window_display": false
  },
  "varInspector": {
   "cols": {
    "lenName": 16,
    "lenType": 16,
    "lenVar": 40
   },
   "kernels_config": {
    "python": {
     "delete_cmd_postfix": "",
     "delete_cmd_prefix": "del ",
     "library": "var_list.py",
     "varRefreshCmd": "print(var_dic_list())"
    },
    "r": {
     "delete_cmd_postfix": ") ",
     "delete_cmd_prefix": "rm(",
     "library": "var_list.r",
     "varRefreshCmd": "cat(var_dic_list()) "
    }
   },
   "types_to_exclude": [
    "module",
    "function",
    "builtin_function_or_method",
    "instance",
    "_Feature"
   ],
   "window_display": false
  }
 },
 "nbformat": 4,
 "nbformat_minor": 2
}
