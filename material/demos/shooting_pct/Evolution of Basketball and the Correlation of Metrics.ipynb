{
 "cells": [
  {
   "cell_type": "markdown",
   "metadata": {},
   "source": [
    "# Evolution of Basketball and the Correlation of Metrics\n",
    "\n",
    "This notebook explores some key points about the evolution of the NBA and why metrics like FG%, eFG%, and TS% change in correlation with respect to offensive rating.\n",
    "\n",
    "## The Question\n",
    "\n",
    "Are the shooting metrics FG%, eFG%, or TS% correlated with Offensive Rating (team points per 100 possessions)?  Meaning, if I measure X%, I have a good idea of what the Offensive Rating would be?  And if I can work to reliably increase X%, then I will likely increase Offensive Rating.\n",
    "\n",
    "_Yes_.\n",
    "\n",
    "Unequivocally, these shooting metrics are correlated with Offensive Rating.  TS%, by factoring in 3-pointers and free throws does the best job of the three.  See the other demo on shooting metrics to explore this further.\n",
    "\n",
    "\n",
    "## What else matters?\n",
    "\n",
    "### Offensive Rebounding\n",
    "\n",
    "The standard practice in basketball analytics is to treat an offensive rebound as _continuing a possession_ instead of creating a new possession.  Because of this, improved offensive rebounding leads to improved offensive efficiency because you get an extra shot in the same possession.\n",
    "\n",
    "Consider this team performance:\n",
    "+ 100 possessions, 0 turnovers or FTs, shoot 50% on 2s (no 3s)\n",
    "    + 0 Off. Rebs\n",
    "    + 100 Off. Rating on 50% shooting\n",
    "Now consider this team performance\n",
    "+ 100 possessions, 0 turnovers or FTs\n",
    "    + On each possession's first shot, the team shoots 50% on 2s (no 3s)\n",
    "    + On each of the 50 misses, the team gets the offensive rebound.\n",
    "    + On each of the 50 off. rebounds, the team shoots one more time at 50% on 2s (no 3s)\n",
    "    + No offensive rebounds are had on those last 25 misses\n",
    "    + 150 Off. Rating on 50% shooting\n",
    "\n",
    "If a team gets more Off. Rebs, then it’ll have a higher Off. Rating for fixed FG%.  Put another way, the FG% matters less and thus is less correlated with Off. Rating when teams are offensive rebounding more.\n",
    "\n",
    "\n",
    "### Turnovers\n",
    "\n",
    "If there were no turnovers or FTs and just 2 (or 3) point shots, then FG% would be equivalent to eFG% would be equivalent to TS% would be equivalent to  Off. Rating.  They would all be perfectly correlated.\n",
    "\n",
    "If there are FTs but no turnovers, then only TS% would be equivalent to Off. Rating, ie. perfect correlation.\n",
    "\n",
    "With turnovers, TS% (or FG% or eFG%) is a \"noisy\" measure of Off. Rating, ie. there is no longer a perfect correlation.\n",
    "+ For fixed TS%, more turnovers means lower Off. Rating\n",
    "+ For fixed turnovers though, higher TS% means higher Off. Rating\n",
    "\n",
    "### 2 vs 3: The effect of riskier shots\n",
    "\n",
    "Suppose there are two outcomes: a turnover or a guaranteed shot.  Then...\n",
    "+ FG% is meaningless: it'll always be 100% and it'll have 0 correlation with Off. Rating\n",
    "+ Off. Rating is entirely driven by how many turnovers there are\n",
    "\n",
    "Again suppose there are two outcomes: a turnover or a shot. Further assume that turnovers happen on 99 out of 100 possessions and when we do get a shot, it's an even coin flip and it's worth 100 points if we make it.  Then...\n",
    "+ FG% is everything: 0 Off. Rating if we miss, 100 if we make.  So FG% = Off. Rating, ie. perfect correlation\n",
    "    \n",
    "    \n",
    "All things being equal, if you take lower percentage shots, then your FG% is more indicative of Off. Rating, ie. more correlated.   The value of the shot doesn’t matter.  We could change the 3pt shot to a 4pt shot and nothing would change.\n"
   ]
  },
  {
   "cell_type": "markdown",
   "metadata": {},
   "source": [
    "## Setup"
   ]
  },
  {
   "cell_type": "code",
   "execution_count": null,
   "metadata": {},
   "outputs": [],
   "source": [
    "%run ../../utils/notebook_setup.py"
   ]
  },
  {
   "cell_type": "code",
   "execution_count": null,
   "metadata": {},
   "outputs": [],
   "source": [
    "import pandas as pd\n",
    "import numpy as np\n",
    "import matplotlib.pyplot as plt\n",
    "\n",
    "from datascience_stats import correlation\n",
    "from datascience_utils import coin_flip"
   ]
  },
  {
   "cell_type": "markdown",
   "metadata": {},
   "source": [
    "## Load Data"
   ]
  },
  {
   "cell_type": "code",
   "execution_count": null,
   "metadata": {},
   "outputs": [],
   "source": [
    "df = pd.read_csv('nba_team_season_data.csv')"
   ]
  },
  {
   "cell_type": "code",
   "execution_count": null,
   "metadata": {},
   "outputs": [],
   "source": [
    "# very rough approximation of the total possessions\n",
    "tot = df['fg2a'] + df['fg3a'].fillna(0) + .4 * df['fta'] + df['tov']\n",
    "\n",
    "# Compute the rates at which events occur\n",
    "df['fg2_rate'] = df['fg2a'] / tot\n",
    "df['fg3_rate'] = df['fg3a'].fillna(0) / tot\n",
    "df['ft_rate'] = .4 * df['fta'] / tot\n",
    "df['tov_rate'] = df['tov'] / tot\n",
    "\n",
    "df['oreb_rate'] = df['orb'] / (df['orb'] + df['opp_drb'])\n",
    "\n",
    "# Compute shooting metrics\n",
    "df['fg_pct'] = df['fg'] / df['fga']\n",
    "df['efg_pct'] = (df['fg'] + .5 * df['fg3'].fillna(0) ) / df['fga']\n",
    "df['ts_pct'] = df['pts'] / (2 * (df['fga'] + .44 * df['fta']))"
   ]
  },
  {
   "cell_type": "markdown",
   "metadata": {},
   "source": [
    "## Evolution of the NBA\n",
    "\n",
    "### Increase in 3-pt Field Goal Rate"
   ]
  },
  {
   "cell_type": "code",
   "execution_count": null,
   "metadata": {},
   "outputs": [],
   "source": [
    "def plot_dubs(df, metric):\n",
    "    ax = plt.gca()\n",
    "    x = ax.get_xticks()\n",
    "    y = df.loc[df.team == 'GSW', metric].values\n",
    "    ax.plot(x, y, '.', ms=10, color='C1', label='Dubs')\n",
    "    ax.legend()"
   ]
  },
  {
   "cell_type": "code",
   "execution_count": null,
   "metadata": {},
   "outputs": [],
   "source": [
    "metric = 'fg3_rate'\n",
    "\n",
    "df.boxplot(column=metric, by='year', rot=90, figsize=(12, 6))\n",
    "plot_dubs(df, metric)"
   ]
  },
  {
   "cell_type": "markdown",
   "metadata": {},
   "source": [
    "### Decrease in Turnover Rate"
   ]
  },
  {
   "cell_type": "code",
   "execution_count": null,
   "metadata": {},
   "outputs": [],
   "source": [
    "metric = 'tov_rate'\n",
    "\n",
    "df.boxplot(column=metric, by='year', rot=90, figsize=(12, 6))\n",
    "plot_dubs(df, metric)"
   ]
  },
  {
   "cell_type": "markdown",
   "metadata": {},
   "source": [
    "### Varying Free Throw Rate"
   ]
  },
  {
   "cell_type": "code",
   "execution_count": null,
   "metadata": {
    "scrolled": true
   },
   "outputs": [],
   "source": [
    "metric = 'ft_rate'\n",
    "\n",
    "df.boxplot(column=metric, by='year', rot=90, figsize=(12, 6))\n",
    "plot_dubs(df, metric)"
   ]
  },
  {
   "cell_type": "markdown",
   "metadata": {},
   "source": [
    "### Steady 3 Point Rate"
   ]
  },
  {
   "cell_type": "code",
   "execution_count": null,
   "metadata": {},
   "outputs": [],
   "source": [
    "metric = 'fg3_pct'\n",
    "\n",
    "df.boxplot(column=metric, by='year', rot=90, figsize=(12, 6))\n",
    "plot_dubs(df, metric)"
   ]
  },
  {
   "cell_type": "markdown",
   "metadata": {},
   "source": [
    "### Decreasing Offensive Rebound Rate"
   ]
  },
  {
   "cell_type": "code",
   "execution_count": null,
   "metadata": {},
   "outputs": [],
   "source": [
    "metric = 'oreb_rate'\n",
    "\n",
    "df.boxplot(column=metric, by='year', rot=90, figsize=(12, 6))\n",
    "plot_dubs(df, metric)"
   ]
  },
  {
   "cell_type": "markdown",
   "metadata": {},
   "source": [
    "### Increasing Shooting Efficiency of Late"
   ]
  },
  {
   "cell_type": "code",
   "execution_count": null,
   "metadata": {},
   "outputs": [],
   "source": [
    "metric = 'ts_pct'\n",
    "\n",
    "df.boxplot(column=metric, by='year', rot=90, figsize=(12, 6))\n",
    "plot_dubs(df, metric)"
   ]
  },
  {
   "cell_type": "markdown",
   "metadata": {},
   "source": [
    "### Off. Rating with a Similar Pattern to TS%\n",
    "\n",
    "This should be clear since they are highly correlated."
   ]
  },
  {
   "cell_type": "code",
   "execution_count": null,
   "metadata": {},
   "outputs": [],
   "source": [
    "metric = 'off_rtg'\n",
    "\n",
    "df.boxplot(column=metric, by='year', rot=90, figsize=(12, 6))\n",
    "plot_dubs(df, metric)"
   ]
  },
  {
   "cell_type": "markdown",
   "metadata": {},
   "source": [
    "## Summary on Metrics and the NBA Evolution\n",
    "\n",
    "Among teams within an era, a metric with a higher correlation is better.  That is we should conclude FG% <= eFG% < TS%.\n",
    "\n",
    "However, across eras the gameplay changes so the metrics can change in correlation based on our thought experiments at the beginning.\n",
    "\n",
    "The changes across eras\n",
    "+ Teams are taking riskier/lower prob. shots (regardless of whether a 3 pointer has higher expected value)\n",
    "+ Teams are turning the ball over less\n",
    "+ Teams are grabbing fewer offensive rebounds\n",
    "+ Three effects that drive up correlation of the shooting percentages with Off. Rating\n",
    "+ The metrics aren’t better or worse due to changing era\n",
    "+ Instead, the change in correlation is more an indication that play has evolved: with more 3s being shot, increasing the make % is more important; with fewer turnovers and off. rebounds all around, teams need to score more efficiently with their shots/FTs\n",
    "\n",
    "At the player level, this doesn't encompass everything on offense (picks, passing, etc), but to a certain degree it does reinforce that a very poor shooter/scorer can become a big liability if relied on too much.  We see this problem in the extreme in the playoffs when teams deploy aggressive defensive tactics to force good players into tougher shots or bad players to take more shots."
   ]
  },
  {
   "cell_type": "markdown",
   "metadata": {},
   "source": [
    "## Game Simulation (if you're curious to dive deeper)\n",
    "\n",
    "We can observe the change in correlation in action through a simple simulation.  There are three simple steps of the simulation represented in the cell below\n",
    "1. Simulate a possession (the possession ignores Off. Reb)\n",
    "2. Simulate a game of 100 possessions\n",
    "3. Simulate a bunch of games"
   ]
  },
  {
   "cell_type": "code",
   "execution_count": null,
   "metadata": {},
   "outputs": [],
   "source": [
    "def simulate_possession(team_perf):\n",
    "    \"\"\"Simulate a simplified basketball possession\"\"\"\n",
    "    # Event probabilities\n",
    "    p = [\n",
    "        team_perf['fg2_rate'], \n",
    "        team_perf['fg3_rate'], \n",
    "        team_perf['ft_rate'], \n",
    "        team_perf['tov_rate']\n",
    "    ]\n",
    "    # Determine action: fg2, fg3, ft, tov\n",
    "    action = np.random.choice(['fg2', 'fg3', 'ft', 'tov'], p=p)\n",
    "    if action == 'fg2':\n",
    "        # shoot a 2 pt shot, make it with probability fg2_pct\n",
    "        return action, 2 * coin_flip(team_perf['fg2_pct'])\n",
    "    elif action == 'fg3':\n",
    "        # shoot a 3 pt shot, make it with probability fg3_pct\n",
    "        return action, 3 * coin_flip(team_perf['fg3_pct'])\n",
    "    elif action == 'ft':\n",
    "        # get fouled, make it with probability ft_pct\n",
    "        return action, coin_flip(team_perf['ft_pct']) + coin_flip(team_perf['ft_pct'])\n",
    "    else:\n",
    "        # turn the ball over, score nothing\n",
    "        return action, 0\n",
    "\n",
    "def simulate_game(team_perf, n_games=1):\n",
    "    \"\"\"Simulate a game of 100 possessions\"\"\"\n",
    "    game = []\n",
    "    # simulate 100 possessions\n",
    "    for _ in range(n_games * 100):\n",
    "        action, pts = simulate_possession(team_perf)\n",
    "        game.append({'action': action, 'pts': pts})\n",
    "    game = pd.DataFrame(game)\n",
    "    \n",
    "    # split up results\n",
    "    fgs = game.loc[game.action.str.contains('fg')]\n",
    "    fg3s = game.loc[game.action.str.contains('fg3')]\n",
    "    fts = game.loc[game.action.str.contains('ft')]\n",
    "    \n",
    "    # count quantities\n",
    "    fgm = np.count_nonzero(fgs['pts'])\n",
    "    fg3m = np.count_nonzero(fg3s['pts'])\n",
    "    fga = fgs.shape[0]\n",
    "    fta = 2 * fts.shape[0]\n",
    "    total_pts = game['pts'].sum()\n",
    "    \n",
    "    # compute statistics\n",
    "    fg_pct = fgm / fga\n",
    "    efg_pct = (fgm + .5 * fg3m) / fga\n",
    "    ts_pct = total_pts / (2 * (fga + .5 * fta))\n",
    "    off_rtg = total_pts / n_games\n",
    "\n",
    "    return {'fg_pct': fg_pct, 'efg_pct': efg_pct, 'ts_pct': ts_pct, 'off_rtg': off_rtg}\n",
    "\n",
    "def simulation(team_perf, n):\n",
    "    \"\"\"Simulation of n games\"\"\"\n",
    "    results = []\n",
    "    # Simulate n games\n",
    "    for _ in range(n):\n",
    "        results.append(simulate_game(team_perf))\n",
    "    results = pd.DataFrame(results)\n",
    "    return results[['fg_pct', 'efg_pct', 'ts_pct', 'off_rtg']]"
   ]
  },
  {
   "cell_type": "code",
   "execution_count": null,
   "metadata": {},
   "outputs": [],
   "source": [
    "def print_sim_results(sim_results):\n",
    "    print(\"Correlations in simulation\")\n",
    "    print(\"==========================\")\n",
    "    c = correlation(sim_results['fg_pct'], sim_results['off_rtg'])\n",
    "    print(f\"Corr. FG% vs Off. Rating:  {c:.3f}\")\n",
    "    c = correlation(sim_results['efg_pct'], sim_results['off_rtg'])\n",
    "    print(f\"Corr. eFG% vs Off. Rating: {c:.3f}\")\n",
    "    c = correlation(sim_results['ts_pct'], sim_results['off_rtg'])\n",
    "    print(f\"Corr. TS% vs Off. Rating:  {c:.3f}\")\n",
    "    print()"
   ]
  },
  {
   "cell_type": "markdown",
   "metadata": {},
   "source": [
    "## Correlation of Metrics for an Average Team\n",
    "\n",
    "We get our expected ordering of FG%, eFG%, and TS%.  The correlations are higher than we've seen but that's not a huge issue."
   ]
  },
  {
   "cell_type": "code",
   "execution_count": null,
   "metadata": {},
   "outputs": [],
   "source": [
    "cols = ['year', 'fg2_rate', 'fg3_rate', 'ft_rate', 'tov_rate', 'fg2_pct', 'fg3_pct', 'ft_pct']\n",
    "\n",
    "perfs = df[cols].groupby('year').mean()\n",
    "avg_perf_2017 = perfs.loc[2017]\n",
    "avg_perf_2017"
   ]
  },
  {
   "cell_type": "code",
   "execution_count": null,
   "metadata": {},
   "outputs": [],
   "source": [
    "sim_results = simulation(avg_perf_2017, 1000)\n",
    "print_sim_results(sim_results)"
   ]
  },
  {
   "cell_type": "code",
   "execution_count": null,
   "metadata": {},
   "outputs": [],
   "source": [
    "pd.plotting.scatter_matrix(sim_results, figsize=(12, 12));"
   ]
  },
  {
   "cell_type": "markdown",
   "metadata": {},
   "source": [
    "## Guaranteed 2-pt Shot\n",
    "\n",
    "Let's see what drives correlation.  First, let's consider a game where if a shot is taken, it is guaranteed to go in.  We end up finding the correlations are 0."
   ]
  },
  {
   "cell_type": "code",
   "execution_count": null,
   "metadata": {},
   "outputs": [],
   "source": [
    "perf = pd.Series({\n",
    "    'fg2_rate': 0.85, \n",
    "    'fg3_rate': 0.,\n",
    "    'ft_rate': 0.,\n",
    "    'tov_rate': 0.15,\n",
    "    'fg2_pct': 1.,  # guaranteed shot\n",
    "    'fg3_pct': 0.,\n",
    "    'ft_pct': 0.76\n",
    "})\n",
    "\n",
    "sim_results = simulation(perf, 1000)\n",
    "print_sim_results(sim_results)"
   ]
  },
  {
   "cell_type": "markdown",
   "metadata": {},
   "source": [
    "## 2-pt Shot is Low Probability\n",
    "\n",
    "Now let's consider a game where if a shot is taken, it has a low probability of going in.  The correlations are incredibly high."
   ]
  },
  {
   "cell_type": "code",
   "execution_count": null,
   "metadata": {},
   "outputs": [],
   "source": [
    "perf = pd.Series({\n",
    "    'fg2_rate': 0.85, \n",
    "    'fg3_rate': 0.,\n",
    "    'ft_rate': 0.,\n",
    "    'tov_rate': 0.15,\n",
    "    'fg2_pct': .1,  # low probability\n",
    "    'fg3_pct': 0.,\n",
    "    'ft_pct': 0.76\n",
    "})\n",
    "\n",
    "sim_results = simulation(perf, 1000)\n",
    "print_sim_results(sim_results)"
   ]
  },
  {
   "cell_type": "markdown",
   "metadata": {},
   "source": [
    "## 2-pt vs 3-pt Shot\n",
    "\n",
    "If 2s and 3s go in at the exact same rate, would it matter for correlation if more 2-pt or 3-pt shots are taken? \n",
    "\n",
    "Nope.  It turns out it wouldn't matter.  If you run the next two cells for 1000 games, you'll see the correlations are close but a bit different.  If you want, change it to 10000 and let it run for a bit (it'll take 10x as long, naturally).  The correlations will get even closer, empirically validating that the value of the shot doesn't matter.\n"
   ]
  },
  {
   "cell_type": "code",
   "execution_count": null,
   "metadata": {},
   "outputs": [],
   "source": [
    "# Note! this cell will take a while if you increase the number of simulations\n",
    "\n",
    "perf = pd.Series({\n",
    "    'fg2_rate': 0.85,  # all 2-pt shots\n",
    "    'fg3_rate': 0.,\n",
    "    'ft_rate': 0.,\n",
    "    'tov_rate': 0.15,\n",
    "    'fg2_pct': .5,\n",
    "    'fg3_pct': .5,\n",
    "    'ft_pct': 0.76\n",
    "})\n",
    "\n",
    "sim_results = simulation(perf, 1000)\n",
    "print_sim_results(sim_results)"
   ]
  },
  {
   "cell_type": "code",
   "execution_count": null,
   "metadata": {},
   "outputs": [],
   "source": [
    "# Note! this cell will take a while if you increase the number of simulations\n",
    "\n",
    "perf = pd.Series({\n",
    "    'fg2_rate': 0., \n",
    "    'fg3_rate': 0.85, # all 3-pt shots\n",
    "    'ft_rate': 0.,\n",
    "    'tov_rate': 0.15,\n",
    "    'fg2_pct': .5,\n",
    "    'fg3_pct': .5,\n",
    "    'ft_pct': 0.76\n",
    "})\n",
    "\n",
    "sim_results = simulation(perf, 1000)\n",
    "print_sim_results(sim_results)"
   ]
  }
 ],
 "metadata": {
  "kernelspec": {
   "display_name": "Python 3",
   "language": "python",
   "name": "python3"
  },
  "language_info": {
   "codemirror_mode": {
    "name": "ipython",
    "version": 3
   },
   "file_extension": ".py",
   "mimetype": "text/x-python",
   "name": "python",
   "nbconvert_exporter": "python",
   "pygments_lexer": "ipython3",
   "version": "3.6.5"
  }
 },
 "nbformat": 4,
 "nbformat_minor": 2
}
