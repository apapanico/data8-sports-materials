{
 "cells": [
  {
   "cell_type": "markdown",
   "metadata": {},
   "source": [
    "# Demo - Linear Weights and wOBA\n",
    "\n",
    "In the demo on RE24, we directly attributed RE24 to a player by computing the total RE24 the player produced over the season.  Instead, we can try to even out their perfomance by weighting each event the same by completely ignoring the context of the event.  This allows us to avoid the pitfalls we saw previously where it seemed nearly impossible to tell whether environment or ability was driving production.  By doing this, we completely remove environment in which the hitter was hitting in and get a performance compared to overall average!\n",
    "\n",
    "We'll use the RE24 values to construct the _Linear Weights_, or _LWTS_, values.  For each `Event_Type` we can compute the average value for each type of event. We use then show how LWTS forms the basis for the advanced statistic _wOBA_ (Weighted On-Base Average) we saw in the offensive metrics demo.\n",
    "\n",
    "A single can have different RE24 outcomes according to different out/baserunner situations so the average weights these outcome values according to the frequency with which the situations occur.  This way, we do not under value a single that occurs with no runners on and doesn't score a run or over value a single that occurs with the bases loaded.  We want them to be valued equally so we average to smooth everything out.\n"
   ]
  },
  {
   "cell_type": "markdown",
   "metadata": {},
   "source": [
    "## Setup"
   ]
  },
  {
   "cell_type": "code",
   "execution_count": null,
   "metadata": {},
   "outputs": [],
   "source": [
    "%run ../../utils/notebook_setup.py"
   ]
  },
  {
   "cell_type": "code",
   "execution_count": null,
   "metadata": {},
   "outputs": [],
   "source": [
    "from datascience import Table, are\n",
    "import numpy as np\n",
    "\n",
    "# custom functions that will help do some simple tasks\n",
    "from datascience_utils import *\n",
    "from datascience_stats import *"
   ]
  },
  {
   "cell_type": "markdown",
   "metadata": {},
   "source": [
    "## Load Data\n",
    "\n",
    "We need the RE24 values for each event in the play-by-play retrosheet dataset.  We computed these values in the last demo so we can load the saved results.  "
   ]
  },
  {
   "cell_type": "code",
   "execution_count": null,
   "metadata": {},
   "outputs": [],
   "source": [
    "retro = Table.read_table('retrosheet_with_re24-2017.csv.gz', sep=',')"
   ]
  },
  {
   "cell_type": "code",
   "execution_count": null,
   "metadata": {},
   "outputs": [],
   "source": [
    "retro.show(10)"
   ]
  },
  {
   "cell_type": "markdown",
   "metadata": {},
   "source": [
    "## 1. RE24 Values\n",
    "\n",
    "We know that an plate appearance event, say a single, can have different RE24 values depending on the situation. What do all those various values look like though? "
   ]
  },
  {
   "cell_type": "markdown",
   "metadata": {},
   "source": [
    "### A. RE24 Histogram for a Single\n",
    "\n",
    "We start with a single.  Most of the time the single produces run values under .5.  Occasionally it can produce run values between .5 and 1, while much rarer will it produce a run value well above 1 or even negative."
   ]
  },
  {
   "cell_type": "code",
   "execution_count": null,
   "metadata": {},
   "outputs": [],
   "source": [
    "bins = np.arange(-1, 2, .1)\n",
    "\n",
    "# Histogram of 1B RE24 values\n",
    "retro.select('Event_Type', 'RE24').\\\n",
    "    where('Event_Type', '1B').\\\n",
    "    hist('RE24', bins=bins)"
   ]
  },
  {
   "cell_type": "markdown",
   "metadata": {},
   "source": [
    "### B. RE24 Histogram for a Homerun\n",
    "\n",
    "We know a homerun scores at least 1 run and clears the bases.  Clearing the bases naturallty reduces the run expectancy but unless something insane happens in our dataset, every homerun should have an RE24 value $\\geq 1$.\n",
    "\n"
   ]
  },
  {
   "cell_type": "code",
   "execution_count": null,
   "metadata": {},
   "outputs": [],
   "source": [
    "bins = np.arange(1., 4, .1)\n",
    "\n",
    "# Histogram of HR RE24 values\n",
    "retro.select('Event_Type', 'RE24').\\\n",
    "    where('Event_Type', 'HR').\\\n",
    "    hist('RE24', bins=bins)"
   ]
  },
  {
   "cell_type": "markdown",
   "metadata": {},
   "source": [
    "### C. Generic Outs vs Strikeouts\n",
    "\n",
    "A generic out is when a batter makes contact with the ball and is put out by the defense.  A strikeout is when a batter fails to make a contact (or doesn't swing) and is out on 3 strikes.\n",
    "\n",
    "Our intuition would say the generic out is better than a strikeout because you are putting the ball in play so positive outcomes could still occur (ie. runner advancement).  "
   ]
  },
  {
   "cell_type": "code",
   "execution_count": null,
   "metadata": {},
   "outputs": [],
   "source": [
    "bins = np.arange(-2., 2, .1)\n",
    "\n",
    "# Histogram of Out RE24 values\n",
    "retro.select('Event_Type', 'RE24').\\\n",
    "    where('Event_Type', 'Generic out').\\\n",
    "    hist('RE24', bins=bins)"
   ]
  },
  {
   "cell_type": "markdown",
   "metadata": {},
   "source": [
    "Putting the ball in produces errors and other events but in terms of outs, there is little difference to a strikeout."
   ]
  },
  {
   "cell_type": "code",
   "execution_count": null,
   "metadata": {},
   "outputs": [],
   "source": [
    "# Histogram of K RE24 values\n",
    "retro.select('Event_Type', 'RE24').\\\n",
    "    where('Event_Type', 'K').\\\n",
    "    hist('RE24', bins=bins)"
   ]
  },
  {
   "cell_type": "markdown",
   "metadata": {},
   "source": [
    "## 2. Event Run Values\n",
    "\n",
    "We compute the weights for each event by averaging its RE24 values:\n",
    "$$\n",
    "    \\text{Linear Weight for Event Type $E$} = \\frac{1}{\\text{# of Events $E$}}\n",
    "        \\sum \\text{RE24 for $i$-th Event $E$}\n",
    "$$\n",
    "\n",
    "These weights form the run values for the events in _Linear Weights_, often abbreviated _LWTS_."
   ]
  },
  {
   "cell_type": "code",
   "execution_count": null,
   "metadata": {},
   "outputs": [],
   "source": [
    "# Group by event type and average\n",
    "lwts = retro.select('Event_Type', 'RE24').\\\n",
    "    group('Event_Type', np.mean)\n",
    "lwts.relabel('RE24 mean', 'RE24')\n",
    "lwts.sort('RE24').show()"
   ]
  },
  {
   "cell_type": "markdown",
   "metadata": {},
   "source": [
    "_Questions_\n",
    "\n",
    "1. What units are the weight values in?\n",
    "2. What does the weight value represent?  \n",
    "3. Why do events that produce outs have negative values and events that produce baserunners have positive values?\n",
    "4. Relatedly, what would a value of 0 mean?"
   ]
  },
  {
   "cell_type": "markdown",
   "metadata": {},
   "source": [
    "## 3. wRAA/Linear Weights\n",
    "\n",
    "Now that we have weights for each event, we can compute a statistic called _Weighted Runs Above Average_, or _wRAA_.  This statistic sometimes is also known as _Batting Runs_, which was developed by Pete Palmer.  Fangraphs uses the name wRAA.  This is also known as _Linear Weights_ or _LWTS_.\n",
    "\n",
    "wRAA is computed by using the season totals for a player and summing the contributions."
   ]
  },
  {
   "cell_type": "code",
   "execution_count": null,
   "metadata": {},
   "outputs": [],
   "source": [
    "def get_weight(lwts, event):\n",
    "    \"\"\"Extract the linear weight for event\"\"\"\n",
    "    return lwts.where('Event_Type', event)['RE24'].item()"
   ]
  },
  {
   "cell_type": "code",
   "execution_count": null,
   "metadata": {},
   "outputs": [],
   "source": [
    "get_weight(lwts, 'K')"
   ]
  },
  {
   "cell_type": "markdown",
   "metadata": {},
   "source": [
    "### A. Load 2017 Player Data\n",
    "\n",
    "We load the 2017 player data from the Lahman dataset."
   ]
  },
  {
   "cell_type": "code",
   "execution_count": null,
   "metadata": {},
   "outputs": [],
   "source": [
    "players = Table.read_table('players_2017.csv', sep=',')\n",
    "\n",
    "# Compute plate appearances and 1B\n",
    "players['PA'] = players['AB'] + players['HBP'] + players['IBB'] + players['BB'] + players['SH'] + players['SF']\n",
    "players['1B'] = players['H'] - players['2B'] - players['3B'] - players['3B'] - players['HR']\n",
    "# Compute generic outs, approximately. We can't handle RBOE with the Lahman data\n",
    "players['O'] = players['AB'] - players['H'] - players['SO']"
   ]
  },
  {
   "cell_type": "code",
   "execution_count": null,
   "metadata": {},
   "outputs": [],
   "source": [
    "players.show(5)"
   ]
  },
  {
   "cell_type": "markdown",
   "metadata": {},
   "source": [
    "### B. Compute wRAA\n",
    "\n",
    "We use the weight values and the season counts for each player to compute their wRAA value."
   ]
  },
  {
   "cell_type": "code",
   "execution_count": null,
   "metadata": {},
   "outputs": [],
   "source": [
    "players['wRAA'] = \\\n",
    "    get_weight(lwts, 'Generic out') * players['O'] + \\\n",
    "    get_weight(lwts, 'K') * players['SO'] + \\\n",
    "    get_weight(lwts, 'IBB') * players['IBB'] + \\\n",
    "    get_weight(lwts, 'BB') * players['BB'] + \\\n",
    "    get_weight(lwts, 'HBP') * players['HBP'] + \\\n",
    "    get_weight(lwts, '1B') * players['1B'] + \\\n",
    "    get_weight(lwts, '2B') * players['2B'] + \\\n",
    "    get_weight(lwts, '3B') * players['3B'] + \\\n",
    "    get_weight(lwts, 'HR') * players['HR']"
   ]
  },
  {
   "cell_type": "code",
   "execution_count": null,
   "metadata": {},
   "outputs": [],
   "source": [
    "players.sort('wRAA', descending=True).show(15)"
   ]
  },
  {
   "cell_type": "markdown",
   "metadata": {},
   "source": [
    "_Questions_\n",
    "1. What are the units for wRAA?\n",
    "2. What does a value of 0 mean?  Is 0 bad?\n",
    "3. Is wRAA a count or rate statistic?"
   ]
  },
  {
   "cell_type": "markdown",
   "metadata": {},
   "source": [
    "### C. wRAA vs Total RE24\n",
    "\n",
    "We saw that RE24 is a way to meaure total run production by a player.  wRAA is another way to measure total run production, but because it relies on the Linear Weights it is context/situation independent.\n",
    "\n",
    "We recompute total RE24 for batters and we'll compare it to wRAA."
   ]
  },
  {
   "cell_type": "code",
   "execution_count": null,
   "metadata": {},
   "outputs": [],
   "source": [
    "# Collect totals by batter\n",
    "batter_re24 = retro.select('Batter_ID', 'Run_Expectancy', 'RE24').\\\n",
    "    group('Batter_ID', collect=sum)\n",
    "batter_re24.relabel(['Run_Expectancy sum', 'RE24 sum'], ['Run_Expectancy', 'RE24'])\n",
    "# Sort and display the top 10\n",
    "batter_re24.sort('RE24', descending=True).\\\n",
    "    show(10)"
   ]
  },
  {
   "cell_type": "markdown",
   "metadata": {},
   "source": [
    "#### Joining wRAA and RE24\n",
    "\n",
    "Unfortunately, the Lahman dataset and the Retrosheet dataset use different identifier tags for players.  Fortunately, a master table is available online to link the identifier tags to a player.  We'll use that master table now."
   ]
  },
  {
   "cell_type": "code",
   "execution_count": null,
   "metadata": {},
   "outputs": [],
   "source": [
    "# Load the master table for linking identifier tags from different sites\n",
    "master = Table.read_table('master.csv')\n",
    "master.show(5)"
   ]
  },
  {
   "cell_type": "code",
   "execution_count": null,
   "metadata": {},
   "outputs": [],
   "source": [
    "# Join the RE24 and wRAA results\n",
    "# 1. Join master to players on the Lahman ID\n",
    "# 2. Join the result from 1 with the RE24 table on the Retrosheet ID\n",
    "# 3. Subset the columns we care about\n",
    "batter_data = master.join('lahman_id', players, other_label='playerID').\\\n",
    "    join('retro_id', batter_re24, other_label='Batter_ID').\\\n",
    "    select('mlb_name', 'PA', 'RBI', 'Run_Expectancy', 'RE24', 'wRAA')"
   ]
  },
  {
   "cell_type": "markdown",
   "metadata": {},
   "source": [
    "batter_data.sort('wRAA', descending=True).show(15)"
   ]
  },
  {
   "cell_type": "markdown",
   "metadata": {},
   "source": [
    "#### RE24 vs wRAA\n",
    "\n",
    "We can generate a scatter plot to compare the two production measures.  If one looks really closely, one can potentially guess that wRAA appears to estimate production higher than RE24.  We should be hesitant to read too much into this for now: we have been computing wRAA via the Lahman data, which is known to not be totally comprehensive.  "
   ]
  },
  {
   "cell_type": "code",
   "execution_count": null,
   "metadata": {},
   "outputs": [],
   "source": [
    "batter_data.scatter('RE24', 'wRAA')"
   ]
  },
  {
   "cell_type": "markdown",
   "metadata": {},
   "source": [
    "## 4. wOBA\n",
    "\n",
    "Recall wOBA, which is one of the premier advanced stats out there.  \n",
    "\n",
    "The formula for wOBA is given by,\n",
    "$$\n",
    "    \\mathit{wOBA} =\n",
    "    \\frac{0.72\\cdot \\mathit{BB} + 0.75\\cdot \\mathit{HBP} + 0.90\\cdot \\mathit{1B} + 1.24\\cdot\\mathit{2B} + 1.56\\cdot\\mathit{3B} + 1.95\\cdot\\mathit{HR}}{\\mathit{PA}}\n",
    "$$\n",
    "\n",
    "So how do we derive the wOBA weights?  First, we should notice that wOBA does not penalize outs.  Like BA, OBP, and SLG, wOBA sets the value of an out at 0 and weights events relative to that.  "
   ]
  },
  {
   "cell_type": "markdown",
   "metadata": {},
   "source": [
    "### A. Value Relative to an Out\n",
    "\n",
    "We subtract the value of a generic out to determine the relative run value of an event relative to an out."
   ]
  },
  {
   "cell_type": "code",
   "execution_count": null,
   "metadata": {},
   "outputs": [],
   "source": [
    "rel_weight_BB = get_weight(lwts, 'BB') - get_weight(lwts, 'Generic out')\n",
    "rel_weight_HBP = get_weight(lwts, 'HBP') - get_weight(lwts, 'Generic out')\n",
    "rel_weight_1B = get_weight(lwts, '1B') - get_weight(lwts, 'Generic out')\n",
    "rel_weight_2B = get_weight(lwts, '2B') - get_weight(lwts, 'Generic out')\n",
    "rel_weight_3B = get_weight(lwts, '3B') - get_weight(lwts, 'Generic out')\n",
    "rel_weight_HR = get_weight(lwts, 'HR') - get_weight(lwts, 'Generic out')"
   ]
  },
  {
   "cell_type": "code",
   "execution_count": null,
   "metadata": {},
   "outputs": [],
   "source": [
    "# Print the relative weights\n",
    "print(f\"BB:  {rel_weight_BB:.3f}\")\n",
    "print(f\"HBP: {rel_weight_HBP:.3f}\")\n",
    "print(f\"1B:  {rel_weight_1B:.3f}\")\n",
    "print(f\"2B:  {rel_weight_2B:.3f}\")\n",
    "print(f\"3B:  {rel_weight_3B:.3f}\")\n",
    "print(f\"HR:  {rel_weight_HR:.3f}\")"
   ]
  },
  {
   "cell_type": "markdown",
   "metadata": {},
   "source": [
    "### B. wOBA Scale\n",
    "\n",
    "The wOBA weights for 2017 on Fangraphs (https://www.fangraphs.com/guts.aspx?type=cn) are\n",
    "\n",
    "\n",
    "| Event | BB | HBP | 1B |  2B |  3B |  HR |\n",
    "| ----- |----|-----|----|-----|-----|-----|\n",
    "| Value |.693|.723 |.877|1.232|1.552|1.980|\n",
    "\t\n",
    "So why are our values so different?  The wOBA Scale.\n",
    "\n",
    "First, we should note that,\n",
    "1. The linear weights are run values above average.  If you produce a 0 wRAA, you produced runs at the average rate.  \n",
    "2. Subtracting the value of the out produces a relative value.  This relative value tells you how much your wRAA would increase if you converted one of your outs to another event.\n",
    "\n",
    "So wRAA and the relative values should all make sense, but they're just not that informative for the general public. \n",
    "\n",
    "In order to facilitate an appreciation for wOBA, we can adjust wOBA so that it looks and feels similar to OBP but is actually better.  How do we do that?  We scale the weights so that league average wOBA is equal to league average OBP (typically around .320 or so).  Adjusting like this does nothing to the power of wOBA, it just changes it so that a player with a wOBA of .320 is around average."
   ]
  },
  {
   "cell_type": "code",
   "execution_count": null,
   "metadata": {},
   "outputs": [],
   "source": [
    "# wOBA scale for 2017 from FanGraphs\n",
    "woba_scale = 1.185"
   ]
  },
  {
   "cell_type": "markdown",
   "metadata": {},
   "source": [
    "Using the wOBA scale from FanGraphs, we get something that is basically identical.  We're unable to replicate their work indentically because of many individual, intricate steps but we're close enough."
   ]
  },
  {
   "cell_type": "code",
   "execution_count": null,
   "metadata": {},
   "outputs": [],
   "source": [
    "# Print the wOBA weights\n",
    "print(f\"BB:  {woba_scale * rel_weight_BB:.3f}\")\n",
    "print(f\"HBP: {woba_scale * rel_weight_HBP:.3f}\")\n",
    "print(f\"1B:  {woba_scale * rel_weight_1B:.3f}\")\n",
    "print(f\"2B:  {woba_scale * rel_weight_2B:.3f}\")\n",
    "print(f\"3B:  {woba_scale * rel_weight_3B:.3f}\")\n",
    "print(f\"HR:  {woba_scale * rel_weight_HR:.3f}\")"
   ]
  }
 ],
 "metadata": {
  "kernelspec": {
   "display_name": "Python 3",
   "language": "python",
   "name": "python3"
  },
  "language_info": {
   "codemirror_mode": {
    "name": "ipython",
    "version": 3
   },
   "file_extension": ".py",
   "mimetype": "text/x-python",
   "name": "python",
   "nbconvert_exporter": "python",
   "pygments_lexer": "ipython3",
   "version": "3.6.5"
  }
 },
 "nbformat": 4,
 "nbformat_minor": 2
}
