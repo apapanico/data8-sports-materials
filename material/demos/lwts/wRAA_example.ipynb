{
 "cells": [
  {
   "cell_type": "code",
   "execution_count": 5,
   "metadata": {},
   "outputs": [
    {
     "data": {
      "text/plain": [
       "<matplotlib.axes._subplots.AxesSubplot at 0x10b7bb2e8>"
      ]
     },
     "execution_count": 5,
     "metadata": {},
     "output_type": "execute_result"
    },
    {
     "data": {
      "image/png": "[encoded data removed]",
      "text/plain": [
       "<Figure size 432x288 with 1 Axes>"
      ]
     },
     "metadata": {
      "needs_background": "light"
     },
     "output_type": "display_data"
    }
   ],
   "source": [
    "%matplotlib inline\n",
    "\n",
    "import pandas as pd\n",
    "import matplotlib.pyplot as plt\n",
    "\n",
    "df = pd.read_csv('~/Repos/data8-sports-data/mlb/fg/player_stats_2017.csv.gz')\n",
    "df['wraa'] = (.31 * df['BB'] + .33 * df['HBP'] + .45 * df['1B'] + .78 * df['2B'] + 1.06 * df['3B'] + 1.38 * df['HR']) / df['PA']\n",
    "df['wraa_nobb'] = (.45 * df['1B'] + .78 * df['2B'] + 1.06 * df['3B'] + 1.38 * df['HR']) / df['AB']\n",
    "df['wraa_diff'] = df['wraa'] - df['wraa_nobb']\n",
    "df['wraa_diff'].hist(bins=50)"
   ]
  }
 ],
 "metadata": {
  "kernelspec": {
   "display_name": "Python 3",
   "language": "python",
   "name": "python3"
  },
  "language_info": {
   "codemirror_mode": {
    "name": "ipython",
    "version": 3
   },
   "file_extension": ".py",
   "mimetype": "text/x-python",
   "name": "python",
   "nbconvert_exporter": "python",
   "pygments_lexer": "ipython3",
   "version": "3.6.5"
  }
 },
 "nbformat": 4,
 "nbformat_minor": 2
}
