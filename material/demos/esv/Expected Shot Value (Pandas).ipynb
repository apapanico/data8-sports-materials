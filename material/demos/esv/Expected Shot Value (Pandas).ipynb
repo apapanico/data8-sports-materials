{
 "cells": [
  {
   "cell_type": "markdown",
   "metadata": {},
   "source": [
    "# Expected Shot Value \n",
    "## Spatial Modeling for NBA Shots\n",
    "\n",
    "We should expect that two important drivers of the likelihood of making a shot are the shot distance and how near the closest defender is.  Using data obtained from NBA.com for the 2014-2015 season, this demo explores how you can build an expected value model for shooting."
   ]
  },
  {
   "cell_type": "markdown",
   "metadata": {},
   "source": [
    "## Setup and Load Data"
   ]
  },
  {
   "cell_type": "code",
   "execution_count": null,
   "metadata": {},
   "outputs": [],
   "source": [
    "%run ../../utils/notebook_setup.py"
   ]
  },
  {
   "cell_type": "code",
   "execution_count": null,
   "metadata": {},
   "outputs": [],
   "source": [
    "%matplotlib inline\n",
    "import pandas as pd\n",
    "import numpy as np\n",
    "\n",
    "from datascience_utils import hexbin_plot, sorted_boxplot\n",
    "from datascience_topic import build_expected_value_from_hexbin"
   ]
  },
  {
   "cell_type": "code",
   "execution_count": null,
   "metadata": {},
   "outputs": [],
   "source": [
    "df = pd.read_csv('shot_logs_2014_15.csv.gz')"
   ]
  },
  {
   "cell_type": "code",
   "execution_count": null,
   "metadata": {},
   "outputs": [],
   "source": [
    "df.head()"
   ]
  },
  {
   "cell_type": "code",
   "execution_count": null,
   "metadata": {},
   "outputs": [],
   "source": [
    "df.info()"
   ]
  },
  {
   "cell_type": "markdown",
   "metadata": {},
   "source": [
    "## Defender Distance\n",
    "There are lots of things you could do with this data but let's just jump right in with defender distance.\n",
    "\n",
    "We use the 1ft buckets in `CLOSE_DEF_DIST_ROUNDED` to compute FG% as a function of defender distance.\n",
    "\n",
    "After grouping, we plot the relation and... wait, why does defender distance not seem to matter!?\n",
    "\n",
    "_Question_\n",
    "+ What might explain this seeming lack of relationship?  Does shot type matter?  Anything else?"
   ]
  },
  {
   "cell_type": "code",
   "execution_count": null,
   "metadata": {},
   "outputs": [],
   "source": [
    "result = df.groupby('CLOSE_DEF_DIST_ROUNDED').\\\n",
    "    agg({'SHOT_RESULT_BIN': np.mean})\n",
    "\n",
    "fig, ax = plt.subplots()\n",
    "result.loc[:14].plot(label=\"All Shots\", ax=ax)\n",
    "ax.set_ylabel('Shooting Pct')\n",
    "ax.set_xlabel(\"Closest Defender Distance (ft)\")\n",
    "ax.set_ylim(0, .7)\n",
    "ax.legend();"
   ]
  },
  {
   "cell_type": "markdown",
   "metadata": {},
   "source": [
    "Okay, now we separate by shot type.  Clearly defender distance is a big deal for 3pt shots.  But it still doesn't seem that important for 2pt shots.\n",
    "\n",
    "_Question_\n",
    "+ Should 2pt shooting % be immune defender distance?  Why or why not?  Is there something else missing?"
   ]
  },
  {
   "cell_type": "code",
   "execution_count": null,
   "metadata": {},
   "outputs": [],
   "source": [
    "result = df.groupby(['PTS_TYPE', 'CLOSE_DEF_DIST_ROUNDED']).\\\n",
    "    agg({'SHOT_RESULT_BIN': np.mean})\n",
    "    \n",
    "fig, ax = plt.subplots()\n",
    "result.loc[2].loc[:14].plot(label='2pt', ax=ax)\n",
    "result.loc[3].loc[:14].plot(label='3pt', ax=ax)\n",
    "ax.set_ylabel('Shooting Pct')\n",
    "ax.set_xlabel(\"Closest Defender Distance (ft)\")\n",
    "ax.set_ylim(0, .7)\n",
    "ax.legend();"
   ]
  },
  {
   "cell_type": "markdown",
   "metadata": {},
   "source": [
    "## Shot Distance\n",
    "\n",
    "We can quickly visualize the variability in shot distance with a pair of histogram plots.  The distance of the NBA 3pt line is not uniform but generally you see the overall pattern of shots."
   ]
  },
  {
   "cell_type": "code",
   "execution_count": null,
   "metadata": {},
   "outputs": [],
   "source": [
    "nbins = 150\n",
    "alpha = .5\n",
    "\n",
    "dist_mask = df['SHOT_DIST'] <= 30\n",
    "twopt = df['PTS_TYPE'] == 2\n",
    "ax = df.loc[twopt & dist_mask].hist('SHOT_DIST', bins=nbins, alpha=alpha)\n",
    "\n",
    "threept = df['PTS_TYPE'] == 3\n",
    "df.loc[threept & dist_mask].hist('SHOT_DIST', bins=nbins, color='C1', alpha=alpha, ax=ax);"
   ]
  },
  {
   "cell_type": "markdown",
   "metadata": {},
   "source": [
    "We can group by shot type and shot distance (rounded to nearest half foot) to get a feel for how shooting percentage varies with shot distance.  Obviously close in shots are layups/dunks that are almost always converted."
   ]
  },
  {
   "cell_type": "code",
   "execution_count": null,
   "metadata": {},
   "outputs": [],
   "source": [
    "result = df.groupby(['PTS_TYPE', 'SHOT_DIST_ROUNDED']).\\\n",
    "    agg({'SHOT_RESULT_BIN': np.mean}).\\\n",
    "    sort_index(level=0)\n",
    "\n",
    "fig, ax = plt.subplots()\n",
    "result.loc[2].loc[:24].plot(label='2pt', ax=ax)\n",
    "result.loc[3].loc[21:29].plot(label='3pt', ax=ax)\n",
    "ax.set_ylabel('Shooting Pct')\n",
    "ax.set_xlabel(\"Shot Distance (ft)\")\n",
    "ax.set_ylim(0, .7)\n",
    "ax.legend();"
   ]
  },
  {
   "cell_type": "markdown",
   "metadata": {},
   "source": [
    "## Shot Distance and Defender Distance\n",
    "\n",
    "Okay, we saw defender distance mattered for 3s and shot distance matters.  Let's combine the two.  We use the shot distance buckets in `SHOT_DIST_BUCKET` as well as the rounded defender distance to show how shooting percentage varies both in shot distance and defender distance."
   ]
  },
  {
   "cell_type": "code",
   "execution_count": null,
   "metadata": {},
   "outputs": [],
   "source": [
    "result = df.groupby(['SHOT_DIST_BUCKET', 'CLOSE_DEF_DIST_ROUNDED']).\\\n",
    "    agg({'SHOT_RESULT_BIN': np.mean})\n",
    "\n",
    "shot_buckets = ['0-3', '3-10', '10-16', '16-3pt', '3pt']\n",
    "fig, ax = plt.subplots()\n",
    "for bucket in shot_buckets:\n",
    "    result.loc[bucket].loc[:14].plot(label=bucket, ax=ax)\n",
    "\n",
    "ax.set_ylabel('Shooting Pct')\n",
    "ax.set_xlabel(\"Closest Defender Distance (ft)\")\n",
    "ax.set_ylim(0, 1.03)\n",
    "ax.legend(bbox_to_anchor=(1.02, 1.02));"
   ]
  },
  {
   "cell_type": "markdown",
   "metadata": {},
   "source": [
    "### Hexbin Plot\n",
    "\n",
    "We can view the relationship between the in more continuous space with a hexbin plot.  A hexbin plot segments the space and all shots that lie within a hexagon will be grouped together.  Then within that hexagon, we will compute the shooting percentage.  We can see how regardless of shot distance, the defender distance near 0 drives down shooting percentage at that distance from the basket.\n",
    "\n",
    "_Question_\n",
    "+ Why are there some spots that are extra dark or white that don't really fit with the general pattern?\n",
    "+ What is going on with that spike on the left side?  What kind of shot has a high percentage, is near the basket, and has no defender nearby?"
   ]
  },
  {
   "cell_type": "code",
   "execution_count": null,
   "metadata": {},
   "outputs": [],
   "source": [
    "hexbin_fgpct_plot = hexbin_plot(\n",
    "    df.loc[(df.SHOT_DIST <= 30)],\n",
    "    'SHOT_DIST',\n",
    "    'CLOSE_DEF_DIST',\n",
    "    C='SHOT_RESULT_BIN',\n",
    "    collect=np.mean,\n",
    "    gridsize=20,\n",
    "    figsize=(8, 6),\n",
    "    cmap='viridis',\n",
    "    mincnt=5,\n",
    "    vmin=0.2,\n",
    "    vmax=0.8\n",
    ")\n",
    "hexbin_fgpct_plot.tick_params(reset=True)\n",
    "hexbin_fgpct_plot.set_ylabel(\"Defender Dist (ft)\")\n",
    "hexbin_fgpct_plot.set_xlabel(\"Shot Dist (ft)\")\n",
    "cax = plt.gcf().get_axes()[1]\n",
    "cax.set_yticklabels(['< 0.2', '0.3', '0.4', '0.5', '0.6', '0.7', '> 0.8']);"
   ]
  },
  {
   "cell_type": "markdown",
   "metadata": {},
   "source": [
    "## Expected Shot Value\n",
    "\n",
    "We can do the same hexbin plot but compute (approximate) expected points.  This makes more sense due to the 3pt line and represents a shooting efficiency due to the variable value of shots.  Note that since some 3pt shots are in the corner and thus < 23' 9\" away from the basket, this is only approximate.  There's a better way to compute ESV.\n",
    "\n",
    "_Question_\n",
    "+ What does this hexbin plot say about mid/long-distance 2s as well?  How bad is a closely guarded mid/long 2 point shot?"
   ]
  },
  {
   "cell_type": "code",
   "execution_count": null,
   "metadata": {},
   "outputs": [],
   "source": [
    "hexbin_esv_plot = hexbin_plot(\n",
    "    df.loc[(df.SHOT_DIST <= 30)],\n",
    "    'SHOT_DIST',\n",
    "    'CLOSE_DEF_DIST',\n",
    "    C='PTS_MADE',\n",
    "    collect=np.mean,\n",
    "    gridsize=20,\n",
    "    figsize=(8, 6),\n",
    "    cmap='viridis',\n",
    "    mincnt=5,\n",
    "    vmin=0.5,\n",
    "    vmax=1.6\n",
    ")\n",
    "hexbin_esv_plot.tick_params(reset=True)\n",
    "hexbin_esv_plot.set_ylabel(\"Defender Dist (ft)\")\n",
    "hexbin_esv_plot.set_xlabel(\"Shot Dist (ft)\")\n",
    "cax = plt.gcf().get_axes()[1]\n",
    "cax.set_yticklabels(['< 0.6', '0.8', '1.0', '1.2', '1.4', '> 1.6']);"
   ]
  },
  {
   "attachments": {},
   "cell_type": "markdown",
   "metadata": {},
   "source": [
    "## An Improved Shooting Metric?\n",
    "\n",
    "Recall the Effective Field Goal Pct was given by\n",
    "$$\n",
    "    \\text{eFG%} = \\frac{\\mathit{FG} + .5 \\cdot \\mathit{3FG}}{\\mathit{FGA}} = \\frac{\\text{Total Points (excluding FT)}}{2 \\cdot \\mathit{FGA}}\n",
    "$$\n",
    "\n",
    "Ignoring the division by 2, our ESV computation is akin to the EFG computation: expected points scored per attempt.\n",
    "\n",
    "Here's a metric we can build along what we've seen already in baseball: for each shot use the hexbin plot to compute the expected FG% which we use to compute the expected shot value:  \n",
    "$$\n",
    "    \\text{eSV} = \\text{Point Value} \\times \\text{Expected FG% at Distance $R$ and Defender Dist. $X$}\n",
    "$$\n",
    "\n",
    "We can also compute the points above average for each shot as\n",
    "$$\n",
    "    \\text{Points Above Average} = \\text{Points Made} - \\text{eSV}\n",
    "$$\n",
    "\n",
    "This is actually akin to what was proposed in this [paper][1] at the Sloan conference.\n",
    "\n",
    "[1]: http://www.sloansportsconference.com/wp-content/uploads/2014/02/2014-SSAC-Quantifying-Shot-Quality-in-the-NBA.pdf"
   ]
  },
  {
   "cell_type": "code",
   "execution_count": null,
   "metadata": {},
   "outputs": [],
   "source": [
    "# Use a helper function to get the bin (and therefore FG%) for each shot\n",
    "x_fgpct = build_expected_value_from_hexbin(\n",
    "    df['SHOT_DIST'], df['CLOSE_DEF_DIST'], hexbin_fgpct_plot)\n",
    "\n",
    "df['EXPECTED_FG%'] = x_fgpct\n",
    "df['EXPECTED_SHOT_VALUE'] = x_fgpct * df['PTS_TYPE']\n",
    "\n",
    "df['EXPECTED_SHOT_VALUE'].hist(bins=50);"
   ]
  },
  {
   "cell_type": "code",
   "execution_count": null,
   "metadata": {},
   "outputs": [],
   "source": [
    "df['PTS_ABOVE_AVG'] = df['PTS_MADE'] - df['EXPECTED_SHOT_VALUE']\n",
    "ax = df.hist(column='PTS_ABOVE_AVG', bins=50);"
   ]
  },
  {
   "cell_type": "markdown",
   "metadata": {},
   "source": [
    "### Player ESV\n",
    "Which players are taking the highest value shots?  How about the lowest?"
   ]
  },
  {
   "cell_type": "code",
   "execution_count": null,
   "metadata": {},
   "outputs": [],
   "source": [
    "player_esv = df.groupby('playerName').\\\n",
    "    agg({\n",
    "        'EXPECTED_SHOT_VALUE': np.mean, \n",
    "        'PTS_MADE': np.mean, \n",
    "        \"SHOT_RESULT\": len\n",
    "    }).\\\n",
    "    rename({\n",
    "        'EXPECTED_SHOT_VALUE': 'ESVperFGA',\n",
    "        'PTS_MADE': 'PTSperFGA',\n",
    "        'SHOT_RESULT': 'FGA'\n",
    "    }, axis=1)"
   ]
  },
  {
   "cell_type": "code",
   "execution_count": null,
   "metadata": {},
   "outputs": [],
   "source": [
    "player_esv.loc[player_esv.FGA > 100].\\\n",
    "    sort_values('ESVperFGA', ascending=False).\\\n",
    "    head(20)"
   ]
  },
  {
   "cell_type": "code",
   "execution_count": null,
   "metadata": {},
   "outputs": [],
   "source": [
    "player_esv.loc[player_esv.FGA > 100].\\\n",
    "    sort_values('ESVperFGA', ascending=True).\\\n",
    "    head(20)"
   ]
  },
  {
   "cell_type": "code",
   "execution_count": null,
   "metadata": {},
   "outputs": [],
   "source": [
    "fig, ax = plt.subplots()\n",
    "player_esv.loc[player_esv.FGA > 100].\\\n",
    "    plot.scatter('PTSperFGA', 'ESVperFGA', ax=ax)\n",
    "ax.set_aspect('equal')\n",
    "ax.plot([.8, 1.2], [.8, 1.2], color='C1');"
   ]
  },
  {
   "cell_type": "markdown",
   "metadata": {},
   "source": [
    "### Team ESV per 88 FGA \n",
    "\n",
    "Which teams take the best shots?  88 FGA is about league average for 100 possessions."
   ]
  },
  {
   "cell_type": "code",
   "execution_count": null,
   "metadata": {},
   "outputs": [],
   "source": [
    "team_esv = df.groupby('PLAYER_TEAM').\\\n",
    "    agg({\n",
    "        'EXPECTED_SHOT_VALUE': np.mean, \n",
    "        'PTS_MADE': np.mean, \n",
    "        \"SHOT_RESULT\": len\n",
    "    }).\\\n",
    "    rename({\n",
    "        'EXPECTED_SHOT_VALUE': 'ESVperFGA',\n",
    "        'PTS_MADE': 'PTSperFGA',\n",
    "        'SHOT_RESULT': 'FGA'\n",
    "    }, axis=1)\n",
    "team_esv['ESVper88FGA'] = 88 * team_esv['ESVperFGA']\n",
    "\n",
    "team_esv.sort_values('ESVper88FGA', ascending=False)"
   ]
  },
  {
   "cell_type": "code",
   "execution_count": null,
   "metadata": {},
   "outputs": [],
   "source": [
    "fig, ax = plt.subplots()\n",
    "team_esv.plot.scatter('PTSperFGA', 'ESVperFGA', ax=ax)\n",
    "ax.set_aspect('equal')\n",
    "ax.plot([.9, 1.1], [.9, 1.1], color='C1');"
   ]
  },
  {
   "cell_type": "markdown",
   "metadata": {},
   "source": [
    "### Player Points Above Average per FGA\n",
    "We can compute Points Above Average per FGA for each player."
   ]
  },
  {
   "cell_type": "code",
   "execution_count": null,
   "metadata": {},
   "outputs": [],
   "source": [
    "player_esv['PTS_ABOVE_AVG_perFGA'] = player_esv['PTSperFGA'] - player_esv['ESVperFGA']"
   ]
  },
  {
   "cell_type": "code",
   "execution_count": null,
   "metadata": {},
   "outputs": [],
   "source": [
    "player_esv.loc[player_esv.FGA > 100].\\\n",
    "    sort_values('PTS_ABOVE_AVG_perFGA', ascending=False).\\\n",
    "    head(20)"
   ]
  },
  {
   "cell_type": "code",
   "execution_count": null,
   "metadata": {},
   "outputs": [],
   "source": [
    "player_esv.loc[player_esv.FGA > 100].\\\n",
    "    sort_values('PTS_ABOVE_AVG_perFGA', ascending=False).\\\n",
    "    tail(20)"
   ]
  },
  {
   "cell_type": "markdown",
   "metadata": {},
   "source": [
    "### Team Points Above Average per 85 FGA \n",
    "We can compute PAA per 85 FGA for each team.  85 FGA is about 1 game."
   ]
  },
  {
   "cell_type": "code",
   "execution_count": null,
   "metadata": {},
   "outputs": [],
   "source": [
    "team_esv['PTS_ABOVE_AVG_perFGA'] = team_esv['PTSperFGA'] - team_esv['ESVperFGA']\n",
    "team_esv['PTS_ABOVE_AVG_per88FGA'] = 88 * team_esv['PTS_ABOVE_AVG_perFGA']\n",
    "\n",
    "team_esv.sort_values('PTS_ABOVE_AVG_per88FGA', ascending=False)"
   ]
  },
  {
   "cell_type": "markdown",
   "metadata": {},
   "source": [
    "## Does Defender Distance Relate to Shooter Quality?\n",
    "\n",
    "Presumably better shooters will be guarded more closely, right?  To study this, let's restrict to catch & shoot 3pt shots.  We'll define catch and shoot shots as those with 0 dribbles and a touch time of less than 2 seconds."
   ]
  },
  {
   "cell_type": "code",
   "execution_count": null,
   "metadata": {},
   "outputs": [],
   "source": [
    "catch_and_shoot = (df.TOUCH_TIME >= 0) & (df.TOUCH_TIME < 2) & (df.DRIBBLES == 0)"
   ]
  },
  {
   "cell_type": "code",
   "execution_count": null,
   "metadata": {},
   "outputs": [],
   "source": [
    "steph = df.playerName == 'Stephen Curry'\n",
    "fig, ax = plt.subplots()\n",
    "df.loc[steph & threept & catch_and_shoot].hist('CLOSE_DEF_DIST', bins=30, ax=ax)\n",
    "ax.set_xlim(0, 25)\n",
    "ax.set_title(\"Closest Defender Dist (ft) - Steph Curry C&S 3FGA\");"
   ]
  },
  {
   "cell_type": "markdown",
   "metadata": {},
   "source": [
    "We take all players with at least 50 shots, sort them by their 3FG% (from left to right), and construct boxplots showing defender distance.  If 3FG% indicates better shooters, and it should, then those players should be guarded tighter than poor shooters. We should see some kind of pattern in the plot that will reflect this hypothesis.\n",
    "\n",
    "_Question_\n",
    "+ What pattern emerges from this plot?  Can you think of a plausible explanation? "
   ]
  },
  {
   "cell_type": "code",
   "execution_count": null,
   "metadata": {},
   "outputs": [],
   "source": [
    "num_3pt_shots = 100\n",
    "by = 'playerName'\n",
    "column = \"CLOSE_DEF_DIST\"\n",
    "\n",
    "c_and_s_three_pt_shots = df.loc[threept & catch_and_shoot]\n",
    "\n",
    "by_3pt_pct = c_and_s_three_pt_shots.\\\n",
    "    groupby(by).\\\n",
    "    agg({'SHOT_RESULT_BIN': np.mean, 'SHOT_RESULT': len}).\\\n",
    "    rename({'SHOT_RESULT_BIN': '3FG%', 'SHOT_RESULT': '3FGA'}, axis=1).\\\n",
    "    sort_values(by='3FG%', ascending=True)\n",
    "\n",
    "by_3pt_pct = by_3pt_pct.loc[by_3pt_pct['3FGA'] > num_3pt_shots]\n",
    "player_order = by_3pt_pct.index"
   ]
  },
  {
   "cell_type": "code",
   "execution_count": null,
   "metadata": {},
   "outputs": [],
   "source": [
    "sorted_boxplot(c_and_s_three_pt_shots, by, column, player_order, figsize=(25, 10), fontsize=8)"
   ]
  }
 ],
 "metadata": {
  "hide_input": false,
  "kernelspec": {
   "display_name": "Python 3",
   "language": "python",
   "name": "python3"
  },
  "language_info": {
   "codemirror_mode": {
    "name": "ipython",
    "version": 3
   },
   "file_extension": ".py",
   "mimetype": "text/x-python",
   "name": "python",
   "nbconvert_exporter": "python",
   "pygments_lexer": "ipython3",
   "version": "3.6.5"
  },
  "latex_envs": {
   "LaTeX_envs_menu_present": true,
   "autoclose": false,
   "autocomplete": true,
   "bibliofile": "biblio.bib",
   "cite_by": "apalike",
   "current_citInitial": 1,
   "eqLabelWithNumbers": true,
   "eqNumInitial": 1,
   "hotkeys": {
    "equation": "Ctrl-E",
    "itemize": "Ctrl-I"
   },
   "labels_anchors": false,
   "latex_user_defs": false,
   "report_style_numbering": false,
   "user_envs_cfg": false
  },
  "toc": {
   "nav_menu": {},
   "number_sections": true,
   "sideBar": true,
   "skip_h1_title": true,
   "title_cell": "Table of Contents",
   "title_sidebar": "Contents",
   "toc_cell": true,
   "toc_position": {},
   "toc_section_display": true,
   "toc_window_display": false
  },
  "varInspector": {
   "cols": {
    "lenName": 16,
    "lenType": 16,
    "lenVar": 40
   },
   "kernels_config": {
    "python": {
     "delete_cmd_postfix": "",
     "delete_cmd_prefix": "del ",
     "library": "var_list.py",
     "varRefreshCmd": "print(var_dic_list())"
    },
    "r": {
     "delete_cmd_postfix": ") ",
     "delete_cmd_prefix": "rm(",
     "library": "var_list.r",
     "varRefreshCmd": "cat(var_dic_list()) "
    }
   },
   "types_to_exclude": [
    "module",
    "function",
    "builtin_function_or_method",
    "instance",
    "_Feature"
   ],
   "window_display": false
  }
 },
 "nbformat": 4,
 "nbformat_minor": 2
}
