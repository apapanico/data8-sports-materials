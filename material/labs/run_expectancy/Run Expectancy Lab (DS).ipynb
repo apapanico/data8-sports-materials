{
 "cells": [
  {
   "cell_type": "markdown",
   "metadata": {},
   "source": [
    "# Lab On You Own: Run Expectancy and Decision Making\n",
    "\n",
    "## Should you attempt to steal bases? Should you bunt? \n",
    "\n",
    "Historically, baseball teams utilized base stealing and the sacrifice bunts to \"manufacture\" runs.  The concept was to risk (or outright give up, in the case of a bunt) an out to gain a base.  Without a notion of Run Expectancy, we don't really have a way to tell if this is a worthwhile risk/trade-off."
   ]
  },
  {
   "cell_type": "markdown",
   "metadata": {},
   "source": [
    "## Setup (Do Not Change)"
   ]
  },
  {
   "cell_type": "code",
   "execution_count": null,
   "metadata": {},
   "outputs": [],
   "source": [
    "%run ../../utils/notebook_setup.py\n",
    "\n",
    "from datascience import Table, are\n",
    "import numpy as np\n",
    "\n",
    "# custom functions that will help do some simple tasks\n",
    "from datascience_utils import *"
   ]
  },
  {
   "cell_type": "code",
   "execution_count": null,
   "metadata": {},
   "outputs": [],
   "source": [
    "run_expectancy = Table.read_table(\"re_2017.csv\")\n",
    "run_expectancy.show(10)\n",
    "\n",
    "# Helper function for extracting an RE value\n",
    "def get_matrix_val(table, outs, base):\n",
    "    for o, b, v in table.to_array():\n",
    "        if outs == o and base == b:\n",
    "            return v"
   ]
  },
  {
   "cell_type": "markdown",
   "metadata": {},
   "source": [
    "## 1. Base Stealing\n",
    "\n",
    "We can perform an analysis of the strategy of stealing bases by computing a success rate for a base stealer that makes the run expectancy of the steal attempt equivalent to the run expectancy of the current state.\n",
    "\n",
    "Take the current state's run expectancy as $\\mathit{RE}_{\\text{Current}}$.  Take the base stealer's probability of successfully stealing the base as $p_{\\text{SB}}$.  \n",
    "\n",
    "\n",
    "The run expectancy of the steal attempt is computed by taking the run expectancy of the two possible outcomes (successful steal and caught stealing) and balancing them by the likelihood they happen:\n",
    "$$\n",
    "    \\text{RE}_{\\text{Steal Attempt}} = \\mathit{RE}_{\\text{SB}} \\cdot p_{\\text{SB}} + \n",
    "        \\mathit{RE}_{\\text{CS}} \\cdot (1 - p_{\\text{SB}}) \n",
    "$$\n",
    "\n",
    "### A. Compute the equalizing probability\n",
    "\n",
    "\n",
    "Set $\\mathit{RE}_{\\text{Current}} = \\text{RE}_{\\text{Steal Attempt}}$ and solve for $p_{\\text{SB}}$ using the above formula to get the formula for the equalizing probability.\n",
    "\n",
    "Create a function that computes the equalizing probability.\n",
    "\n",
    "_Answer_\n",
    "\n",
    "$$\n",
    "    p_{\\text{SB}} = \\frac{\\mathit{RE}_{\\text{Current}} - \\mathit{RE}_{\\text{CS}}}{\\mathit{RE}_{\\text{SB}} - \\mathit{RE}_{\\text{CS}}}\n",
    "$$"
   ]
  },
  {
   "cell_type": "code",
   "execution_count": null,
   "metadata": {},
   "outputs": [],
   "source": [
    "def equalizing_probability(re_curr, re_sb, re_cs):\n",
    "    p_sb = ...\n",
    "    return p_sb"
   ]
  },
  {
   "cell_type": "markdown",
   "metadata": {},
   "source": [
    "### B. Print out the equalizing probability\n",
    "\n",
    "Complete the function to show the equalizing probability for a base stealing situation for various out situations.\n",
    "\n",
    "The function will take these inputs:\n",
    "+ RE table\n",
    "+ Starting baserunner situation\n",
    "+ Caught stealing baserunner situation\n",
    "+ Stolen base baserunner situation.\n",
    "\n",
    "For each out value, the function needs to...\n",
    "1. Use `get_matrix_val` to compute the run expectancies for the current situation, a stolen base, and caught stealing\n",
    "2. Compute the equalizing probability.\n",
    "3. Print the result"
   ]
  },
  {
   "cell_type": "code",
   "execution_count": null,
   "metadata": {},
   "outputs": [],
   "source": [
    "def analyze_steals(re_table, start_base, sb_base, cs_base):\n",
    "    print(f\"Steal situation: {start_base} to {sb_base}\")\n",
    "    for outs in [0, 1, 2]:\n",
    "        # Get current run expectancy\n",
    "        re_curr = ...\n",
    "        # Get caught stealing run expectancy (0 if CS is 3rd out)\n",
    "        if outs < 2:\n",
    "            re_cs = ...\n",
    "        else:\n",
    "            re_cs = ...\n",
    "        # Get successful steal run expectancy\n",
    "        re_sb = ...\n",
    "        \n",
    "        # Compute equalizing probability\n",
    "        p_sb = equalizing_probability(re_curr, re_sb, re_cs)\n",
    "        print(f\"Outs: {outs}  P(SB): {p_sb:.3f}\")\n",
    "    print()"
   ]
  },
  {
   "cell_type": "markdown",
   "metadata": {},
   "source": [
    "### C. Analyze Base Stealing\n",
    "\n",
    "Consider three base stealing situations: \n",
    "+ \"1st\" to \"2nd\"\n",
    "+ \"2nd\" to \"3rd\",\n",
    "+ \"1st and 2nd\" to \"2nd and 3rd\" (ie. a double steal).  Assume the lead runner is caught stealing. \n",
    "\n",
    "Use `analyze_steals` to print the results each of the three situations.  The first situation is given.\n",
    "\n",
    "To check if you're doing the above correct, the result for that first situation should be\n",
    "```\n",
    "Steal situation: 1st to 2nd\n",
    "Outs: 0  P(SB): 0.695\n",
    "Outs: 1  P(SB): 0.683\n",
    "Outs: 2  P(SB): 0.700\n",
    "```"
   ]
  },
  {
   "cell_type": "code",
   "execution_count": null,
   "metadata": {},
   "outputs": [],
   "source": [
    "print(\"Run Expectancy Stolen Base Probabilities\")\n",
    "print(\"========================================\")\n",
    "\n",
    "start_base = \"1st\"\n",
    "sb_base = \"2nd\"\n",
    "cs_base = \"None on\"\n",
    "analyze_steals(run_expectancy, start_base, sb_base, cs_base)\n",
    "\n",
    "..."
   ]
  },
  {
   "cell_type": "markdown",
   "metadata": {},
   "source": [
    "_Questions_\n",
    "\n",
    "1. For a single base stealer, ie 1st or 2nd, about what success probability typically balances out RE for most out situations?\n",
    "2. What does this RE analysis say about a runner at second stealing with 0 or 2 outs?  Does this make sense based on what we've studied so far with respect to run expectancy and the run scoring process in baseball?\n",
    "3. What does this analysis suggest about the risk-reward of a double steal?"
   ]
  },
  {
   "cell_type": "markdown",
   "metadata": {},
   "source": [
    "## 2. Bunting\n",
    "\n",
    "For bunting, we take a simpler view.  Assume we can execute the bunt strategy 100% of the time with a regular hitter (ie. not a pitcher at the plate).  Should we use this strategy?\n",
    "\n",
    "\n",
    "### A. Print the Run Expectancy Comparison\n",
    "\n",
    "Complete a function `analyze_bunt` that prints a string comparing the run expectancy bunting.   The function will take as inputs:\n",
    "    + RE table\n",
    "    + Starting baserunner situation\n",
    "    + Ending baserunner situation following successful bunt\n",
    "\n",
    "For each out value of 0 and 1 (a bunt with 2 outs makes no sense), the function will get the current run expectancy and the run expectancy following the bunt and then print the results.  Remember, when the bunt is complete, there is an extra out."
   ]
  },
  {
   "cell_type": "code",
   "execution_count": null,
   "metadata": {},
   "outputs": [],
   "source": [
    "def analyze_bunt(table, start_base, end_base):\n",
    "    print(f\"Bunting situation: {start_base} to {end_base}\")\n",
    "    for outs in [0, 1]:\n",
    "        re_curr = ...\n",
    "        re_bunt = ...\n",
    "        print(f\"Outs: {outs} - {re_curr:.3f} vs. {re_bunt:.3f}\")\n",
    "    print()"
   ]
  },
  {
   "cell_type": "markdown",
   "metadata": {},
   "source": [
    "### B. Analyze Bunting\n",
    " \n",
    "Consider the three baserunner situations: \"1st\", \"2nd\", and \"1st and 2nd\".  Use `analyze_bunt` to see how run expectancy evaluates the bunting strategy.\n",
    "\n",
    "The first situation is given.\n",
    "\n",
    "To check if you're doing the above correct, the result for that first situation should be\n",
    "```\n",
    "Bunting situation: 1st\n",
    "Outs: 0 - 0.914 vs. 0.718\n",
    "Outs: 1 - 0.526 vs. 0.331\n",
    "```"
   ]
  },
  {
   "cell_type": "code",
   "execution_count": null,
   "metadata": {},
   "outputs": [],
   "source": [
    "print(\"Run Expectancy Bunting Comparisons\")\n",
    "print(\"==================================\")\n",
    "\n",
    "start_base = \"1st\"\n",
    "end_base = \"2nd\"\n",
    "analyze_bunt(run_expectancy, start_base, end_base)\n",
    "\n",
    "..."
   ]
  },
  {
   "cell_type": "markdown",
   "metadata": {},
   "source": [
    "_Questions_\n",
    "\n",
    "1. According to run expectancy, should teams bunt?  Make sure to note that we made the _very_ optimistic assumption that the bunt is successful 100% of the time. \n",
    "2. What does this tell us about the value of an out compared to the value of moving a runner over?\n",
    "3. What would happen if we were to consider the value of a pitcher bunting?  Does this analysis make sense as is or would it have to change?  Remember, pitchers are terrible hitters."
   ]
  },
  {
   "cell_type": "markdown",
   "metadata": {},
   "source": [
    "## 3. End-of-Game Win Probability\n",
    "\n",
    "Let's consider bunts or steals in the context of an end-of-game strategy.  Let's say we are the home team batting in the last half of the ninth inning (or later) and the game is tied.  We get a runner on base.  Should we bunt, steal, or hit away?\n",
    "\n",
    "In this situation we are no longer interested in expected runs but rather win probability.  And in this case, our probability of winning is just the probability of scoring more than one run.  We can compute a run/win probability matrix instead of a run expectancy matrix and use that to analyze the strategies.\n",
    "\n",
    "### A. Win Probability Matrix\n",
    "\n",
    "Complete the function `prob_at_least_one_run` to help build the win probability matrix.  We built the Run Expectancy Matrix by using a group by and averaging over values in the group:\n",
    "```\n",
    "run_expectancy = retro_pre9.select('Outs', 'Start_Bases', 'Runs_ROI').\\\n",
    "    group(['Outs', 'Start_Bases'], collect=np.mean)\n",
    "```\n",
    "Instead of using `np.mean`, we will use `prob_at_least_one_run` that will compute\n",
    "$$\n",
    "    \\text{Probability of at least 1 run from game state $S$}\n",
    "        = \\frac{\\text{# of times from state $S$ scoring $\\geq$ 1 run}}\n",
    "                {\\text{Total # of times in state $S$}}\n",
    "$$\n",
    "\n",
    "Our interest here is a situation where we don't need to maximize total expected runs, just our chance of scoring at least 1 run.  Hence we compute this probability as a Win Probability Matrix.  \n",
    "\n",
    "**Comment**: there will be win probabilities for all sorts of inning, out, base state, score state combinitions.  We're picking a simple situation: game tied in the bottom of the ninth."
   ]
  },
  {
   "cell_type": "code",
   "execution_count": null,
   "metadata": {},
   "outputs": [],
   "source": [
    "# Win probability when needing 1 run\n",
    "def prob_at_least_one_run(runs):\n",
    "    return ..."
   ]
  },
  {
   "cell_type": "code",
   "execution_count": null,
   "metadata": {},
   "outputs": [],
   "source": [
    "### We need to reload all the Retrosheet data so this is all the code to redo\n",
    "### the work from the demo\n",
    "\n",
    "# Load Data\n",
    "col_names = [\n",
    "    'EVENT_ID', 'INN_CT', 'BAT_HOME_ID', 'EVENT_CD', 'OUTS_CT', 'BAT_ID', \n",
    "    'BAT_LINEUP_ID', 'BAT_EVENT_FL', 'START_BASES_CD', 'END_BASES_CD', \n",
    "    'EVENT_OUTS_CT', 'EVENT_RUNS_CT', 'FATE_RUNS_CT', 'INN_NEW_FL']\n",
    "\n",
    "retro = Table.read_table(\n",
    "    'retrosheet_events-2017.csv.gz', sep=',', usecols=col_names)\n",
    "\n",
    "new_col_names = [\n",
    "    'ID', 'Inning', 'Half-Inning', 'Event_Type', 'Outs', 'Batter_ID', \n",
    "    'Lineup_Order', 'PA_Flag', 'Start_Bases', 'End_Bases', 'Event_Outs', \n",
    "    'Event_Runs', 'Future_Runs', 'New_Inning']\n",
    "retro.relabel(col_names, new_col_names)\n",
    "\n",
    "# Replace the numeric code with a string code\n",
    "base_runner_codes = {\n",
    "    0: \"None on\",  # No one on\n",
    "    1: \"1st\",  # runner on 1st\n",
    "    2: \"2nd\",  # runner on 2nd\n",
    "    3: \"1st and 2nd\",  # runners on 1st & 2nd\n",
    "    4: \"3rd\",  # runner on 3rd\n",
    "    5: \"1st and 3rd\",  # runners on 1st & 3rd\n",
    "    6: \"2nd and 3rd\",  # runners on 2nd & 3rd\n",
    "    7: \"Bases Loaded\"  # bases loaded\n",
    "}\n",
    "retro['Start_Bases'] = replace(retro, 'Start_Bases', base_runner_codes)\n",
    "retro['End_Bases'] = replace(retro, 'End_Bases', base_runner_codes)\n",
    "\n",
    "# Add runs remainder of inning\n",
    "retro['Runs_ROI'] = retro['Future_Runs'] + retro['Event_Runs']\n",
    "\n",
    "# Filter to only PAs and pre-ninth inning\n",
    "retro = retro.where('PA_Flag', value_or_predicate=\"T\")\n",
    "retro_pre9 = retro.where('Inning', are.below(9))\n",
    "\n",
    "#############################################\n",
    "# Build the Win Probability Matrix\n",
    "#############################################\n",
    "win_prob = retro_pre9.select('Outs', 'Start_Bases', 'Runs_ROI').\\\n",
    "    group(['Outs', 'Start_Bases'], prob_at_least_one_run)\n",
    "win_prob.relabel('Runs_ROI prob_at_least_one_run', 'WP')"
   ]
  },
  {
   "attachments": {
    "image.png": {
     "image/png": "[encoded data removed]"
    }
   },
   "cell_type": "markdown",
   "metadata": {},
   "source": [
    "The Win Probability Matrix should look like this:\n",
    "![image.png](attachment:image.png)"
   ]
  },
  {
   "cell_type": "code",
   "execution_count": null,
   "metadata": {},
   "outputs": [],
   "source": [
    "win_prob.pivot('Outs', 'Start_Bases', values='WP', collect=np.sum)"
   ]
  },
  {
   "cell_type": "markdown",
   "metadata": {},
   "source": [
    "### B. End-of-Game Base Stealing\n",
    "\n",
    "Reuse your code from 1.C but replace the Run Expectancy Matrix with the newly computed Win Probability Matrix."
   ]
  },
  {
   "cell_type": "code",
   "execution_count": null,
   "metadata": {},
   "outputs": [],
   "source": [
    "print(\"Win Probability Stolen Base Probabilities\")\n",
    "print(\"=========================================\")\n",
    "\n",
    "..."
   ]
  },
  {
   "cell_type": "markdown",
   "metadata": {},
   "source": [
    "_Questions_\n",
    "1. What changed?  \n",
    "2. What do the new results say about getting a runner into scoring position in order to win?"
   ]
  },
  {
   "cell_type": "markdown",
   "metadata": {},
   "source": [
    "### C. End-of-Game Base Bunting\n",
    "\n",
    "Reuse your code from 2.B but replace the Run Expectancy Matrix with the newly computed Win Probability Matrix."
   ]
  },
  {
   "cell_type": "code",
   "execution_count": null,
   "metadata": {},
   "outputs": [],
   "source": [
    "print(\"Win Probability Bunting Comparisons\")\n",
    "print(\"===================================\")\n",
    "\n",
    "..."
   ]
  },
  {
   "cell_type": "markdown",
   "metadata": {},
   "source": [
    "_Questions_\n",
    "1. Does it now make sense to bunt when you only need 1 run?\n",
    "2. What does the analysis say about the value of an out now in an end-of-game situation?\n",
    "3. Would you bunt, steal, or hit away?"
   ]
  },
  {
   "cell_type": "markdown",
   "metadata": {},
   "source": [
    "## 4. Final Questions\n",
    "\n",
    "_Questions_\n",
    "1. What are the limits of kind of analysis?  What kind of caveats are there?  To what kind of hitter and team circumstances does this analysis apply?  Can this analysis still be useful?\n",
    "2. Brainstorm some ways you might try to augment the analysis to improve it."
   ]
  }
 ],
 "metadata": {
  "kernelspec": {
   "display_name": "Python 3",
   "language": "python",
   "name": "python3"
  },
  "language_info": {
   "codemirror_mode": {
    "name": "ipython",
    "version": 3
   },
   "file_extension": ".py",
   "mimetype": "text/x-python",
   "name": "python",
   "nbconvert_exporter": "python",
   "pygments_lexer": "ipython3",
   "version": "3.6.5"
  }
 },
 "nbformat": 4,
 "nbformat_minor": 2
}
