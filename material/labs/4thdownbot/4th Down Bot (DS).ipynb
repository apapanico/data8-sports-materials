{
 "cells": [
  {
   "cell_type": "markdown",
   "metadata": {},
   "source": [
    "# 4th Down Bot\n",
    "\n",
    "The NYT 4th Down Bot uses NFL play-by-play data to make a recommendation for 4th down decisions.  The current model behind the 4th Down Bot estimates the win probability given a state of the game.  We will do a recreation of the original 4th Down Bot model from Brian Burke (now of ESPN, formerly of Advanced Football Analytics).\n",
    "\n",
    "The basic premise of the model is to maximize the expected value of the 4th down decision. To do this, we will use NFL play-by-play data to estimate quantities related to the value of a location on the field, punt distance, likelihood of converting a first down, and likelihood of making a field goal.  This notebook builds a replica of the bot.\n",
    "\n",
    "\n",
    "## The 4th Down Decision Making Model\n",
    "\n",
    "Our goal will be to maximize the expected value of the decision to go for it, punt, or kick a field goal.  This means we need to compute the following four core models:\n",
    "\n",
    "1. **Expected Possession Value (EPV):** The value, in points, of a first down at any location on the field.  Kickoffs will also require an expected value.\n",
    "2. **Expected net punt distance:** Net punt distance given a location on the field.  Coupled with EPV, this quantifies the expected value of punting.\n",
    "3. **Probability of making a 4th down conversion:** Probability of conversion given a location on the field, eg. how likely a team is to make a 4th and 3 conversion from the opponent 47 yard line.  We can use this with EPV to quantify the expected value of going for the first down.\n",
    "4. **Field Goal Probability:** Probability of making a field goal from a given distance, eg. how likely it is to make a 45 yard field goal.  Combined with the EPV for field location and kickoffs, we can compute an expected value of kicking the field goal by estimating the likelihood and expected value of a miss or a make.\n",
    " \n",
    "These 4 quantities can be combined to produce expected value of going for the first down, punting, or kicking the field goal.  Our decision rule will be to choose the option that maximizes expected value.  The model we will build is a baseline \"average\" model that can be used as a starting point before factoring in issues like quality of field goal kicker, offense or defense quality, or weather.\n",
    "\n",
    "\n",
    "## Tasks\n",
    "\n",
    "More detail on the individual computations is below.\n",
    "\n",
    "There are a few code elements to fill in towards the end.  Predominantly there are questions around the modeling process as well as questions about decision making in general at th end.\n",
    "\n",
    "\n",
    "\n",
    "_References on the 4th Down Bot and 4th down decision making in general_\n",
    "\n",
    "+ The NYT 4th Down Bot can be found here: http://nyt4thdownbot.com/ \n",
    "+ The model: http://www.advancedfootballanalytics.com/index.php/home/research/game-strategy/120-4th-down-study\n",
    "+ Coverage: http://www.nytimes.com/newsgraphics/2013/11/28/fourth-downs/post.html\n",
    "+ More coverage: https://www.nytimes.com/2015/10/02/upshot/a-better-4th-down-bot-giving-analysis-before-the-play.html\n",
    "+ Slides on the construction of the new model: http://slides.com/treycausey/4thdownbot#/\n",
    "+ The new model on GitHub: https://github.com/TheUpshot/4thdownbot-model\n",
    "+ Berkeley's own David Romer on 4th down decisions: https://eml.berkeley.edu/~dromer/papers/JPE_April06.pdf\n",
    "\n"
   ]
  },
  {
   "cell_type": "code",
   "execution_count": null,
   "metadata": {},
   "outputs": [],
   "source": [
    "%run ../../utils/notebook_setup.py"
   ]
  },
  {
   "cell_type": "code",
   "execution_count": null,
   "metadata": {},
   "outputs": [],
   "source": [
    "import numpy as np\n",
    "\n",
    "from datascience import Table, table_apply, are\n",
    "\n",
    "from datascience_stats import curve_fit\n",
    "from datascience_topic import *"
   ]
  },
  {
   "cell_type": "markdown",
   "metadata": {},
   "source": [
    "## NFL PxP Data\n",
    "\n",
    "NFL play-by-play data is available in csv format.  The required data for building the model has already been computed.  See the companion notebooks if you want to know more about how the data was handled to aid this assignment. \n",
    "\n",
    "Below is a partial list of the available columns in the full play-by-play dataset.  Many are self explanatory so when needed, a description will be given.  These are the main columns that get used to put together a data analysis.  There are many more fields available that are not used.\n",
    "+ GameID\n",
    "+ Drive - index given the # of the drive within the game\n",
    "+ Quarter\n",
    "+ Down\n",
    "+ Yardline100 - the yard line expressed on a scale of 1 to 99 instead of 1 to 50 and back to 1.\n",
    "+ YardstoGo - yards to go for a first down\n",
    "+ Yards.Gained - yards gained on the play\n",
    "+ PossessionTeam - possessing team\n",
    "+ DefensiveTeam - defensive team\n",
    "+ PlayType - label for what type of play\n",
    "+ Touchdown - 0,1 indicating if a TD was scored\n",
    "+ FieldGoalResult - label indicating good, blocked, or no good.\n",
    "+ FieldGoalDistance\n",
    "+ PosTeamScore - Score of the possessing team.  This will flip when the possession flips.\n",
    "+ DefTeamScore - Score of the defensive team.  This will flip when the possession flips.\n",
    "+ HomeTeam\n",
    "+ AwayTeam\n",
    "\n",
    "A few convenient data fields are added to easy computation of possession value.\n",
    "\n",
    "+ Half\n",
    "+ YrdRegion - region of the field: Inside the 10, 10 to 20, and beyond 20.\n",
    "+ HomeScore & AwayScore - The score of the possession and defensive teams are given.  This changes as the ball changes possession\n",
    "+ NextPossessionTeam - The team possessing the ball in the next play. Non-plays are ignored\n",
    "+ NextYardline100 - Where the ball is on the next play. Non-plays are ignored\n",
    "+ NextDown - The down for the next play\n",
    "+ 1stDownConversion - Whether the current play converted a first down (0 or 1 value)"
   ]
  },
  {
   "cell_type": "code",
   "execution_count": null,
   "metadata": {},
   "outputs": [],
   "source": [
    "pxp = Table.read_table('data/nfl_pxp_2009_2016.csv.gz', sep=',', nrows=15)\n",
    "pxp.show()"
   ]
  },
  {
   "cell_type": "markdown",
   "metadata": {},
   "source": [
    "## Model 1: Expected Possession Value for Kickoffs and First Downs\n",
    "\n",
    "From the full play-by-play, we need kickoffs and first downs in order to build a possession value calculator.  To do that, this process was used:\n",
    "1. **Extract kickoffs by using PlayType.**\n",
    "2. **Extract all first downs**  Drill down by GameID and take all first downs that have 10 yards to go or goal to go.  \n",
    "3. **Find the next score in the game for each possession.**  This is the hardest computation.  We do this by computing differences in the home and away scores and then fill those backward.  We treat home scores as positive and away scores as negative.  We only consider possession value within a half.  So if there is no score before halftime or the end of the game, the value is 0.   Here is a toy example:\n",
    "    \n",
    "| Drive | Team | Poss Score | Next Score |\n",
    "| ----- | ---- | ---------- | ---------- |\n",
    "| 1     | Pit  | 0          |   Pit +7   |\n",
    "| 2     | NYJ  | 0          |   Pit +7   |\n",
    "| 3     | Pit  | 7          |   Pit +7   |\n",
    "| 4     | NYJ  | 3          |   NYJ +3   |\n",
    "\n",
    "4. **Compute possession value.**  We multiply the next score value by +1 or -1 depending on if the current possessing team is the home team or away team.  If its the home team, then multiply by +1 because the next score is already oriented to the home team.  If its the away team, then multiply by -1 because a positive next score is a negative for the away team.\n",
    "5. **Restrict possessions to the first and third quarter.**\n",
    "\n",
    "Some caveats:\n",
    "+ The dataset used is not perfect so while we expect this procedure to work a vast majority of the time, it may miss some results because of holes in the dataset.  It is unlikely this affects the analysis too much.\n",
    "+ While we restricted to first and third quarters, we did not restrict cases when there is a blowout.  Competitive games lead to more reliable results so this is probably the first issue to address going forward.\n",
    "\n",
    "The kickoff and first down data can be loaded in `data/nfl_first_downs_2009_2016.csv.gz`."
   ]
  },
  {
   "cell_type": "code",
   "execution_count": null,
   "metadata": {},
   "outputs": [],
   "source": [
    "states_1st_downs_kickoffs = Table.read_table('data/nfl_first_downs_2009_2016.csv.gz', sep=',')\n",
    "states_1st_downs_kickoffs.show(10)"
   ]
  },
  {
   "cell_type": "markdown",
   "metadata": {},
   "source": [
    "**Questions**\n",
    "\n",
    "1. Why do we want to only use data from the first and third quarters?  \n",
    "2. We didn't restrict to non-blowouts situations but how would removing blowouts help clean up the analysis?  \n",
    "3. In general, why do we remove certain observations from a dataset?\n",
    "\n",
    "**Answers**"
   ]
  },
  {
   "cell_type": "markdown",
   "metadata": {},
   "source": [
    "### A. Expected Kickoff Value\n",
    "\n",
    "In the dataset, the return team is considered the possessing team.  So computing the average value represents the expected value to the return team.\n",
    "\n",
    "After this, `ekv` contains our model for Expected Kickoff Value."
   ]
  },
  {
   "cell_type": "code",
   "execution_count": null,
   "metadata": {},
   "outputs": [],
   "source": [
    "# Restrict to kickoff events\n",
    "kickoffs = states_1st_downs_kickoffs.where('PossessionType', 'Kickoff')\n",
    "\n",
    "# Compute the average kickoff value\n",
    "ekv = kickoffs['PossessionValue'].mean()\n",
    "print(f\"Expected Kickoff Value: {ekv:.3f} pts\")"
   ]
  },
  {
   "cell_type": "markdown",
   "metadata": {},
   "source": [
    "### B. Expected Possession Value \n",
    "\n",
    "We group by each yard line, excluding kickoffs, and compute the average possession value.\n",
    "\n",
    "The plot below shows the results of our estimation.  We clearly see a strong relationship between the Raw Expected Possession Value but the noise in the estimation is apparent.  The expected value should be \"smooth\" and increasing as you get closer and not fluctuating so much."
   ]
  },
  {
   "cell_type": "code",
   "execution_count": null,
   "metadata": {},
   "outputs": [],
   "source": [
    "first_downs = states_1st_downs_kickoffs.where('PossessionType', 'FirstDown')"
   ]
  },
  {
   "cell_type": "code",
   "execution_count": null,
   "metadata": {},
   "outputs": [],
   "source": [
    "# 1. Ignore kickoffs\n",
    "# 2. Group by yardline \n",
    "# 3. Take the average of PossessionValue\n",
    "epv = first_downs.\\\n",
    "    select('Yardline100', 'PossessionValue').\\\n",
    "    group('Yardline100', collect=np.mean).\\\n",
    "    relabel('PossessionValue mean', 'rawEPV')\n",
    "epv"
   ]
  },
  {
   "cell_type": "code",
   "execution_count": null,
   "metadata": {},
   "outputs": [],
   "source": [
    "epv.scatter('Yardline100', select='rawEPV', height=5, width=8)"
   ]
  },
  {
   "cell_type": "markdown",
   "metadata": {},
   "source": [
    "### C. Smoothed Expected Possession Value Model\n",
    "\n",
    "\n",
    "#### Model Smoothing\n",
    "\n",
    "Suppose we have data that is noisy but we know the underlying model should be smooth.  We can do some basic curve fitting, or _smoothing_, to clean up the data and give us something nice.  The next cell shows a simple example of this using the provided function `curve_fit`.  The parameter `smoothness` controls how smooth the output is.  Feel free to vary the parameter to see how the output changes."
   ]
  },
  {
   "cell_type": "code",
   "execution_count": null,
   "metadata": {},
   "outputs": [],
   "source": [
    "x = np.linspace(-1, 1)\n",
    "y = x**2 + .2 * np.random.randn(len(x)) # y is a noisy parabola\n",
    "\n",
    "fig, ax = plt.subplots(figsize=(8, 5))\n",
    "ax.plot(x, y);\n",
    "\n",
    "y_smooth = curve_fit(x, y, smoothness=.5)\n",
    "ax.plot(x, y_smooth);"
   ]
  },
  {
   "cell_type": "markdown",
   "metadata": {},
   "source": [
    "#### Smoothing Expected Possession Value\n",
    "\n",
    "We can now use the curve fitting to produce a \"smoothed\" estimate of the Expected Possession Value.\n",
    "\n",
    "After this, `epv_model` contains our model for Expected Possession Value for a location on the field."
   ]
  },
  {
   "cell_type": "code",
   "execution_count": null,
   "metadata": {},
   "outputs": [],
   "source": [
    "yardlines = epv['Yardline100']\n",
    "poss_vals = epv['rawEPV']\n",
    "\n",
    "# create the smoothed EPV values using a custom smoothness value\n",
    "epv_values = curve_fit(yardlines, poss_vals, smoothness=.22)\n",
    "# create the EPV model\n",
    "epv['EPV'] = epv_values"
   ]
  },
  {
   "cell_type": "code",
   "execution_count": null,
   "metadata": {},
   "outputs": [],
   "source": [
    "# fig, ax =  plt.subplots(figsize=(8, 5))\n",
    "epv.scatter('Yardline100', select='rawEPV', height=5, width=8)\n",
    "\n",
    "ax = plt.gca()\n",
    "ax.plot(epv['Yardline100'], epv['EPV'], lw=3);"
   ]
  },
  {
   "cell_type": "markdown",
   "metadata": {},
   "source": [
    "#### Make the Model\n",
    "\n",
    "To make the model useable, we need to convert it to a dictionary.  The next cell shows how this is done."
   ]
  },
  {
   "cell_type": "code",
   "execution_count": null,
   "metadata": {},
   "outputs": [],
   "source": [
    "def make_model(keys, values):\n",
    "    model = {key: val for key, val in zip(keys, values)}\n",
    "    return model\n",
    "\n",
    "epv_model = make_model(epv['Yardline100'], epv['EPV'])"
   ]
  },
  {
   "cell_type": "markdown",
   "metadata": {},
   "source": [
    "**Questions**\n",
    "\n",
    "1. Around the 10 yard line (90 in Yardline100), the expected value is 0.  What does this mean?\n",
    "2. What is the significance of the slope of the line?  What are its units?\n",
    "3. There appears to be an elbow in the curve around the opponent 10 yard line (10 in Yardline100).  This is where first downs go from 10 yards to go to goal to go.  Can you provide a possible reason for this increase in the rate of EPV?\n",
    "4. Consider two hypothetical alternative models for expected point:\n",
    "    + The line goes from left to right from +6 to +5 (much less steep than the actual model).  \n",
    "    + The line goes from +6 to -6 and passes 0 at the 50 yard line (much steeper than the actual model).\n",
    "   \n",
    "   What would you conclude about possession and scoring in these two hypothetical situations?\n",
    "\n",
    "\n",
    "**Answers**"
   ]
  },
  {
   "cell_type": "markdown",
   "metadata": {},
   "source": [
    "## Model 2: Net Punt Distance\n",
    "\n",
    "We need net punt distance.  Extracting punts from the full play-by-play is easy (there's a playtype flag).  Determining net punt distance is tricky.  A few things can happen on a punt: \n",
    "+ It goes off as expected\n",
    "+ Returned for a touchdown\n",
    "+ Muffed\n",
    "+ Fumbled\n",
    "+ Blocked.  \n",
    "\n",
    "There may be even more wrinkles.  Suffice to say, this is a bit complicated.  To simplify things, we just want to know the expected net punt distance for punts that are not returned, muffed, fumbled, blocked, or anything else.  \n",
    "\n",
    "We compute net punt distance by finding regular punts and determining the field position change."
   ]
  },
  {
   "cell_type": "code",
   "execution_count": null,
   "metadata": {},
   "outputs": [],
   "source": [
    "punts = Table.read_table('data/nfl_punts_2009_2016.csv', sep=',')\n",
    "punts.show()"
   ]
  },
  {
   "cell_type": "markdown",
   "metadata": {},
   "source": [
    "**Question**\n",
    "\n",
    "1. Why is it okay to simplify things?  To assist in reasoning out your response, it's helpful to know that in 2017 NFL teams averages 1 punt return TD per 100 punt return attempts.  The key question of whether it's okay to simplify things is this: By about how many points in expectation does ignoring punt return TDs change the result?\n",
    "\n",
    "**Answer**"
   ]
  },
  {
   "cell_type": "markdown",
   "metadata": {},
   "source": [
    "### A. Net Punt Distance\n",
    "\n",
    "To compute net punt distance, we consider all the \"successful\" punts we extracted (ie. ignoring return TDs, muffs, and fumbles, etc).  In building the punts table, we look at the current yardline and the next yardline and computed a difference (accounting for the switch in orientation of the 100 yard value) to get net punt distance.  Now we just need to average.\n",
    "\n",
    "In the plot below, we see a beautiful relationship between expected punt distance and the yardline.  As with Expected Possession Value, the expected net punt distance should be increasing as you get closer and not fluctuating as much.\n",
    "\n",
    "#### TO DO"
   ]
  },
  {
   "cell_type": "code",
   "execution_count": null,
   "metadata": {},
   "outputs": [],
   "source": [
    "# 1. Select the columns Yardline100 and NetPuntDist\n",
    "# 2. Group by Yardline100\n",
    "# 3. Take the average of NetPuntDist\n",
    "punt_dist = ..."
   ]
  },
  {
   "cell_type": "code",
   "execution_count": null,
   "metadata": {},
   "outputs": [],
   "source": [
    "# clean up table name\n",
    "punt_dist = punt_dist.relabel('NetPuntDist mean', 'rawNetPuntDist')\n",
    "punt_dist"
   ]
  },
  {
   "cell_type": "code",
   "execution_count": null,
   "metadata": {},
   "outputs": [],
   "source": [
    "punt_dist.scatter('Yardline100', select='rawNetPuntDist', height=5, width=8)\n",
    "\n",
    "ax = plt.gca()\n",
    "ax.set_xlim(-.3, 102.3)\n",
    "ax.set_ylim(-4, 53);"
   ]
  },
  {
   "cell_type": "markdown",
   "metadata": {},
   "source": [
    "### C. Smoothed Net Punt Distance\n",
    "\n",
    "We can run our curve fit to generate a final model.  We clearly require this since we do not want a straight line for Expected Net Punt Distance.\n",
    "\n",
    "`punt_dist_model` will contain our model for Expected Net Punt Distance.\n",
    "\n",
    "#### TO DO"
   ]
  },
  {
   "cell_type": "code",
   "execution_count": null,
   "metadata": {},
   "outputs": [],
   "source": [
    "yards = punt_dist['Yardline100']\n",
    "raw_punt_dist = punt_dist['rawNetPuntDist']\n",
    "\n",
    "# Fit a curve for punt distance using curve_fit\n",
    "# See the usage of curve_fit in the section on the expected possession value\n",
    "# use the default smoothness parameter\n",
    "xpunt_dist = ...\n",
    "\n",
    "# Convert to integer values (this will be needed later)\n",
    "xpunt_dist = np.round(xpunt_dist).astype(int)\n",
    "punt_dist['NetPuntDist'] = xpunt_dist"
   ]
  },
  {
   "cell_type": "code",
   "execution_count": null,
   "metadata": {},
   "outputs": [],
   "source": [
    "punt_dist.scatter('Yardline100', select='rawNetPuntDist', height=5, width=8)\n",
    "\n",
    "ax = plt.gca()\n",
    "ax.plot(punt_dist['Yardline100'], punt_dist['NetPuntDist'], lw=3)\n",
    "\n",
    "ax.set_xlim(-.3, 102.3)\n",
    "ax.set_ylim(-4, 53);"
   ]
  },
  {
   "cell_type": "markdown",
   "metadata": {},
   "source": [
    "#### Make the Model"
   ]
  },
  {
   "cell_type": "code",
   "execution_count": null,
   "metadata": {},
   "outputs": [],
   "source": [
    "punt_dist_model = make_model(punt_dist['Yardline100'], punt_dist['NetPuntDist'])"
   ]
  },
  {
   "cell_type": "markdown",
   "metadata": {},
   "source": [
    "**Question**\n",
    "1. Without redoing everything, what is one way you could tweak the model to account for the quality of the punter or the quality of the punt coverage by the punting team?\n",
    "\n",
    "**Answer**"
   ]
  },
  {
   "cell_type": "markdown",
   "metadata": {},
   "source": [
    "## Model 3: 1st Down Conversion Probability\n",
    "\n",
    "\n",
    "In football, teams typically treat third down as do or die.  Hence, we are going to use third down conversion percentage as a proxy for 4th down conversion percentage.  You shouldn't have a hard time convincing yourself why it make sense to approximate the conversion percentage using 3rd down data instead of 4th down data.\n",
    "\n",
    "There are some things we need to address.  In the dataset, various non-relevant plays can occur on third down.  We need to ignore these.  Also, we can likely safely assume that beyond 9 yards we do not need to consider going for it."
   ]
  },
  {
   "cell_type": "code",
   "execution_count": null,
   "metadata": {},
   "outputs": [],
   "source": [
    "third_downs = Table.read_table('data/nfl_third_downs_2009_2016.csv', sep=',')\n",
    "third_downs.show(10)"
   ]
  },
  {
   "cell_type": "markdown",
   "metadata": {},
   "source": [
    "### A. Expected Conversion Percentage\n",
    "\n",
    "#### Conversion Percentage by Region\n",
    "\n",
    "We each separate region on the field (inside the 10 yardline, from the 10 yardline to the 20 yardline, and beyond the 20 yardline), and compute the expected conversion percentage for each yard to go value.  We separate into regions because we have reason to believe that near the goalline, the offense is less likely to convert given less room to work with.  The data bears this out.  This change in conversion percentage can affect the expected value quantities.\n",
    "\n",
    "As with possession value, we need to smooth out the values since they should be consistent as the yards change incrementally."
   ]
  },
  {
   "cell_type": "code",
   "execution_count": null,
   "metadata": {},
   "outputs": [],
   "source": [
    "# 1. Select the columns YrdRegion, YardstoGo, 1stDownConversion\n",
    "# 2. Group by YrdRegion and YardstoGo\n",
    "# 3. Take the average on 1stDownConversion.\n",
    "conv_pct = ..."
   ]
  },
  {
   "cell_type": "code",
   "execution_count": null,
   "metadata": {},
   "outputs": [],
   "source": [
    "# clean up the table name\n",
    "conv_pct = conv_pct.relabel('1stDownConversion mean', 'rawConvPct')\n",
    "\n",
    "# pivot to a better table form\n",
    "conv_pct = conv_pct.pivot('YrdRegion', 'YardstoGo', values='rawConvPct', collect=np.mean)\n",
    "conv_pct"
   ]
  },
  {
   "cell_type": "code",
   "execution_count": null,
   "metadata": {},
   "outputs": [],
   "source": [
    "conv_pct.plot('YardstoGo', height=5, width=8)\n",
    "\n",
    "ax = plt.gca()\n",
    "ax.set_xlabel('YardstoGo')\n",
    "ax.set_ylabel('ConvPct');"
   ]
  },
  {
   "cell_type": "markdown",
   "metadata": {},
   "source": [
    "### B. Smoothed Expected Conversion Percentage\n",
    "\n",
    "We'll use the curve fitting again to smooth out our Expected Conversion Percentage.\n",
    "\n",
    "Our final model for Expected Conversion Percentage will be in `conv_pct_model`.\n",
    "\n",
    "#### TO DO"
   ]
  },
  {
   "cell_type": "code",
   "execution_count": null,
   "metadata": {},
   "outputs": [],
   "source": [
    "conv_pct_smooth = conv_pct.copy()\n",
    "yards_to_go = conv_pct_smooth['YardstoGo']\n",
    "\n",
    "# Create the smoothed model for each region of the field\n",
    "for region in ['Inside10', '10to20', 'Beyond20']:\n",
    "    conv_pct_region = conv_pct[region]\n",
    "    \n",
    "    # Fit a curve for conversion probability for a region using curve_fit\n",
    "    # See the usage of curve_fit in the section on the expected possession value\n",
    "    # use the default smoothness parameter\n",
    "    smoothed_vals = ...\n",
    "\n",
    "    conv_pct_smooth[region] = smoothed_vals\n",
    "\n",
    "conv_pct_smooth"
   ]
  },
  {
   "cell_type": "code",
   "execution_count": null,
   "metadata": {},
   "outputs": [],
   "source": [
    "fig, ax = plt.subplots(figsize=(8, 5))\n",
    "\n",
    "for region in ['Inside10', '10to20', 'Beyond20']:\n",
    "    # plot the raw conversion percentage\n",
    "    ax.plot(yards_to_go, conv_pct[region], ls=':', label='Raw Conv Pct ' + region)\n",
    "    \n",
    "    # plot the model conversion percentage\n",
    "    ax.plot(yards_to_go, conv_pct_smooth[region], lw=3, label='xConvPct ' + region)\n",
    "\n",
    "ax.legend(loc=1)\n",
    "ax.set_ylabel('ConvPct');"
   ]
  },
  {
   "cell_type": "markdown",
   "metadata": {},
   "source": [
    "#### Make the Model"
   ]
  },
  {
   "cell_type": "code",
   "execution_count": null,
   "metadata": {},
   "outputs": [],
   "source": [
    "# Build the model for later use\n",
    "conv_pct_model = {}\n",
    "for region in ['Inside10', '10to20', 'Beyond20']:\n",
    "    conv_pct_model[region] = make_model(conv_pct_smooth['YardstoGo'], conv_pct_smooth[region])\n",
    "    \n",
    "conv_pct_model"
   ]
  },
  {
   "cell_type": "markdown",
   "metadata": {},
   "source": [
    "**Questions**\n",
    "\n",
    "1. What is the likely reason that it makes a difference in conversion percentage where on the field the ball is?  For example, do you think it is easier or harder to convert a third down at your own 30 yard line versus at your opponent's 7 yard line?\n",
    "2. The change in conversion percentage is about 10 percentage points between the middle of the field and inside the 10 yard line.  Can you quantify in points how meaningful those 10 percentage points are?\n",
    "\n",
    "**Answers**"
   ]
  },
  {
   "cell_type": "markdown",
   "metadata": {},
   "source": [
    "## Model 4: Field Goal Probability\n",
    "\n",
    "We gather field goal results and compute the expected probability of success.\n",
    "\n",
    "Raw field goal probability is a bit noisy as we have grown accustom to seeing so far.  We fit a curve but this time we ignore data observations beyond 63 yards since they are extra noisy.\n",
    "\n",
    "### Field Goals\n",
    "\n",
    "For field goal results, we just need FieldGoalDistance and FieldGoalResult and then to compute a 0-1 value representing the success.  This is straightforward."
   ]
  },
  {
   "cell_type": "code",
   "execution_count": null,
   "metadata": {},
   "outputs": [],
   "source": [
    "fgs = Table.read_table('data/nfl_fgs_2009_2016.csv', sep=',')\n",
    "fgs.show(10)"
   ]
  },
  {
   "cell_type": "markdown",
   "metadata": {},
   "source": [
    "### A. Field Goal Probability\n",
    "\n",
    "#### TO DO"
   ]
  },
  {
   "cell_type": "code",
   "execution_count": null,
   "metadata": {},
   "outputs": [],
   "source": [
    "# 1. Select the columns FieldGoalDistance and FieldGoalSuccess\n",
    "# 2. Group by FieldGoalDistance \n",
    "# 3. Take the average on FieldGoalSuccess\n",
    "fg_prob = fgs.\\\n",
    "    select('FieldGoalDistance', 'FieldGoalSuccess').\\\n",
    "    group('FieldGoalDistance', collect=np.mean)"
   ]
  },
  {
   "cell_type": "code",
   "execution_count": null,
   "metadata": {},
   "outputs": [],
   "source": [
    "# clean up the column name\n",
    "fg_prob = fg_prob.relabel('FieldGoalSuccess mean', 'rawFieldGoalProb')\n",
    "\n",
    "# restrict to no longer than 63 yards\n",
    "fg_prob = fg_prob.where('FieldGoalDistance', are.below_or_equal_to(63))\n",
    "fg_prob"
   ]
  },
  {
   "cell_type": "code",
   "execution_count": null,
   "metadata": {},
   "outputs": [],
   "source": [
    "fg_prob.scatter('FieldGoalDistance', select='rawFieldGoalProb', height=5, width=8)"
   ]
  },
  {
   "cell_type": "markdown",
   "metadata": {},
   "source": [
    "### B. Smoothed Field Goal Probability\n",
    "\n",
    "We can run another curve fit to get a nice estimate of field goal probability.\n",
    "\n",
    "`fg_prob_model` will contain our field goal probability model.\n",
    "\n",
    "#### TO DO"
   ]
  },
  {
   "cell_type": "code",
   "execution_count": null,
   "metadata": {},
   "outputs": [],
   "source": [
    "fg_dist = fg_prob['FieldGoalDistance']\n",
    "raw_fg_prob_values = fg_prob['rawFieldGoalProb']\n",
    "\n",
    "# Fit a curve for FG probability using curve_fit\n",
    "# See the usage of curve_fit in the section on the expected possession value\n",
    "# use the default smoothness parameter\n",
    "fg_prob_values = ...\n",
    "\n",
    "# build the FG model\n",
    "fg_prob['FieldGoalProb'] = fg_prob_values\n",
    "\n",
    "fg_prob.scatter('FieldGoalDistance', select='rawFieldGoalProb', height=5, width=8)\n",
    "ax = plt.gca()\n",
    "plt.plot(fg_prob['FieldGoalDistance'], fg_prob['FieldGoalProb'], lw=3)\n",
    "ax.grid(axis='y')"
   ]
  },
  {
   "cell_type": "markdown",
   "metadata": {},
   "source": [
    "#### Make the Model"
   ]
  },
  {
   "cell_type": "code",
   "execution_count": null,
   "metadata": {},
   "outputs": [],
   "source": [
    "fg_prob_model = make_model(fg_prob['FieldGoalDistance'], fg_prob['FieldGoalProb'])"
   ]
  },
  {
   "cell_type": "markdown",
   "metadata": {},
   "source": [
    "**Question**\n",
    "\n",
    "1. We are computing a baseline \"average\" model that can be used as a starting point.  Obviously the quality of the kicker and the field/weather conditions are incredibly important to kicking.  How would you adjust our model to account for these considerations?\n",
    "\n",
    "**Answer**"
   ]
  },
  {
   "cell_type": "markdown",
   "metadata": {},
   "source": [
    "## Decision Making\n",
    "\n",
    "Let's put the models to work\n",
    "\n",
    "### Extracting Model Values\n",
    "\n",
    "First, let's show how we can extract outputs from the model based on a hypothetical situation.\n",
    "\n",
    "It's 4th and 4 from the opponent's 42 yard line (this means `Yardline100` is 42).  What are the model outputs?"
   ]
  },
  {
   "cell_type": "code",
   "execution_count": null,
   "metadata": {},
   "outputs": [],
   "source": [
    "yardline100 = 42\n",
    "region = 'Beyond20'\n",
    "yrdstogo = 4\n",
    "fg_distance = yardline100 + 17\n",
    "\n",
    "# Model values can be extracted easily\n",
    "print(f\"EPV at opponent 42 yardline: {epv_model[yardline100]:.2f}\")\n",
    "print(f\"Exp Conv Pct beyond the 20 with 4 yards to go: {conv_pct_model[region][yrdstogo]:.2f}\")\n",
    "print(f\"Exp Net Punt Dist from the 42: {punt_dist_model[yardline100]:.2f}\")\n",
    "print(f\"Exp FG Pct from 45 yards: {fg_prob_model[fg_distance]:.2f}\")"
   ]
  },
  {
   "cell_type": "markdown",
   "metadata": {},
   "source": [
    "#### TO DO: Another Model Value Example\n",
    "\n",
    "It's 4th and 1 from the opponent's 2 yard line.  What are the model outputs?  Note: Is the punt model valid here?"
   ]
  },
  {
   "cell_type": "code",
   "execution_count": null,
   "metadata": {},
   "outputs": [],
   "source": [
    "yardline100 = 2\n",
    "region = 'Inside10'\n",
    "yrdstogo = 1\n",
    "fg_distance = yardline100 + 17\n",
    "\n",
    "..."
   ]
  },
  {
   "cell_type": "markdown",
   "metadata": {},
   "source": [
    "### Expected Value of our Decisions\n",
    "\n",
    "It's 4th and 1 from the opponent's 35 yard line.  What should we do?"
   ]
  },
  {
   "cell_type": "code",
   "execution_count": null,
   "metadata": {},
   "outputs": [],
   "source": [
    "yardline100 = 35\n",
    "region = 'Beyond20'\n",
    "yrdstogo = 1\n",
    "fg_distance = yardline100 + 17"
   ]
  },
  {
   "cell_type": "markdown",
   "metadata": {},
   "source": [
    "#### TO DO: Expected value of going for it\n",
    "1. First determine the value of a successful conversion.  Here are the rules for determining this value:\n",
    "    + If the situation **is not** goal to go,  get the EPV of the yardline at the spot of the conversion.  Assume the down is converted with the smalled possible number of yards, ie. the yards to go.  So if it's 4th and 4 at the 42, the first down as at the 38.\n",
    "    + If the situation **is** goal to go, then a 1st down conversion is a TD so take 7 minus the value of a kickoff.\n",
    "2. Then determine the value of a failed conversion\n",
    "    + Assume the conversion fails at the current yardline (not yards gained or lost on the failure).\n",
    "    + Find the starting yardline for the opposing team by taking 100 minus the current yardline\n",
    "    + Get the EPV for this starting position and multiply by -1 to get the value for _our team_ and not the opposing team.\n",
    "3. Finally, compute the expected value using the conversion success probability\n",
    "    + Weight the above expected values by the conversion success probability based on the region of the field"
   ]
  },
  {
   "cell_type": "code",
   "execution_count": null,
   "metadata": {},
   "outputs": [],
   "source": [
    "\n",
    "ev_goforit = ...\n",
    "ev_goforit  # 2.0800749018024116"
   ]
  },
  {
   "cell_type": "markdown",
   "metadata": {},
   "source": [
    "#### TO DO:  Expected value of punting\n",
    "1. Determine the expected net punt distance from the model.\n",
    "2. Compute the expected value of the expected yardline after the punt\n",
    "    + The expected yardline following the punt is the current yardline minus the expected punt distance.  So if we're at our own 30 yardline (Yardline100 = 70) and the punt distance is 42 yards, the expected yardline is 28.\n",
    "    + Find the starting yardline for the opposing team by taking 100 minus the expected yardline after the punt\n",
    "    + Get the EPV for the expected starting position and multiply by -1 to get the value for our team."
   ]
  },
  {
   "cell_type": "code",
   "execution_count": null,
   "metadata": {},
   "outputs": [],
   "source": [
    "\n",
    "ev_punt = ...\n",
    "ev_punt  # 0.03172564552047145"
   ]
  },
  {
   "cell_type": "markdown",
   "metadata": {},
   "source": [
    "#### TO DO:  Expected value of kicking\n",
    "1. Compute the value of making the field goal: 3 minus the value of a kickoff, which is given by `ekv`.\n",
    "2. Compute the value of missing the field goal.\n",
    "    + Missing the kick means the ball is turned over at Yardline100 + 7\n",
    "    + The starting position for the opposing team is 100 minus (Yardline100 + 7)\n",
    "    + Get the EPV for the starting position\n",
    "3. Compute the expected value using the field goal success probability\n",
    "    + The kick distance is given by Yardline100 + 17\n",
    "    + Use the kick distance to get the field goal success probability\n",
    "    + Weight the two values in 1. and 2. by the field goal success probability"
   ]
  },
  {
   "cell_type": "code",
   "execution_count": null,
   "metadata": {},
   "outputs": [],
   "source": [
    "\n",
    "ev_fg = ...\n",
    "ev_fg  # 0.680632357737473 "
   ]
  },
  {
   "cell_type": "markdown",
   "metadata": {},
   "source": [
    "#### Decision\n",
    "\n",
    "We can print out the three expected values. \n",
    "\n",
    "You should get this:\n",
    "```\n",
    "EV going for it: 2.08\n",
    "EV punting:      0.03\n",
    "EV field goal:   0.68\n",
    "```"
   ]
  },
  {
   "cell_type": "code",
   "execution_count": null,
   "metadata": {},
   "outputs": [],
   "source": [
    "# print(f\"EV going for it: {ev_goforit:.2f}\")\n",
    "# print(f\"EV punting:      {ev_punt:.2f}\")\n",
    "# print(f\"EV field goal:   {ev_fg:.2f}\")"
   ]
  },
  {
   "cell_type": "markdown",
   "metadata": {},
   "source": [
    "**Questions**\n",
    "\n",
    "1. Which choice would you make?  Why?  What else would go into your decision?\n",
    "2. How much extra is the decision worth in expected points?\n",
    "\n",
    "**Answers**"
   ]
  },
  {
   "cell_type": "markdown",
   "metadata": {},
   "source": [
    "## Visualizing Decisions\n",
    "\n",
    "We can use a helper function which iterates over all the yardline and yards-to-go combinations to compute the decisions.\n",
    "\n",
    "The function computes the following:\n",
    "+ The best choice \n",
    "+ The expected value of the best choice\n",
    "+ The second best choice\n",
    "+ The _difference_ in expected value of the best choice over the second best choice"
   ]
  },
  {
   "cell_type": "code",
   "execution_count": null,
   "metadata": {},
   "outputs": [],
   "source": [
    "data = compute_4thdownbot_data(\n",
    "    ekv, epv_model, conv_pct_model, punt_dist_model, fg_prob_model)\n",
    "\n",
    "yardline100 = 20\n",
    "yrdstogo = 5\n",
    "print(data[yrdstogo][yardline100])"
   ]
  },
  {
   "cell_type": "markdown",
   "metadata": {},
   "source": [
    "### 4th Down Bot Decisions\n",
    "\n",
    "We use a helper function to visualize the decision space."
   ]
  },
  {
   "cell_type": "code",
   "execution_count": null,
   "metadata": {},
   "outputs": [],
   "source": [
    "plot_4thdown_decision(data)"
   ]
  },
  {
   "cell_type": "markdown",
   "metadata": {},
   "source": [
    "**Question**\n",
    "1. If we just show the best decision choices, what are we missing in terms of information?  What else would you want to know regarding making any decisions?\n",
    "\n",
    "**Answer**"
   ]
  },
  {
   "cell_type": "markdown",
   "metadata": {},
   "source": [
    "### Second Choices\n",
    "\n",
    "We can also look at the second best choices."
   ]
  },
  {
   "cell_type": "code",
   "execution_count": null,
   "metadata": {
    "code_folding": []
   },
   "outputs": [],
   "source": [
    "plot_4thdown_second_choices(data)"
   ]
  },
  {
   "cell_type": "markdown",
   "metadata": {},
   "source": [
    "**Question**\n",
    "1. What appears to happen around the 37-38 yard line with respect to punting and kicking a field goal?\n",
    "\n",
    "**Answer**"
   ]
  },
  {
   "cell_type": "markdown",
   "metadata": {},
   "source": [
    "### Expected Values\n",
    "\n",
    "It would be useful to know how many points we expect when making our decision."
   ]
  },
  {
   "cell_type": "code",
   "execution_count": null,
   "metadata": {},
   "outputs": [],
   "source": [
    "plot_4thdown_evs(data)"
   ]
  },
  {
   "cell_type": "markdown",
   "metadata": {},
   "source": [
    "### Expected Value over Second Choice\n",
    "\n",
    "Even more useful would be to know how many more points our top choice is worth relative to the next best choice."
   ]
  },
  {
   "cell_type": "code",
   "execution_count": null,
   "metadata": {},
   "outputs": [],
   "source": [
    "plot_4thdown_ev_over_second(data)"
   ]
  },
  {
   "cell_type": "markdown",
   "metadata": {},
   "source": [
    "**Questions**\n",
    "1. What is the significance of the bright yellow region around the 38 yard line?  What is it telling us about punting or kicking a field goal relative to trying to hold onto possession?\n",
    "2. There is a huge region over which the 4th Down Bot says to go for it.  Does the increase in expected value from going for it seem particularly large over most of that region?\n",
    "\n",
    "**Answers**"
   ]
  },
  {
   "cell_type": "markdown",
   "metadata": {},
   "source": [
    "### Coaches' Choices\n",
    "\n",
    "![coaches_decisions](coach_decisions.png \"Coaches Decisions\")"
   ]
  },
  {
   "cell_type": "markdown",
   "metadata": {},
   "source": [
    "Compare the 4th Down Bot's decisions with the actual coaches decisions (courtesy of the NYT).  \n",
    "\n",
    "**Question**\n",
    "1. How does the previous plot showing the expected value over the second choice compare to the coaches' choices?"
   ]
  },
  {
   "cell_type": "markdown",
   "metadata": {},
   "source": [
    "## Wrap Up\n",
    "\n",
    "This notebook went over step by step how to piece together components using historical NFL play-by-play data to build a decision making 4th Down Bot.  The expected value analysis is very useful for beginning to think in a data-driven way.  Wrapping up, we finish with some general questions about expected value analysis and some considerations we might want to make.\n",
    "\n",
    "In finance, there is a concept called _risk premium_ which refers to how much more return we demand for taking a riskier stock compared to a less risky stock.  That is, just because an stock has higher return, we will not necessarily take it due to the potential increase in risk.\n",
    "\n",
    "Here's a simple example:  consider a game show where you may choose one of two doors which are hiding $\\$$1,000 and $\\$$0. Suppose I offer you $\\$$500 instead of choosing a door.  Would you take the $\\$$500 or choose a door?\n",
    "\n",
    "The risk in this situation is the uncertainty of the payout and the possibility of ending up with $\\$$0.  If you are unconcerned with risk, you view those options as equivalent.  If you are risk averse, you will opt for the $\\$$500.  And if you are risk loving (ie. you derive benefit or utility or joy or something from taking risk) you will gamble on a door.\n",
    "\n",
    "There is an amount called the _certainty equivalent_ where you would view that amount as equal to the gamble.  Since the expected value of the gamble is $\\$$500, if you are risk averse the certainty equivalent is less than $\\$$500.  It is the point at which below that amount you'd prefer the gamble and above that amount you'd prefer the certain payout.  Each person will have their own certainty equivalent.\n",
    "\n",
    "The difference between the certainty equivalent and the expected value of the gamble is the risk premium.\n",
    "\n",
    "The game show Deal or No Deal is an example of offering certainty amounts against gambles on large payouts."
   ]
  },
  {
   "cell_type": "markdown",
   "metadata": {},
   "source": [
    "**Questions**\n",
    "1. How does punting represent a \"certain\" choice (or at least a less risky choice)?  \n",
    "2. How does maximizing expected value ignore the risk in the decision?\n",
    "   \n",
    "   Consider this situation: we're on our own 10 yard line and its 4th and short.\n",
    "   Some numbers for 4th and 1 from your own 10 yard line:\n",
    "    + The expected value after conversion is about -0.09 points\n",
    "    + The expected value after a failed conversion is -5.25 points\n",
    "    + The conversion percentage is 69% so the overall expected value of going for it is -1.6\n",
    "    + The expected value from punting is -2.3, .7 points lower than going for it.\n",
    "   \n",
    "   Overall, the EV for going for it is better.  But the downside of the failed conversion is high.  Is going for it a very risky decision based on those numbers?\n",
    "   \n",
    "4. Does maximizing expected points make sense throughout the game?  What about at the end of the game?\n",
    "\n",
    "\n",
    "_Win Probability_\n",
    "\n",
    "One possible alternative is to build a model for win probability given a game state.  The new NYT 4th Down Bot model does just this.  Using the win probability computation, a coach would make decisions that maximize win probability instead.  We saw something like this for bunting and stolen bases. \n",
    "\n",
    "Think of the classic Belichick choice against the Colts: go for it on 4th and short in your own territory at the end. [See here](https://fifthdown.blogs.nytimes.com/2009/11/16/defending-belichicks-fourth-down-decision/)\n",
    "\n",
    "Here are some toy numbers.  Say it's 50-50 whether you make the conversion.  If you do make the conversion, you get a 100% win probability.  If you don't, you turn it over to Peyton Manning in his prime and now have a 20% win probability.  If you punt, you give the ball to Manning and its 60-40 in your favor.  Overall you have 60% win probability in each case.  \n",
    "    \n",
    "5. Does risk aversion still play a role when thinking about win probability?\n",
    "\n",
    "_Ambiguity Aversion_\n",
    "\n",
    "Risk averse people don't want to take risky bets even if they know the odds.  _Ambuigity averse_ people don't want to take bets they don't know the odds to  ([See here for an overview of ambiguity aversion](https://en.wikipedia.org/wiki/Ambiguity_aversion)).\n",
    "\n",
    "So far, we've been quoting static numbers from models to build all our decisions.  We haven't pinned down how reliable or uncertain our models are.  \n",
    "\n",
    "Let's reconsider Belichick's dilemma from 5.  We made up some numbers but they're not far off numbers other people have suggested.  So let's take our numbers as the output of the models.  An important question is how sure can we be these numbers are correct?  If the numbers aren't correct, do we want to take the gamble of going for it?  If we feel there is a lot of uncertainty in the model's output, we might be averse to this ambiguity and avoid taking the gamble.\n",
    "\n",
    "6. How might a coach's decisions stem from both risk aversion and ambiguity aversion?\n",
    "    \n",
    "**Answers**"
   ]
  }
 ],
 "metadata": {
  "hide_input": false,
  "kernelspec": {
   "display_name": "Python 3",
   "language": "python",
   "name": "python3"
  },
  "language_info": {
   "codemirror_mode": {
    "name": "ipython",
    "version": 3
   },
   "file_extension": ".py",
   "mimetype": "text/x-python",
   "name": "python",
   "nbconvert_exporter": "python",
   "pygments_lexer": "ipython3",
   "version": "3.6.5"
  },
  "toc": {
   "nav_menu": {},
   "number_sections": true,
   "sideBar": true,
   "skip_h1_title": true,
   "title_cell": "Table of Contents",
   "title_sidebar": "Contents",
   "toc_cell": true,
   "toc_position": {},
   "toc_section_display": true,
   "toc_window_display": false
  },
  "varInspector": {
   "cols": {
    "lenName": 16,
    "lenType": 16,
    "lenVar": 40
   },
   "kernels_config": {
    "python": {
     "delete_cmd_postfix": "",
     "delete_cmd_prefix": "del ",
     "library": "var_list.py",
     "varRefreshCmd": "print(var_dic_list())"
    },
    "r": {
     "delete_cmd_postfix": ") ",
     "delete_cmd_prefix": "rm(",
     "library": "var_list.r",
     "varRefreshCmd": "cat(var_dic_list()) "
    }
   },
   "types_to_exclude": [
    "module",
    "function",
    "builtin_function_or_method",
    "instance",
    "_Feature"
   ],
   "window_display": false
  }
 },
 "nbformat": 4,
 "nbformat_minor": 2
}
