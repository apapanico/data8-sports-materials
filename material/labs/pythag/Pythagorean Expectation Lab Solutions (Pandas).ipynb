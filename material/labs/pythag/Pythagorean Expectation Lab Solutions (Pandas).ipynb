{
 "cells": [
  {
   "cell_type": "markdown",
   "metadata": {},
   "source": [
    "## Lab: Pythagorean Expectation for NBA\n",
    "\n",
    "### On You Own: Deriving the Exponent for NBA Pythagorean Expectation\n",
    "\n",
    "In this lab, you will perform the same analysis for the NBA reusing (almost exactly) the same code from the demo on Pythagorean Expectation for MLB but tweaked whereever necessary.  If you are unsure how to do something, just look to the corresponding part of the MLB section and emulate the code.  The data is loaded in the first cell.\n",
    "\n",
    "The columns (excluding some self-explanatory ones):\n",
    "+ `lg_id`: League ID\n",
    "+ `mp`: minutes played\n",
    "+ `pts`: points scored\n",
    "+ `opp_pts`: opponent points scored\n",
    "\n",
    "**IMPORTANT TIP**: Reuse the code from the demo on Pythagorean Expectation for MLB as much as possible.  You should be able to reuse basically all of it and rename a few things here and there.  It should all work to produce the results for this lab!  "
   ]
  },
  {
   "cell_type": "markdown",
   "metadata": {},
   "source": [
    "## Setup (Do Not Change)"
   ]
  },
  {
   "cell_type": "code",
   "execution_count": null,
   "metadata": {},
   "outputs": [],
   "source": [
    "%run ../../utils/notebook_setup.py\n",
    "\n",
    "import numpy as np\n",
    "import pandas as pd\n",
    "\n",
    "from datascience_stats import linear_fit\n",
    "\n",
    "nba = pd.read_csv(\n",
    "    \"nba_team_season_data.csv\", \n",
    "    usecols=[1, 2, 3, 12, 16, 17, 38, 59, 60, 61]\n",
    ")\n",
    "nba.head()"
   ]
  },
  {
   "cell_type": "markdown",
   "metadata": {},
   "source": [
    "### 1. The first thing we need to do is compute the winning percentage \n",
    "$$\n",
    "    \\text{Win Pct} = W / G\n",
    "$$"
   ]
  },
  {
   "cell_type": "code",
   "execution_count": null,
   "metadata": {},
   "outputs": [],
   "source": [
    "nba['Wpct'] = nba['wins'] / nba['g']"
   ]
  },
  {
   "cell_type": "markdown",
   "metadata": {},
   "source": [
    "### 2. Then we need to compute Points per Game values\n",
    "\\begin{align*}\n",
    "    \\text{Points For per Game} & = \\text{Points For}\\ /\\ \\text{Game} \\\\\n",
    "    \\text{Points Against per Game} & = \\text{Points Against}\\ /\\ \\text{Game} \\\\\n",
    "    \\text{Net Points per Game} & = \\text{Points For per Game} - \\text{Points Against per Game}\n",
    "\\end{align*}\n",
    "\n",
    "Call the columns `ppg`, `opp_ppg`, and `net_ppg`.\n",
    "\n",
    "*Note: Feel free to perform the analysis using Ratings, which provide points per 100 possessions, provided in the NBA dataset (you will need to change the data loading to include those columns).  The results will be identical.\n",
    "\n",
    "_Question_\n",
    "\n",
    "We're computing a per game value.  Should we use 82 or should we use something else?  What happened in the NBA recently (~2011) that might necessitate not using 82?"
   ]
  },
  {
   "cell_type": "markdown",
   "metadata": {},
   "source": [
    "_Answer_\n",
    "\n",
    "League seasons don't always have 82 games in the NBA.  2011 had a lockout that shortened the season.  When _normalizing_ data by something like games or plate appearances or shots, it's obviously best to use the actual count and not an assumption about what it should be."
   ]
  },
  {
   "cell_type": "code",
   "execution_count": null,
   "metadata": {},
   "outputs": [],
   "source": [
    "nba['ppg'] = nba['pts'] / nba['g']\n",
    "nba['opp_ppg'] = nba['opp_pts'] / nba['g']\n",
    "nba['net_ppg'] = nba['ppg'] - nba['opp_ppg']"
   ]
  },
  {
   "cell_type": "markdown",
   "metadata": {},
   "source": [
    "Show the top 10 team seasons by Net Points per Game.  Only show the following columns: `team_id, wins, losses, ppg, opp_ppg, net_ppg`"
   ]
  },
  {
   "cell_type": "code",
   "execution_count": null,
   "metadata": {},
   "outputs": [],
   "source": [
    "nba[['team_id', 'wins', 'losses', 'ppg', 'opp_ppg', 'net_ppg']].\\\n",
    "    sort_values('net_ppg', ascending=False).\\\n",
    "    head(10)"
   ]
  },
  {
   "cell_type": "markdown",
   "metadata": {},
   "source": [
    "### 3. Compute the Linear Model\n",
    "$$\n",
    "    \\text{Linear Win Pct} = \\alpha  + \\beta \\cdot \\text{Net Points per Game}\n",
    "$$\n",
    "where $\\alpha$ gives $\\text{Average Win Pct}$ and $\\beta$ gives $\\text{Win Pct per Net Points per Game}$.\n",
    "\n",
    "Plot the linear model results as we did with MLB.\n",
    "\n",
    "**Remember: Reuse the code from the MLB demo!**\n",
    "\n",
    "\n",
    "_Question_\n",
    "\n",
    "For what values of Net Points per Game does $\\text{Linear Win Pct} < 0$ and $\\text{Linear Win Pct} > 1$?  How much of an issue is that here compared to when we looked at MLB data?"
   ]
  },
  {
   "cell_type": "code",
   "execution_count": null,
   "metadata": {},
   "outputs": [],
   "source": [
    "# Compute a linear fit\n",
    "params, predictions, errors = linear_fit(nba['net_ppg'], nba['Wpct'])\n",
    "# The predictions are results of the model: alpha + beta * net_ppg\n",
    "nba['LinWpct'] = predictions\n",
    "\n",
    "alpha, beta = params\n",
    "print(\"Computed Linear Model:\")\n",
    "print(\"====================\")\n",
    "s = \"LinWpct = {alpha:.3f} + {beta:.3f} * net_ppg\".format(alpha=alpha, beta=beta)\n",
    "print(s)"
   ]
  },
  {
   "cell_type": "markdown",
   "metadata": {},
   "source": [
    "_Answer_\n",
    "\n",
    "To figure out what values of Net Points per Game lead to $\\text{Linear Win Pct} < 0$ and $\\text{Linear Win Pct} > 1$, we need to solve these equations:\n",
    "$$\n",
    "    0 = 0.500 + 0.032 \\times \\text{Net Points per Game}\n",
    "$$\n",
    "$$\n",
    "    1 = 0.500 + 0.032 \\times \\text{Net Points per Game}\n",
    "$$\n",
    "We can do that below:"
   ]
  },
  {
   "cell_type": "code",
   "execution_count": null,
   "metadata": {},
   "outputs": [],
   "source": [
    "print('LinWpct less than 0:')\n",
    "print('net_ppg = ', -.500 / .032)\n",
    "print('LinWpct greater than 1:')\n",
    "print('net_ppg = ', (1 - .500) / .032)"
   ]
  },
  {
   "cell_type": "markdown",
   "metadata": {},
   "source": [
    "The estimated value of $\\beta$ should be about $0.03$.\n",
    "\n",
    "Compute the \"Net PPG per Win\" from the linear model.\n",
    "\n",
    "You should get a Net PPG per win of about 0.38."
   ]
  },
  {
   "cell_type": "markdown",
   "metadata": {},
   "source": [
    "_Answer_\n",
    "\n",
    "The units for $\\beta$ can be easily extracted from the linear model:\n",
    "$$\n",
    "    \\frac{\\text{Win Pct}}{\\text{Net PPG}}\n",
    "$$\n",
    "\n",
    "Multiplying by games gives \n",
    "$$\n",
    "    G \\cdot \\beta = \\frac{\\text{Wins}}{\\text{Net PPG}}\n",
    "$$\n",
    "\n",
    "Inverting this gives us what we want:\n",
    "$$\n",
    "    \\frac{1}{G \\cdot \\beta} = \\frac{\\text{Net PPG}}{\\text{Wins}}\n",
    "$$"
   ]
  },
  {
   "cell_type": "code",
   "execution_count": null,
   "metadata": {},
   "outputs": [],
   "source": [
    "1 / (82 * beta)"
   ]
  },
  {
   "cell_type": "markdown",
   "metadata": {},
   "source": [
    "### 4. Compute the following values:\n",
    "\\begin{align*}\n",
    "    \\text{Points Ratio} & = \\text{PPG}\\ /\\ \\text{Opp PPG} \\\\\n",
    "    \\text{Log Points Ratio} & = \\log \\text{Points Ratio} \\\\\n",
    "    \\text{Log Odds} & = \\log \\text{Wins}\\ /\\ \\text{Losses}\n",
    "\\end{align*}"
   ]
  },
  {
   "cell_type": "code",
   "execution_count": null,
   "metadata": {},
   "outputs": [],
   "source": [
    "nba['PR'] = nba['ppg'] / nba['opp_ppg']\n",
    "nba['log_PR'] = np.log(nba['PR'])\n",
    "nba['log_odds'] = np.log(nba['wins'] / nba['losses'])"
   ]
  },
  {
   "cell_type": "markdown",
   "metadata": {},
   "source": [
    "### 5. Compute a Pythagorean exponent for the NBA\n",
    "\n",
    "Plot the results of the model for the Pythagorean exponent.  \n",
    "\n",
    "**Again, reuse the MLB code with appropriate changes!**\n",
    "\n",
    "You should get a large value (around 14).  We could perform this analysis on all sorts of sports. \n",
    "\n",
    "_Question_\n",
    "\n",
    "What does this large value for the exponent mean?  To answer this question, start by answering this series of questions:\n",
    "+ Suppose some random sport had an exponent of $K=1\\text{mil}$.  If a team is able to score just a bit more than its opponents so $\\text{Points Ratio} > 1$ by a small amount.  What is $\\text{Points Ratio}^K$ in this case?  What is the team's expected winning percentage?\n",
    "+ Suppose as sport had an $K=0.00001$.  What is $\\text{Points Ratio}^K$ in this case?  What is a team's expected winning percentage if it is able to score just a bit more than its opponents?  What about if it's outscored by a little bit?\n",
    "+ Do larger or smaller values of K lead to a sport which features a lot of luck/chance in its outcomes?"
   ]
  },
  {
   "cell_type": "code",
   "execution_count": null,
   "metadata": {},
   "outputs": [],
   "source": [
    "# fit the linear model for log-odds and log-points ratio\n",
    "params, predictions, errors = linear_fit(\n",
    "    nba['log_PR'], nba['log_odds'], constant=False)\n",
    "# take the model predictions as expected log-odds\n",
    "nba['xlog_odds'] = predictions\n",
    "\n",
    "K = params.item()\n",
    "\n",
    "print(\"Computed Linear Fit:\")\n",
    "print(\"====================\")\n",
    "s = \"xlog_odds = {K:.2f} * log_PR\".format(K=K)\n",
    "print(s)"
   ]
  },
  {
   "cell_type": "code",
   "execution_count": null,
   "metadata": {},
   "outputs": [],
   "source": [
    "fig, ax = plt.subplots()\n",
    "nba.plot.scatter(ax=ax, x=\"log_PR\", y='log_odds')\n",
    "nba.plot.scatter(ax=ax, x=\"log_PR\", y='xlog_odds', color='C1')\n",
    "plt.legend();"
   ]
  },
  {
   "cell_type": "markdown",
   "metadata": {},
   "source": [
    "_Answer_\n",
    "\n",
    "Note: this is a extra detailed answer to show you just how far one can go with these things. This level of detail is not expected.\n",
    "\n",
    "1. If $K=1\\text{mil}$, then if $\\text{Points Ratio}$ is slightly bigger than 1, $\\text{Points Ratio}^K$ will become very large, and the expected winning percentage will be 1.000.  And when $\\text{Points Ratio}$ is slightly smaller than 1 $\\text{Points Ratio}^K$ will become close to 0, and the expected winning percentage will be 0.000.\n",
    "2. If $K=0.00001$, then if $\\text{Points Ratio}$ is a small number, $\\text{Points Ratio}^K$ will be close to 1.  And if $\\text{Points Ratio}$ is a large number, $\\text{Points Ratio}^K$ will _still_ be close to 1.  In both cases, the expected winning percentage is about .500.\n",
    "3. When $K$ is large, our team's performance is rewarded (punished) with more assurances that we will win (lose) games.  If we are slightly better than our team, we will win and there will be little luck in the sport that gives us losses.  Conversely, when $K$ is small, no matter how good we are or how bad we are, we'll always win games around .500.  In this case, the games are just coin flips and purely luck.\n",
    "\n",
    "The exponents for MLB and NBA are about 1.83 and 14, respectively.  Fans/writers/whoever frequently express an instinctive feel for how NBA games are more pre-determined and that tournaments like the MLB playoffs are more random and luck-based.  One can see aspects of this in how a 73 win team like the Warriors would correspond to about 140 wins in MLB, something no team has ever remotely come close to.  Winning percentages in baseball translated over to the NBA would have NBA teams concentrate in a relatively tight range of about 30-56 wins.  \n",
    "\n",
    "This notion of baseball being a more luck-based game is further compounded when you look at the level of \"quality\" through the Run and Point Ratios.  MLB teams exhibit larger ranges of quality.  For example, from the demo on Pythagorean Expectation for MLB, you can see in one of the plots that multiple teams had a Run Ratio above 1.4.  In the next section, you'll see no NBA team had a Point Ratio above 1.15.  The same happens at the bottom end for the bad teams.  In MLB, teams exhibit wider ranges of quality but tighter ranges of winning percentages when compared to the NBA.\n",
    "\n",
    "See the cell below for examples for 1. and 2."
   ]
  },
  {
   "cell_type": "code",
   "execution_count": null,
   "metadata": {},
   "outputs": [],
   "source": [
    "# 1 plus a small amount raised to a large power\n",
    "print(1.00001**(1000000))\n",
    "# 1 minus a small amount raised to a large power\n",
    "print(.99999**(1000000))\n",
    "# a large numbers raised to a small power\n",
    "print(200**(.00001))\n",
    "# a small numbers raised to a small power\n",
    "print(.000001**(.00001))"
   ]
  },
  {
   "cell_type": "markdown",
   "metadata": {},
   "source": [
    "### 6. Using the computed exponent*, compute the Pythagorean Expectation\n",
    "*To skip the previous cell if it isn't working immediately: use 14. \n",
    "\n",
    "_Question_\n",
    "\n",
    "For team with really poor net scoring performance, how does the Pythagorean formula compare to the linear formula?  Which seems to perform better in this case?"
   ]
  },
  {
   "cell_type": "code",
   "execution_count": null,
   "metadata": {},
   "outputs": [],
   "source": [
    "nba['pythag_Wpct'] = nba['PR']**K / (1 + nba['PR']**K)\n",
    "\n",
    "fig, ax = plt.subplots()\n",
    "nba.plot.scatter(ax=ax, x=\"PR\", y='Wpct')\n",
    "nba.plot.scatter(ax=ax, x=\"PR\", y='LinWpct', color='C1')\n",
    "nba.plot.scatter(ax=ax, x=\"PR\", y='pythag_Wpct', color='C2')\n",
    "plt.legend();"
   ]
  },
  {
   "cell_type": "markdown",
   "metadata": {},
   "source": [
    "_Answer_\n",
    "\n",
    "The issue with the linear model can be seen at the extreme ends of scoring performance, but mainly for the bad teams with low Point Ratios.  Two teams had noticeably bad Point Ratios (see the next cell).  The linear model using Net PPG predicted these teams to have a winning percentage far too low.  In one case, it was nearly negative.\n",
    "\n",
    "This is really the only issue with the linear model.  For the most part, it's quite adequate!  For MLB, it was just fine but this is an example where its flaws can be revealed"
   ]
  },
  {
   "cell_type": "code",
   "execution_count": null,
   "metadata": {},
   "outputs": [],
   "source": [
    "nba[['team_id', 'wins', 'losses', 'ppg', 'opp_ppg', 'net_ppg', 'PR']].\\\n",
    "    sort_values('PR', ascending=True).\\\n",
    "    head(2)"
   ]
  },
  {
   "cell_type": "markdown",
   "metadata": {},
   "source": [
    "### 7. Compute Pythagorean Luck\n",
    "\n",
    "Again, use the columns `team_id, wins, losses, ppg, opp_ppg, net_ppg`\n",
    "\n",
    "+ Display a table of the top 10 \"luckiest\" teams.\n",
    "+ Display a table of the top 10 \"unluckiest\" teams."
   ]
  },
  {
   "cell_type": "code",
   "execution_count": null,
   "metadata": {},
   "outputs": [],
   "source": [
    "nba['pythag_luck'] = (nba['g'] * (nba['Wpct'] - nba['pythag_Wpct'])).round()"
   ]
  },
  {
   "cell_type": "code",
   "execution_count": null,
   "metadata": {},
   "outputs": [],
   "source": [
    "nba[['team_id', 'wins', 'losses', 'ppg', 'opp_ppg', 'net_ppg', 'pythag_luck']].\\\n",
    "    sort_values('pythag_luck', ascending=False).\\\n",
    "    head(10)"
   ]
  },
  {
   "cell_type": "code",
   "execution_count": null,
   "metadata": {},
   "outputs": [],
   "source": [
    "nba[['team_id', 'wins', 'losses', 'ppg', 'opp_ppg', 'net_ppg', 'pythag_luck']].\\\n",
    "    sort_values('pythag_luck', ascending=True).\\\n",
    "    head(10)"
   ]
  },
  {
   "cell_type": "markdown",
   "metadata": {},
   "source": [
    "### 8. Compute a table of Points-to-Wins values\n",
    "\n",
    "+ A function with the Points per Win formula has been provided\n",
    "+ A range of point-per-game values for PPG and Opponent PPG has been provided\n",
    "+ Compute the Points per Win for various PPG values\n",
    "\n",
    "You should see values around 30 points, or .3 PPG, per Win.  Interpret this as follows: if you increase your scoring by 1 PPG, you should expect about a 3 win improvement.  Teams like the 96 Bulls or recent Warriors with a Net PPG of 10 see close to 30 game increases above .500, ie high 60s wins compared to 41 wins."
   ]
  },
  {
   "cell_type": "code",
   "execution_count": null,
   "metadata": {},
   "outputs": [],
   "source": [
    "def pts_per_win(ppg, opp_ppg, K):\n",
    "    PR = ppg / opp_ppg\n",
    "    pyth = PR**K / (PR**K + 1)\n",
    "    return opp_ppg * PR**(K + 1) / (K * pyth**2)\n",
    "\n",
    "ppg_rng = np.arange(85, 130, 5)"
   ]
  },
  {
   "cell_type": "code",
   "execution_count": null,
   "metadata": {},
   "outputs": [],
   "source": [
    "pts_vals = []\n",
    "for opp_pts in ppg_rng:\n",
    "    row = []\n",
    "    pts_vals.append(row)\n",
    "    for ppg in ppg_rng:\n",
    "        row.append(pts_per_win(ppg, opp_pts, K))\n",
    "    \n",
    "pts_vals = np.around(pts_vals, decimals=2)\n",
    "\n",
    "net_ppg_to_wins = pd.DataFrame(\n",
    "    pts_vals,\n",
    "    index=pd.Series(ppg_rng, name='Opp PPG'),\n",
    "    columns=pd.Series(ppg_rng, name='PPG')\n",
    ")\n",
    "net_ppg_to_wins"
   ]
  },
  {
   "cell_type": "markdown",
   "metadata": {},
   "source": [
    "_Question_\n",
    "\n",
    "\n",
    "Say a team has a star player who averages 20-30 points per game.  The team loses this player for 10 games in the middle of the season.  Use the Net PPG-to-Wins conversions above and give a \"back-of-the-envelope\" estimate (with a bit of explanation your thinking) of how many extra games we should expect a team without the star to lose.  Consider this when answering:  Do you lose all 20-30 points the player provides or is it replaced in some way?  Is it replaced to the full extent?"
   ]
  },
  {
   "cell_type": "markdown",
   "metadata": {},
   "source": [
    "_Answer_ \n",
    "\n",
    "Suppose when the star player is lost, the team is unable to make up the 30ppg production. Say they could only replace the player with someone absolutely worthless on offense but still fine on defense.   Then they'd lose 30 PPG (and thus lose 30 Net PPG on their usual value) and should expect to lose every game in the 10 game stretch.  Why? 30 net points per game is a ludicrous amount and we intuitively know no team can drop 30 net points and still compete in the NBA.  Pythagorean Expectation confirms that: 30 net points on the season corresponds to 1 win.  Over a 10 game stretch the team loses 300 points, which corresponds to about 10 lost wins, ie. 0-10 on the 10 game stretch.\n",
    "\n",
    "On average we should expect losing the star player to lead to fewer wins since we should not expect the team to be able to adequately make up all the lost production.  The 17-18 Warriors had 4 all stars and 3 of them couldn't come very close to making up the production of Steph Curry. See here for more details: https://www.12up.com/posts/6012906-warriors-stars-offensive-stats-without-steph-curry-on-the-floor-are-devastating\n",
    "\n",
    "The possessions the star player typically uses to take shots and score 30 points aren't disappearing.  Someone else will get to use them.  So someone is going to step into the lineup and help make up for parts of the overall lost production.  For example, when Steph Curry has gone out for rest or injury, Shaun Livingston has often gotten the starting point guard spot.\n",
    "\n",
    "While the star player is producing 20-30 points per game from his possessions, we may only get 15-20 points per game from the rest of the team that tries to take up the slack.  Thus we might only see a drop of 5-10 points per game overall.  Over the course of 10 games, we may only expect to see 1-3 extra losses than normal."
   ]
  }
 ],
 "metadata": {
  "hide_input": false,
  "kernelspec": {
   "display_name": "Python 3",
   "language": "python",
   "name": "python3"
  },
  "language_info": {
   "codemirror_mode": {
    "name": "ipython",
    "version": 3
   },
   "file_extension": ".py",
   "mimetype": "text/x-python",
   "name": "python",
   "nbconvert_exporter": "python",
   "pygments_lexer": "ipython3",
   "version": "3.6.4"
  },
  "toc": {
   "nav_menu": {},
   "number_sections": true,
   "sideBar": true,
   "skip_h1_title": true,
   "title_cell": "Table of Contents",
   "title_sidebar": "Contents",
   "toc_cell": true,
   "toc_position": {},
   "toc_section_display": true,
   "toc_window_display": false
  },
  "varInspector": {
   "cols": {
    "lenName": 16,
    "lenType": 16,
    "lenVar": 40
   },
   "kernels_config": {
    "python": {
     "delete_cmd_postfix": "",
     "delete_cmd_prefix": "del ",
     "library": "var_list.py",
     "varRefreshCmd": "print(var_dic_list())"
    },
    "r": {
     "delete_cmd_postfix": ") ",
     "delete_cmd_prefix": "rm(",
     "library": "var_list.r",
     "varRefreshCmd": "cat(var_dic_list()) "
    }
   },
   "types_to_exclude": [
    "module",
    "function",
    "builtin_function_or_method",
    "instance",
    "_Feature"
   ],
   "window_display": false
  }
 },
 "nbformat": 4,
 "nbformat_minor": 2
}
