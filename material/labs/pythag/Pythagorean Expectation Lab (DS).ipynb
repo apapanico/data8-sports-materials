{
 "cells": [
  {
   "cell_type": "markdown",
   "metadata": {},
   "source": [
    "## Lab: Pythagorean Expectation for NBA\n",
    "\n",
    "### On You Own: Deriving the Exponent for NBA Pythagorean Expectation\n",
    "\n",
    "In this lab, you will perform the same analysis for the NBA reusing (almost exactly) the same code from the demo on Pythagorean Expectation for MLB but tweaked whereever necessary.  If you are unsure how to do something, just look to the corresponding part of the MLB section and emulate the code.  The data is loaded in the first cell.\n",
    "\n",
    "The columns (excluding some self-explanatory ones):\n",
    "+ `lg_id`: League ID\n",
    "+ `mp`: minutes played\n",
    "+ `pts`: points scored\n",
    "+ `opp_pts`: opponent points scored\n",
    "\n",
    "**IMPORTANT TIP**: Reuse the code from the demo on Pythagorean Expectation for MLB as much as possible.  You should be able to reuse basically all of it and rename a few things here and there.  It should all work to produce the results for this lab!  "
   ]
  },
  {
   "cell_type": "markdown",
   "metadata": {},
   "source": [
    "## Setup (Do Not Change)"
   ]
  },
  {
   "cell_type": "code",
   "execution_count": null,
   "metadata": {},
   "outputs": [],
   "source": [
    "%run ../../utils/notebook_setup.py\n",
    "\n",
    "import numpy as np\n",
    "\n",
    "from datascience import Table\n",
    "from datascience_stats import linear_fit\n",
    "\n",
    "usecols = ['wins','losses','g','pts','opp_pts','year','team_id']\n",
    "\n",
    "nba = Table.read_table(\n",
    "    \"nba_team_season_data.csv\",\n",
    "    usecols=usecols\n",
    ")\n",
    "\n",
    "nba.show(5)"
   ]
  },
  {
   "cell_type": "markdown",
   "metadata": {},
   "source": [
    "### 1. The first thing we need to do is compute the winning percentage \n",
    "$$\n",
    "    \\text{Win Pct} = W / G\n",
    "$$"
   ]
  },
  {
   "cell_type": "code",
   "execution_count": null,
   "metadata": {},
   "outputs": [],
   "source": []
  },
  {
   "cell_type": "markdown",
   "metadata": {},
   "source": [
    "### 2. Then we need to compute Points per Game values\n",
    "\\begin{align*}\n",
    "    \\text{Points For per Game} & = \\text{Points For}\\ /\\ \\text{Game} \\\\\n",
    "    \\text{Points Against per Game} & = \\text{Points Against}\\ /\\ \\text{Game} \\\\\n",
    "    \\text{Net Points per Game} & = \\text{Points For per Game} - \\text{Points Against per Game}\n",
    "\\end{align*}\n",
    "\n",
    "Call the columns `ppg`, `opp_ppg`, and `net_ppg`.\n",
    "\n",
    "*Note: Feel free to perform the analysis using Ratings, which provide points per 100 possessions, provided in the NBA dataset (you will need to change the data loading to include those columns).  The results will be identical.\n",
    "\n",
    "_Question_\n",
    "\n",
    "We're computing a per game value.  Should we use 82 or should we use something else?  What happened in the NBA recently (~2011) that might necessitate not using 82?"
   ]
  },
  {
   "cell_type": "code",
   "execution_count": null,
   "metadata": {},
   "outputs": [],
   "source": []
  },
  {
   "cell_type": "markdown",
   "metadata": {},
   "source": [
    "Show the top 10 team seasons by Net Points per Game.  Only show the following columns: `team_id, wins, losses, ppg, opp_ppg, net_ppg`"
   ]
  },
  {
   "cell_type": "code",
   "execution_count": null,
   "metadata": {},
   "outputs": [],
   "source": []
  },
  {
   "cell_type": "markdown",
   "metadata": {},
   "source": [
    "### 3. Compute the Linear Model\n",
    "$$\n",
    "    \\text{Linear Win Pct} = \\alpha  + \\beta \\cdot \\text{Net Points per Game}\n",
    "$$\n",
    "where $\\alpha$ gives $\\text{Average Win Pct}$ and $\\beta$ gives $\\text{Win Pct per Net Points per Game}$.\n",
    "\n",
    "Plot the linear model results as we did with MLB.\n",
    "\n",
    "**Remember: Reuse the code from the MLB demo!**\n",
    "\n",
    "\n",
    "_Question_\n",
    "\n",
    "For what values of Net Points per Game does $\\text{Linear Win Pct} < 0$ and $\\text{Linear Win Pct} > 1$?  How much of an issue is that here compared to when we looked at MLB data?"
   ]
  },
  {
   "cell_type": "code",
   "execution_count": null,
   "metadata": {},
   "outputs": [],
   "source": []
  },
  {
   "cell_type": "markdown",
   "metadata": {},
   "source": [
    "The estimated value of $\\beta$ should be about $0.03$.\n",
    "\n",
    "Compute the \"Net PPG per Win\" from the linear model.\n",
    "\n",
    "You should get a Net PPG per win of about 0.38."
   ]
  },
  {
   "cell_type": "code",
   "execution_count": null,
   "metadata": {},
   "outputs": [],
   "source": []
  },
  {
   "cell_type": "markdown",
   "metadata": {},
   "source": [
    "### 4. Compute the following values:\n",
    "\\begin{align*}\n",
    "    \\text{Points Ratio} & = \\text{PPG}\\ /\\ \\text{Opp PPG} \\\\\n",
    "    \\text{Log Points Ratio} & = \\log \\text{Points Ratio} \\\\\n",
    "    \\text{Log Odds} & = \\log \\text{Wins}\\ /\\ \\text{Losses}\n",
    "\\end{align*}"
   ]
  },
  {
   "cell_type": "code",
   "execution_count": null,
   "metadata": {},
   "outputs": [],
   "source": []
  },
  {
   "cell_type": "markdown",
   "metadata": {},
   "source": [
    "### 5. Compute a Pythagorean exponent for the NBA\n",
    "\n",
    "Plot the results of the model for the Pythagorean exponent.  \n",
    "\n",
    "**Again, reuse the MLB code with appropriate changes!**\n",
    "\n",
    "You should get a large value (around 14).  We could perform this analysis on all sorts of sports. \n",
    "\n",
    "_Question_\n",
    "\n",
    "What does this large value for the exponent mean?  To answer this question, start by answering this series of questions:\n",
    "+ Suppose some random sport had an exponent of $K=1\\text{mil}$.  If a team is able to score just a bit more than its opponents so $\\text{Points Ratio} > 1$ by a small amount.  What is $\\text{Points Ratio}^K$ in this case?  What is the team's expected winning percentage?\n",
    "+ Suppose as sport had an $K=0.00001$.  What is $\\text{Points Ratio}^K$ in this case?  What is a team's expected winning percentage if it is able to score just a bit more than its opponents?  What about if it's outscored by a little bit?\n",
    "+ Do larger or smaller values of K lead to a sport which features a lot of luck/chance in its outcomes?"
   ]
  },
  {
   "cell_type": "code",
   "execution_count": null,
   "metadata": {},
   "outputs": [],
   "source": []
  },
  {
   "cell_type": "markdown",
   "metadata": {},
   "source": [
    "### 6. Using the computed exponent*, compute the Pythagorean Expectation\n",
    "*To skip the previous cell if it isn't working immediately: use 14. \n",
    "\n",
    "_Question_\n",
    "\n",
    "For team with really poor net scoring performance, how does the Pythagorean formula compare to the linear formula?  Which seems to perform better in this case?"
   ]
  },
  {
   "cell_type": "code",
   "execution_count": null,
   "metadata": {},
   "outputs": [],
   "source": []
  },
  {
   "cell_type": "markdown",
   "metadata": {},
   "source": [
    "### 7. Compute Pythagorean Luck\n",
    "\n",
    "Again, use the columns `team_id, wins, losses, ppg, opp_ppg, net_ppg`\n",
    "\n",
    "+ Display a table of the top 10 \"luckiest\" teams.\n",
    "+ Display a table of the top 10 \"unluckiest\" teams."
   ]
  },
  {
   "cell_type": "code",
   "execution_count": null,
   "metadata": {},
   "outputs": [],
   "source": []
  },
  {
   "cell_type": "code",
   "execution_count": null,
   "metadata": {},
   "outputs": [],
   "source": []
  },
  {
   "cell_type": "code",
   "execution_count": null,
   "metadata": {},
   "outputs": [],
   "source": []
  },
  {
   "cell_type": "markdown",
   "metadata": {},
   "source": [
    "### 8. Compute a table of Points-to-Wins values\n",
    "\n",
    "+ A function with the Points per Win formula has been provided\n",
    "+ A range of point-per-game values for PPG and Opponent PPG has been provided\n",
    "+ Compute the Points per Win for various PPG values\n",
    "\n",
    "You should see values around 30 points, or .3 PPG, per Win.  Interpret this as follows: if you increase your scoring by 1 PPG, you should expect about a 3 win improvement.  Teams like the 96 Bulls or recent Warriors with a Net PPG of 10 see close to 30 game increases above .500, ie high 60s wins compared to 41 wins."
   ]
  },
  {
   "cell_type": "code",
   "execution_count": null,
   "metadata": {},
   "outputs": [],
   "source": [
    "def pts_per_win(ppg, opp_ppg, K):\n",
    "    PR = ppg / opp_ppg\n",
    "    pyth = PR**K / (PR**K + 1)\n",
    "    return opp_ppg * PR**(K + 1) / (K * pyth**2)\n",
    "\n",
    "ppg_rng = np.arange(85, 130, 5)"
   ]
  },
  {
   "cell_type": "code",
   "execution_count": null,
   "metadata": {},
   "outputs": [],
   "source": []
  },
  {
   "cell_type": "markdown",
   "metadata": {},
   "source": [
    "_Question_\n",
    "\n",
    "\n",
    "Say a team has a star player who averages 20-30 points per game.  The team loses this player for 10 games in the middle of the season.  Use the Net PPG-to-Wins conversions above and give a \"back-of-the-envelope\" estimate (with a bit of explanation your thinking) of how many extra games we should expect a team without the star to lose.  Consider this when answering:  Do you lose all 20-30 points the player provides or is it replaced in some way?  Is it replaced to the full extent?"
   ]
  }
 ],
 "metadata": {
  "hide_input": false,
  "kernelspec": {
   "display_name": "Python 3",
   "language": "python",
   "name": "python3"
  },
  "language_info": {
   "codemirror_mode": {
    "name": "ipython",
    "version": 3
   },
   "file_extension": ".py",
   "mimetype": "text/x-python",
   "name": "python",
   "nbconvert_exporter": "python",
   "pygments_lexer": "ipython3",
   "version": "3.6.5"
  },
  "toc": {
   "nav_menu": {},
   "number_sections": true,
   "sideBar": true,
   "skip_h1_title": true,
   "title_cell": "Table of Contents",
   "title_sidebar": "Contents",
   "toc_cell": true,
   "toc_position": {},
   "toc_section_display": true,
   "toc_window_display": false
  },
  "varInspector": {
   "cols": {
    "lenName": 16,
    "lenType": 16,
    "lenVar": 40
   },
   "kernels_config": {
    "python": {
     "delete_cmd_postfix": "",
     "delete_cmd_prefix": "del ",
     "library": "var_list.py",
     "varRefreshCmd": "print(var_dic_list())"
    },
    "r": {
     "delete_cmd_postfix": ") ",
     "delete_cmd_prefix": "rm(",
     "library": "var_list.r",
     "varRefreshCmd": "cat(var_dic_list()) "
    }
   },
   "types_to_exclude": [
    "module",
    "function",
    "builtin_function_or_method",
    "instance",
    "_Feature"
   ],
   "window_display": false
  }
 },
 "nbformat": 4,
 "nbformat_minor": 2
}
