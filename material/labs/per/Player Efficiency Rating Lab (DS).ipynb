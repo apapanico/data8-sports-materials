{
 "cells": [
  {
   "cell_type": "markdown",
   "metadata": {
    "cell_style": "split"
   },
   "source": [
    "# Lab On You Own:  Player Efficiency Rating (PER)\n",
    "\n",
    "## What is PER?  What does it do?\n",
    "\n",
    "\n",
    "---\n",
    "\n",
    "_Hat/tip Derek Topper_\n",
    "\n",
    "\n",
    "So far we have studied offensive metrics for baseball.  One thing we have seen is that a lot of metrics are built as linear sums of positive and negative contributions.  We will dissect PER (Player Efficiency Rating) in this lab and observe how it works as a metric for player performance.\n",
    "\n",
    "PER is a comprehensive metric that includes defensive statistics as well as offensive statistics.  While we have so far tried to segregate the two parts of play in baseball, we'll ignore that for now.\n",
    "\n",
    "Basketball has a lot of moving parts and so the challenge is to figure out what the positive and negative contributions a player can make are and how to value them.\n",
    "\n",
    "This notebook focuses on calculating Player Efficiency Rating given Raw NBA Player Data. PER looks like a complex, nasty equation but this notebook will break it down and show how it's not so complicated and how it makes an elegant attempt at performance measurenment.\n",
    "\n",
    "For another in-depth look at PER, check out Justin Jacobs' blog about it:\n",
    "https://squared2020.com/2017/09/01/breaking-down-player-efficiency-rating/\n",
    "\n",
    "\n",
    "### TO DO\n",
    "\n",
    "In the rest of the notebook, you will find ellipses in places where you need to fill in the required code (usually a formula).  At the end of the notebook, you'll find a set of questions to answer."
   ]
  },
  {
   "cell_type": "markdown",
   "metadata": {},
   "source": [
    "## 1. Setup and Data (Do not change)"
   ]
  },
  {
   "cell_type": "code",
   "execution_count": null,
   "metadata": {},
   "outputs": [],
   "source": [
    "%run ../../utils/notebook_setup.py"
   ]
  },
  {
   "cell_type": "code",
   "execution_count": null,
   "metadata": {},
   "outputs": [],
   "source": [
    "from datascience import Table, are\n",
    "import numpy as np"
   ]
  },
  {
   "cell_type": "markdown",
   "metadata": {},
   "source": [
    "### The Data\n",
    "\n",
    "We'll be working the total stats of all players from the 2016-17 NBA season. The metrics contain each player's unique totals for statistics like Points, Assists, Rebounds, Blocks and Steals.\n",
    "\n",
    "Here are the columns in the table below:\n",
    "* Rk -- Rank\n",
    "* Pos -- Position\n",
    "* Age -- Age of Player at the start of February 1st of that season.\n",
    "* Tm -- Team\n",
    "* G -- Games\n",
    "* GS -- Games Started\n",
    "* MP -- Minutes Played\n",
    "* FG -- Field Goals\n",
    "* FGA -- Field Goal Attempts\n",
    "* FG% -- Field Goal Percentage\n",
    "* 3P -- 3-Point Field Goals\n",
    "* 3PA -- 3-Point Field Goal Attempts\n",
    "* 3P% -- 3-Point Field Goal Percentage\n",
    "* 2P -- 2-Point Field Goals\n",
    "* 2PA -- 2-point Field Goal Attempts\n",
    "* 2P% -- 2-Point Field Goal Percentage\n",
    "* eFG% -- Effective Field Goal Percentage\n",
    "* FT -- Free Throws\n",
    "* FTA -- Free Throw Attempts\n",
    "* FT% -- Free Throw Percentage\n",
    "* ORB -- Offensive Rebounds\n",
    "* DRB -- Defensive Rebounds\n",
    "* TRB -- Total Rebounds\n",
    "* AST -- Assists\n",
    "* STL -- Steals\n",
    "* BLK -- Blocks\n",
    "* TOV -- Turnovers\n",
    "* PF -- Personal Fouls\n",
    "* PTS -- Points\n",
    "\n",
    "\n",
    "Our data has some players appearing more than once. That is because that player was traded or moved teams in the middle of the season. \n",
    "\n",
    "*For example:* Quincy Acy played 38 games total (TOT). Of those, 32 games were played for the Brooklyn Nets (BRK) and 6 were played for the Dallas Mavericks (DAL)"
   ]
  },
  {
   "cell_type": "code",
   "execution_count": null,
   "metadata": {},
   "outputs": [],
   "source": [
    "player_stats = Table().read_table('NBAPlayerStats2017.csv')\n",
    "player_stats.show(5)"
   ]
  },
  {
   "cell_type": "markdown",
   "metadata": {},
   "source": [
    "#### Remove TOT entries\n"
   ]
  },
  {
   "cell_type": "code",
   "execution_count": null,
   "metadata": {},
   "outputs": [],
   "source": [
    "player_stats = player_stats.where('Tm', are.not_equal_to('TOT'))"
   ]
  },
  {
   "cell_type": "markdown",
   "metadata": {},
   "source": [
    "## 2. PER\n",
    "\n",
    "John Hollinger was an NBA columnist for ESPN.com for eight years and is currently the Vice President of Basketball Operations for the Memphis Grizzlies. While at ESPN, he coined many advanced metrics in order to quantify player and team performance, such as Player Efficiency Rating (PER), Offensive Efficiency, Defensive Efficiency and Pace Factor.\n",
    "\n",
    "PER is a rating of a player’s per-minute statistical performance that Hollinger developed to make player comparisons easier, and has become a widely used standard over the past decade. Hollinger has described PER as the sum of <a href http://www.espn.com/nba/columns/story?columnist=hollinger_john&id=2850240> \"all a player's positive accomplishments, subtracts the negative accomplishments, and returns a per-minute rating of a player's performance.\"</a>\n",
    "\n",
    "As PER attempts to be an all-encompassing number that looks at positive accomplishments, such as field goals, free throws, 3-pointers, assists, rebounds, blocks and steals, and negative results, such as missed shots, turnovers and fouls. \n",
    "\n",
    "The formula adds positive stats and subtracts negative ones through a statistical point value system. The rating for each player is then adjusted to a per-minute basis so that no player is negatively impcted by lack of playing time. It is also adjusted for pace of play. In the end, PER serves as one number that attempts to create an overall player score.\n"
   ]
  },
  {
   "cell_type": "markdown",
   "metadata": {},
   "source": [
    "### PER Formula\n",
    "$$\n",
    "    aPER = uPER \\times \\frac{lgPace}{tmPace}, \\quad PER = aPER \\times \\frac{15}{lgaPER} \n",
    "$$\n",
    "\n",
    "Where:\n",
    "* ''uPER'' stands for unadjusted PER\n",
    "* ''aPER'' stands for pace-adjusted PER\n",
    "* ''tm'', the prefix, indicating of team rather than of player;\n",
    "* ''lg'', the prefix, indicating of league rather than of player;\n",
    "* ''Pace'' is related to the style of play of a team. We'll also get there later.\n",
    "\n",
    "The basic idea behind $uPER$ is the following:\n",
    "\\begin{align*}\n",
    "uPER & = \\frac{1}{min} \\times \\Bigg(\\Bigg.\\\\\n",
    "     & \\quad\\quad \\text{Three Pointers Made} \\\\\n",
    "     & \\quad\\quad + \\text{Contributions from Assists} \\\\\n",
    "     & \\quad\\quad + \\text{Contributions from FGs} \\\\\n",
    "     & \\quad\\quad + \\text{Contributions from FTs} \\\\\n",
    "     & \\quad\\quad - \\text{Contributions from TOs} \\\\\n",
    "     & \\quad\\quad - \\text{Contributions from Missed FGs} \\\\\n",
    "     & \\quad\\quad - \\text{Contributions from Missed FTs} \\\\\n",
    "     & \\quad\\quad + \\text{Contributions from Def Rebounds} \\\\\n",
    "     & \\quad\\quad + \\text{Contributions from Off Rebounds} \\\\\n",
    "     & \\quad\\quad + \\text{Contributions from Steals} \\\\\n",
    "     & \\quad\\quad + \\text{Contributions from Blocks} \\\\\n",
    "     & \\quad\\quad - \\text{Contributions from Fouls} \\\\\n",
    "     & \\quad \\Bigg.\\Bigg)\n",
    "\\end{align*}"
   ]
  },
  {
   "cell_type": "markdown",
   "metadata": {},
   "source": [
    "## 3. The Components of $uPER$\n",
    "Let's do the computation for a specific player: Steph Curry.  We're not going to go in the order of the formula but rather start with some foundational quantities and then go from easiest to hardest computations.\n"
   ]
  },
  {
   "cell_type": "code",
   "execution_count": null,
   "metadata": {},
   "outputs": [],
   "source": [
    "curry = player_stats.row(109).asdict()\n",
    "curry"
   ]
  },
  {
   "cell_type": "markdown",
   "metadata": {},
   "source": [
    "### A. League Quantities\n",
    "\n",
    "#### Value of Possession\n",
    "$VOP$ is the value of a possession and is equal to\n",
    "$$\n",
    "    VOP = \\frac{lgPTS}{lgFGA - lgORB + lgTO + 0.44 \\times lgFTA}\n",
    "$$\n",
    "The denominator is an approximation to the number of possessions."
   ]
  },
  {
   "cell_type": "code",
   "execution_count": null,
   "metadata": {},
   "outputs": [],
   "source": [
    "lgPTS = sum(player_stats.column('PTS'))\n",
    "lgFGA = sum(player_stats.column('FGA'))\n",
    "lgORB = sum(player_stats.column('ORB'))\n",
    "lgTOV = sum(player_stats.column('TOV'))\n",
    "lgFTA = sum(player_stats.column('FTA'))\n",
    "\n",
    "vop = ...\n",
    "vop  # 1.0685413540268014"
   ]
  },
  {
   "cell_type": "markdown",
   "metadata": {},
   "source": [
    "### Defensive Rebound Percentage\n",
    "Percentage of defensive rebounds grabbed is given by \n",
    "$$\n",
    "    DRBP = \\frac{lgTRB - lgORB}{lgTRB}\n",
    "$$"
   ]
  },
  {
   "cell_type": "code",
   "execution_count": null,
   "metadata": {},
   "outputs": [],
   "source": [
    "lgTRB = sum(player_stats.column('TRB'))\n",
    "lgORB = sum(player_stats.column('ORB'))\n",
    "\n",
    "drbp = ...\n",
    "drbp  # 0.7670440745100238"
   ]
  },
  {
   "cell_type": "markdown",
   "metadata": {},
   "source": [
    "### B. Contributions from Points\n",
    "\n",
    "#### Three Pointers\n",
    "Since three point shots are worth an extra point, we need to add in the extra point since it's not accounted for elsewhere.\n",
    "$$\n",
    "    \\text{Three Pointers Made} = \\mathit{3P}\n",
    "$$"
   ]
  },
  {
   "cell_type": "code",
   "execution_count": null,
   "metadata": {},
   "outputs": [],
   "source": [
    "three_pt_contr = ...\n",
    "three_pt_contr  # 324"
   ]
  },
  {
   "cell_type": "markdown",
   "metadata": {},
   "source": [
    "#### Field Goals\n",
    "\n",
    "PER values field goals in three ways:\n",
    "1. You get 2 points for making any field goal\n",
    "2. Some field goals are assisted.  We credit 2/3 of a point to the assister so we must deduct that from the 2 points in 1.\n",
    "3. A further league correction is applied (no one seems to know what this does so we'll just have to accept it).\n",
    "\n",
    "$$\n",
    "\\text{Contributions from FGs} = \\left ( 2 - \\frac23 \\times \\frac{tmAST}{tmFG} + K \\times \\frac{tmAST}{tmFG} \\right ) \\times FG\n",
    "$$\n",
    "where \n",
    "$$\n",
    "    K =  \\frac14 \\times \\frac{lgAST}{lgFG} \\times \\frac{lgFT}{lgFG}\n",
    "$$\n",
    "\n",
    "\n",
    "The usual way this calculation is presented is as,\n",
    "$$\n",
    "\\text{Contributions from FGs} = \\left ( 2 - \\text{factor} \\times \\frac{tmAST}{tmFG} \\right ) \\times FG\n",
    "$$\n",
    "where discount the value of the FG from 2 to account for assists by using $\\text{factor}$ multiplied by the team's assist rate.  The term $\\text{factor} \\times \\frac{tmAST}{tmFG}$ is meant to capture the expected number of FGs which were assisted with $\\text{factor}$ driving that expected value.  The largest component of $\\text{factor}$ will be that $\\frac23$ quantity."
   ]
  },
  {
   "cell_type": "code",
   "execution_count": null,
   "metadata": {},
   "outputs": [],
   "source": [
    "# Team values\n",
    "team = player_stats.where('Tm', \"GSW\")\n",
    "tmAST = sum(team['AST'])\n",
    "tmFG = sum(team['FG'])\n",
    "\n",
    "# League values\n",
    "lgAST = sum(player_stats['AST'])\n",
    "lgFG = sum(player_stats['FG'])\n",
    "lgFT = sum(player_stats['FT'])\n",
    "\n",
    "# Factor\n",
    "factor = ...\n",
    "\n",
    "# FGs\n",
    "FG = curry['FG']\n",
    "\n",
    "fg_contr = ...\n",
    "fg_contr  # 1064.1325273986868"
   ]
  },
  {
   "cell_type": "markdown",
   "metadata": {},
   "source": [
    "#### Free Throws\n",
    "\n",
    "As with FGs, we need to discount FTs by the expected number of times they were assisted.  For a field goal, we discounted by 2/3. For free throws, we discount them by a lower amount: 1/6.\n",
    "\n",
    "$$\n",
    "    \\text{Contributions from FTs} = \\left ( 1 -  \\frac{1}{6} \\times \\frac{tmAST}{tmFG} \\right ) \\times FT\n",
    "$$"
   ]
  },
  {
   "cell_type": "code",
   "execution_count": null,
   "metadata": {},
   "outputs": [],
   "source": [
    "FT = curry['FT']\n",
    "ft_contr = ...\n",
    "ft_contr  # 286.79808418271045"
   ]
  },
  {
   "cell_type": "markdown",
   "metadata": {},
   "source": [
    "### C. Rebounding and Assists\n",
    "\n",
    "#### Assists\n",
    "\n",
    "As we've seen, assists were determined to have value of $2/3$: an assist directly leads to a bucket but you shouldn't get full credit for the bucket. You get two-thirds of a point from the field goal.\n",
    "\n",
    "$$ \\text{Contributions from Assists} = \\frac23 \\times AST$$"
   ]
  },
  {
   "cell_type": "code",
   "execution_count": null,
   "metadata": {},
   "outputs": [],
   "source": [
    "asts_contr = ...\n",
    "asts_contr  # 349.3333333333333"
   ]
  },
  {
   "cell_type": "markdown",
   "metadata": {},
   "source": [
    "#### Defensive Rebounds\n",
    "\n",
    "Since you are gaining a possession for your team, you should be rewarded for your rebounds but at the rate at which teams offensive rebound.\n",
    "\n",
    "$$\n",
    "    \\text{Contributions from Def Rebounds} = VOP \\times \\left(1 - DRBP \\right) \\times \\left(TRB - ORB \\right)\n",
    "$$\n",
    "\n",
    "$VOP \\times \\left(1 - DRBP \\right)$ represents the expected value of a possession for the opposing by their offensive rebounding.  By securing a defensive rebound, you prevent the opposing team from getting that value, hence why it's positively credited to you.  If teams secure all defensive rebounds, then $DRBP = 1$ and you get no credit because you did what everyone else does: secured a defensive rebound.  As $DRBP$ drops, the value of an individual defensive rebound goes up and you get credited more for each defensive rebound.\n",
    "\n"
   ]
  },
  {
   "cell_type": "code",
   "execution_count": null,
   "metadata": {},
   "outputs": [],
   "source": [
    "TRB = curry['TRB']\n",
    "ORB = curry['ORB']\n",
    "\n",
    "drb_contr = ...\n",
    "drb_contr  # 72.68552769507475"
   ]
  },
  {
   "cell_type": "markdown",
   "metadata": {},
   "source": [
    "#### Offensive Rebounds\n",
    "\n",
    "Similar to defensive rebounding, you are extending possession for your team and preventing the other team from gaining a possession.  You should be rewarded for the value of a possession at the rate at which teams defensive rebound.\n",
    "$$\n",
    "    \\text{Contributions from Off Rebounds} = VOP \\times DRBP \\times ORB \n",
    "$$\n",
    "\n",
    "$VOP \\times DRBP$ represents the expected value of a possession for the opposing by their defensive rebounding.  By securing an offensive rebound, you prevent the opposing team from getting that possession value.  If teams secure nearly all defensive rebounds, then $DRBP \\sim 1$ and you get a lot of credit for an offensive rebound because you prevented a possession.  As $DRBP$ drops, the value of an individual offensive rebounding drops and you get credited less for each offensive rebound.\n",
    "\n"
   ]
  },
  {
   "cell_type": "code",
   "execution_count": null,
   "metadata": {},
   "outputs": [],
   "source": [
    "orb_contr = ...\n",
    "orb_contr  # 49.99671715248571"
   ]
  },
  {
   "cell_type": "markdown",
   "metadata": {},
   "source": [
    "### D. Defense"
   ]
  },
  {
   "cell_type": "markdown",
   "metadata": {},
   "source": [
    "#### Steals\n",
    "Steals lead to a possession for the team so reward with $VOP$\n",
    "$$\n",
    "\\text{Contributions from Steals} = VOP \\times STL\n",
    "$$"
   ]
  },
  {
   "cell_type": "code",
   "execution_count": null,
   "metadata": {},
   "outputs": [],
   "source": [
    "STL = curry['STL']\n",
    "stl_contr = ...\n",
    "stl_contr  # 151.7328722718058"
   ]
  },
  {
   "cell_type": "markdown",
   "metadata": {},
   "source": [
    "#### Blocks\n",
    "Blocks are rewarded for gaining a possession at the rate at which they are rebounded (you shouldn't get rewarded for a block that is recovered by the other team).\n",
    "$$\n",
    "    \\text{Contributions from Blocks} = VOP \\times DRBP \\times BLK \n",
    "$$"
   ]
  },
  {
   "cell_type": "code",
   "execution_count": null,
   "metadata": {},
   "outputs": [],
   "source": [
    "BLK = curry['BLK']\n",
    "blk_contr = ...\n",
    "blk_contr  # 13.933511337577983"
   ]
  },
  {
   "cell_type": "markdown",
   "metadata": {},
   "source": [
    "### E. The Negatives"
   ]
  },
  {
   "cell_type": "markdown",
   "metadata": {},
   "source": [
    "#### Turnovers\n",
    "Turnovers prevent a chance at scoring so we need to dock the value of a possession from the player's rating.\n",
    "$$\n",
    "    \\text{Contributions from TOs} = VOP \\times TO\n",
    "$$"
   ]
  },
  {
   "cell_type": "code",
   "execution_count": null,
   "metadata": {},
   "outputs": [],
   "source": [
    "TO = curry['TOV']\n",
    "to_contr = ...\n",
    "to_contr  # 255.38138361240553"
   ]
  },
  {
   "cell_type": "markdown",
   "metadata": {},
   "source": [
    "#### MIssed FGs\n",
    "We need to dock the player for missed FGs that got rebounded by the defense.  A missed shot and no offensive rebound means a loss in the value of a possession.\n",
    "$$\n",
    "    \\text{Contributions from Missed FGs} = VOP \\times DRBP \\times \\left(FGA - FG \\right) \n",
    "$$"
   ]
  },
  {
   "cell_type": "code",
   "execution_count": null,
   "metadata": {},
   "outputs": [],
   "source": [
    "FGA = curry['FGA']\n",
    "missedfg_contr = ...\n",
    "missedfg_contr  # 629.4668651329348"
   ]
  },
  {
   "cell_type": "markdown",
   "metadata": {},
   "source": [
    "#### Missed FTs\n",
    "\n",
    "A missed free throw provides a value to the opposing team if it's not rebounded by the offense.  \n",
    "\n",
    "We need to account for how missed FTs that didn't get rebounded by the offense led to a diminished value of the possession (not a full loss like a missed FG).  The arithmetic to account for this is given by,\n",
    "$$\n",
    "    \\text{Contributions from Missed FTs} = VOP \\times 0.44 \\times \\left(0.44 + 0.56 \\times DRBP \\right)\n",
    "         \\times \\left(FTA - FT \\right) \n",
    "$$\n",
    "\n",
    "Like other aspects of PER, it's not immediately clear how this is supposed to work.  I'll let Justin Jacobs, who works for the Orlando Magic, try to explain it:\n",
    "\n",
    "\n",
    "> Here, we calculate the number of missed free throws, $FTA - FT$. Next we have a deceitful term of $0.44 + 0.56 \\times DRBP$. Recalling that $DRBP$ is the defensive rebound percentage, we can rewrite this as $0.44 \\cdot ( 1 - DRBP) + DRBP$. The second term is the expected percentage of defensive rebounds on missed free throws that terminate possessions. We multiply by the extra 0.44 to ensure the expected terminated possession. The first term is the expected percentage of free throws that are offensively rebounded. There is an extra 0.44 term. The reason for this is due to the possession continuing for the same offensive team. In this case, if a field goal is attempted, the associated value is absorbed in another term. Hence, the free-throw only contributions are multiplied by a second 0.44 factor. Multiply this term by the league average points per possession and we obtain the expected number of points lost due to missed free throws.\n",
    "\n"
   ]
  },
  {
   "cell_type": "code",
   "execution_count": null,
   "metadata": {},
   "outputs": [],
   "source": [
    "FTA = curry['FTA']\n",
    "missedft_contr = ...\n",
    "missedft_contr  # 15.126471672013666"
   ]
  },
  {
   "cell_type": "markdown",
   "metadata": {},
   "source": [
    "#### Fouls\n",
    "Fouls lead to opposing points so you should be docked for giving up points.  You should only be docked for giving points above the expected value for those possessions.\n",
    "\n",
    "\\begin{align*}\n",
    "    \\text{Contributions from Fouls} & = \\text{Total points from commmited fouls} - \\text{Points expected on those possessions} \\\\\n",
    "    & = \n",
    "    PF \\times \\frac{lgFT}{lgPF} - PF \\times 0.44 \\times \\frac{lgFTA}{lgPF} \\times VOP\n",
    "\\end{align*}"
   ]
  },
  {
   "cell_type": "code",
   "execution_count": null,
   "metadata": {},
   "outputs": [],
   "source": [
    "lgPF = sum(player_stats['PF'])\n",
    "\n",
    "PF = curry['PF']\n",
    "foul_contr = ...\n",
    "foul_contr  # 64.12348330192515"
   ]
  },
  {
   "cell_type": "markdown",
   "metadata": {},
   "source": [
    "#### Curry's $\\mathit{uPER}$\n",
    "\n",
    "We put together all the contributions and we get $\\mathit{uPER}$."
   ]
  },
  {
   "cell_type": "code",
   "execution_count": null,
   "metadata": {},
   "outputs": [],
   "source": [
    "MP = curry['MP']\n",
    "curry_uper = (\n",
    "    three_pt_contr + asts_contr + fg_contr + ft_contr\n",
    "    - to_contr - missedfg_contr - missedft_contr\n",
    "    + drb_contr + orb_contr + stl_contr + blk_contr\n",
    "    - foul_contr\n",
    ") / MP\n",
    "curry_uper  # 0.5111881613542061"
   ]
  },
  {
   "cell_type": "markdown",
   "metadata": {},
   "source": [
    "## 4. Computing PER\n",
    "\n",
    "Recall the formula\n",
    "$$\n",
    "    \\mathit{aPER} = \\mathit{uPER} \\times \\frac{\\mathit{lgPace}}{\\mathit{tmPace}}, \\quad \\mathit{PER} = \\mathit{aPER} \\times \\frac{15}{\\mathit{lgaPER}} \n",
    "$$\n",
    "where we now have $\\mathit{uPER}$ for Steph Curry.\n",
    "\n",
    "#### $\\mathit{lguPER}$\n",
    "We need to compute $\\mathit{uPER}$ for every player.  We take the previous code and put it into a function to compute for every player."
   ]
  },
  {
   "cell_type": "code",
   "execution_count": null,
   "metadata": {},
   "outputs": [],
   "source": [
    "def uPER(player, player_stats):\n",
    "    # Team values\n",
    "    team = player_stats.where('Tm', player['Tm'])\n",
    "    tmAST = sum(team['AST'])\n",
    "    tmFG = sum(team['FG'])\n",
    "\n",
    "    # League values\n",
    "    lgPTS = sum(player_stats['PTS'])\n",
    "    lgFG = sum(player_stats['FG'])\n",
    "    lgFGA = sum(player_stats['FGA'])\n",
    "    lgAST = sum(player_stats['AST'])\n",
    "    lgFT = sum(player_stats['FT'])\n",
    "    lgFTA = sum(player_stats['FTA'])\n",
    "    lgTRB = sum(player_stats['TRB'])\n",
    "    lgORB = sum(player_stats['ORB'])\n",
    "    lgTOV = sum(player_stats['TOV'])\n",
    "    lgPF = sum(player_stats['PF'])\n",
    "\n",
    "    # Values\n",
    "    factor = (2 / 3) - (0.5 * (lgAST / lgFG)) / (2 * (lgFG / lgFT))\n",
    "    vop = lgPTS / (lgFGA - lgORB + lgTOV + (.44 * lgFTA))\n",
    "    drbp = (lgTRB - lgORB) / lgTRB\n",
    "\n",
    "    # Stats\n",
    "    MP = player['MP']\n",
    "    FG3 = player['3P']\n",
    "    FG = player['FG']\n",
    "    FGA = player['FGA']\n",
    "    AST = player['AST']\n",
    "    FT = player['FT']\n",
    "    FTA = player['FTA']\n",
    "    TRB = player['TRB']\n",
    "    ORB = player['ORB']\n",
    "    STL = player['STL']\n",
    "    TO = player['TOV']\n",
    "    BLK = player['BLK']\n",
    "    PF = player['PF']\n",
    "\n",
    "    # Contributions\n",
    "    three_pt_contr = FG3\n",
    "    asts_contr = (2/3) * AST\n",
    "    fg_contr = (2 - factor * tmAST / tmFG) * FG\n",
    "    ft_contr = .5 * FT * (2 - tmAST / (3 * tmFG))\n",
    "    to_contr = TO * vop \n",
    "    missedfg_contr = vop * drbp * (FGA - FG)\n",
    "    missedft_contr = vop * .44 * (.44 + .56 * drbp) * (FTA - FT)\n",
    "    drb_contr = vop * (1 - drbp) * (TRB - ORB)\n",
    "    orb_contr = vop * drbp * ORB\n",
    "    stl_contr = vop * STL\n",
    "    blk_contr = vop * drbp * BLK\n",
    "    foul_contr = PF * lgFT / lgPF - PF * .44 * lgFTA / lgPF * vop\n",
    "\n",
    "    player_uper = (\n",
    "        three_pt_contr + asts_contr + fg_contr + ft_contr\n",
    "        - to_contr - missedfg_contr - missedft_contr\n",
    "        + drb_contr + orb_contr + stl_contr + blk_contr\n",
    "        - foul_contr\n",
    "    ) / MP\n",
    "    return player_uper"
   ]
  },
  {
   "cell_type": "code",
   "execution_count": null,
   "metadata": {},
   "outputs": [],
   "source": [
    "# verify\n",
    "uPER(curry, player_stats), uPER(curry, player_stats) == curry_uper"
   ]
  },
  {
   "cell_type": "markdown",
   "metadata": {},
   "source": [
    "### A. Compute $\\mathit{uPER$} for each player"
   ]
  },
  {
   "cell_type": "code",
   "execution_count": null,
   "metadata": {},
   "outputs": [],
   "source": [
    "player_upers = []\n",
    "for player in player_stats.rows:\n",
    "    player = player.asdict()\n",
    "    # the function uPER takes two arguments, a dict like player and the full table player_stats\n",
    "    player_uper = ...\n",
    "    player_upers.append(player_uper)\n",
    "player_stats['uPER'] = player_upers"
   ]
  },
  {
   "cell_type": "code",
   "execution_count": null,
   "metadata": {},
   "outputs": [],
   "source": [
    "player_stats.show(20)"
   ]
  },
  {
   "cell_type": "markdown",
   "metadata": {},
   "source": [
    "### B. Pace and Pace Factor\n",
    "\n",
    "#### Team and League Pace\n",
    "Team pace is stored in a separate file."
   ]
  },
  {
   "cell_type": "code",
   "execution_count": null,
   "metadata": {},
   "outputs": [],
   "source": [
    "pace = Table().read_table('Pace.csv')\n",
    "pace.sort('Pace', descending=True).show()"
   ]
  },
  {
   "cell_type": "code",
   "execution_count": null,
   "metadata": {},
   "outputs": [],
   "source": [
    "def get_team_pace(pace, tm):\n",
    "    return pace.where('Team', tm)['Pace'].item()"
   ]
  },
  {
   "cell_type": "code",
   "execution_count": null,
   "metadata": {},
   "outputs": [],
   "source": [
    "lgPace = get_team_pace(pace, 'League Average')\n",
    "lgPace"
   ]
  },
  {
   "cell_type": "markdown",
   "metadata": {},
   "source": [
    "#### Pace and Pace Factors for Each Player\n",
    "\n",
    "We extract the player's team pace from the table `pace` and we compute the pace factor as\n",
    "$$\n",
    "    \\text{Pace Factor} = \\frac{lgPace}{tmPace}\n",
    "$$"
   ]
  },
  {
   "cell_type": "code",
   "execution_count": null,
   "metadata": {},
   "outputs": [],
   "source": [
    "player_paces = []\n",
    "player_pace_factors = []\n",
    "for player in player_stats.rows:\n",
    "    player = player.asdict()\n",
    "    \n",
    "    player_pace = get_team_pace(pace, player['Tm'])\n",
    "    player_paces.append(player_pace)\n",
    "    \n",
    "    # compute the pace factor\n",
    "    player_pace_factor = ...\n",
    "    player_pace_factors.append(player_pace_factor)\n",
    "    \n",
    "player_stats['Pace'] = player_paces\n",
    "player_stats['Pace Factor'] = player_pace_factors"
   ]
  },
  {
   "cell_type": "code",
   "execution_count": null,
   "metadata": {},
   "outputs": [],
   "source": [
    "player_stats.show(5)"
   ]
  },
  {
   "cell_type": "markdown",
   "metadata": {},
   "source": [
    "### C. $\\mathit{aPER}$\n",
    "\n",
    "We adjust $uPER$ by the pace factor to get $aPER$.\n",
    "$$\n",
    "    \\mathit{aPER} = \\mathit{UPER} \\times \\frac{\\mathit{lgPace}}{\\mathit{tmPace}}\n",
    "$$"
   ]
  },
  {
   "cell_type": "code",
   "execution_count": null,
   "metadata": {},
   "outputs": [],
   "source": [
    "player_stats['aPER'] = ..."
   ]
  },
  {
   "cell_type": "markdown",
   "metadata": {},
   "source": [
    "### D. Weighted Average to get $\\mathit{lgaPER}$\n",
    "\n",
    "We need to use a weighted average to get the $\\mathit{lgaPER}$.  Why?  Suppose a player in one minute of action earned an extremely high $\\mathit{aPER}$ while over a season, Russel Westbrook earned a lower (but still high) $\\mathit{aPER}$.  Without weighting by minutes played, we'd naively treat these players evenly.\n",
    "\n",
    "$$\n",
    "    \\mathit{lgaPER} = \\sum_{\\text{Players}} \\frac{\\mathit{MP}_{\\text{Player $i$}}}{\\text{Total MP by all players}} \\times \\mathit{aPER}_{\\text{Player $i$}}\n",
    "$$"
   ]
  },
  {
   "cell_type": "code",
   "execution_count": null,
   "metadata": {},
   "outputs": [],
   "source": [
    "weights = player_stats['MP'] / np.sum(player_stats['MP'])\n",
    "\n",
    "# weighted average by minutes played\n",
    "lg_aper = np.sum(player_stats['aPER'] * weights)\n",
    "lg_aper"
   ]
  },
  {
   "cell_type": "markdown",
   "metadata": {},
   "source": [
    "### E. Compute PER"
   ]
  },
  {
   "cell_type": "code",
   "execution_count": null,
   "metadata": {},
   "outputs": [],
   "source": [
    "player_stats['PER'] = ..."
   ]
  },
  {
   "cell_type": "markdown",
   "metadata": {},
   "source": [
    "Display the top 20 in PER, restricting to players with over 1500 MP."
   ]
  },
  {
   "cell_type": "code",
   "execution_count": null,
   "metadata": {},
   "outputs": [],
   "source": [
    "player_stats.where('MP', are.above_or_equal_to(1500)).\\\n",
    "    sort('PER', descending=True).\\\n",
    "    show(20)"
   ]
  },
  {
   "cell_type": "markdown",
   "metadata": {},
   "source": [
    "## 5. Why we need to pace adjust\n",
    "\n",
    "Let's consider a non-pace adjusted version of PER using just $\\mathit{uPER}$."
   ]
  },
  {
   "cell_type": "code",
   "execution_count": null,
   "metadata": {},
   "outputs": [],
   "source": [
    "# compute weighted avarage lguPER\n",
    "lg_uper = np.sum(player_stats['uPER'] * weights)\n",
    "\n",
    "# compute non-pace adjusted PER\n",
    "player_stats['PER_nopace'] =  player_stats['uPER'] * 15 / lg_uper\n",
    "\n",
    "# compare to PER\n",
    "player_stats['PER_diff'] = player_stats['PER_nopace'] - player_stats['PER']\n",
    "player_stats['PER_ratio'] = player_stats['PER_nopace'] / player_stats['PER']"
   ]
  },
  {
   "cell_type": "markdown",
   "metadata": {},
   "source": [
    "It shouldn't surprise you that the players with the largest positive difference between PER and the non-pace adjusted PER also play on teams with high pace (ie. pace factors < 1).  Conversely, the players with the largest negative differences play on teams with low pace (ie. pace factors > 1).\n",
    "\n",
    "Overall differences between the two versions are about 5%.  While not huge, this can definetly rearrange perspective on a player by properly considering their pace adjustment."
   ]
  },
  {
   "cell_type": "code",
   "execution_count": null,
   "metadata": {},
   "outputs": [],
   "source": [
    "player_stats.where('MP', are.above_or_equal_to(1500)).\\\n",
    "    sort('PER_diff', descending=True).\\\n",
    "    show(10)"
   ]
  },
  {
   "cell_type": "code",
   "execution_count": null,
   "metadata": {},
   "outputs": [],
   "source": [
    "player_stats.where('MP', are.above_or_equal_to(1500)).\\\n",
    "    sort('PER_diff', descending=False).\\\n",
    "    show(10)"
   ]
  },
  {
   "cell_type": "markdown",
   "metadata": {},
   "source": [
    "## 6. Questions\n",
    "\n",
    "1. In your own words, what do you see as the overall goal of PER?\n",
    "2. Where does PER use a style of expected value modeling in its calculations?\n",
    "3. PER was developed in an era where basic box score statistics were the only thing really available.  Where does that lead to issues with how PER values a player's contributions to the team?\n",
    "4. Lay out any criticisms of PER you might have.  Feel free to research further via google, but present the criticism in your own words.  Here's a prompt to get you started: One can argue that the NBA is a league of do everything superstars surrounded by specialists/role players who need to fit into a cog, especially on defense.  How does PER fail to evaluate players outside of the box score-stuffing stars?\n",
    "5. What does PER do well?  Don't say \"nothing\"."
   ]
  }
 ],
 "metadata": {
  "anaconda-cloud": {},
  "hide_input": false,
  "kernelspec": {
   "display_name": "Python 3",
   "language": "python",
   "name": "python3"
  },
  "language_info": {
   "codemirror_mode": {
    "name": "ipython",
    "version": 3
   },
   "file_extension": ".py",
   "mimetype": "text/x-python",
   "name": "python",
   "nbconvert_exporter": "python",
   "pygments_lexer": "ipython3",
   "version": "3.6.5"
  },
  "varInspector": {
   "cols": {
    "lenName": 16,
    "lenType": 16,
    "lenVar": 40
   },
   "kernels_config": {
    "python": {
     "delete_cmd_postfix": "",
     "delete_cmd_prefix": "del ",
     "library": "var_list.py",
     "varRefreshCmd": "print(var_dic_list())"
    },
    "r": {
     "delete_cmd_postfix": ") ",
     "delete_cmd_prefix": "rm(",
     "library": "var_list.r",
     "varRefreshCmd": "cat(var_dic_list()) "
    }
   },
   "types_to_exclude": [
    "module",
    "function",
    "builtin_function_or_method",
    "instance",
    "_Feature"
   ],
   "window_display": false
  }
 },
 "nbformat": 4,
 "nbformat_minor": 1
}
