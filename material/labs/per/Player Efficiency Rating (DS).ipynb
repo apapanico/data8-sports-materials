{
 "cells": [
  {
   "cell_type": "markdown",
   "metadata": {
    "cell_style": "split"
   },
   "source": [
    "# Performance Metrics in Basketball: PER\n",
    "\n",
    "\n",
    "---\n",
    "\n",
    "_Co-Authored with Derek Topper_\n",
    "\n",
    "\n",
    "So far we have studied offensive metrics for baseball.  One thing we have seen is that a lot of metrics are built as linear sums of positive and negative contributions.  We will dissect PER (Player Efficiency Rating) in this notebook and observe how it works as a metric for player performance.\n",
    "\n",
    "PER is a comprehensive metric that includes defensive statistics as well as offensive statistics.  While we have so far tried to segregate the two parts of play in baseball, we'll ignore that for now.\n",
    "\n",
    "Basketball has a lot of moving parts and so the challenge is to figure out what the positive and negative contributions a player can make are and how to value them.\n",
    "\n",
    "This notebook focuses on calculating Player Efficiency Rating given Raw NBA Player Data. PER looks like a complex, nasty equation but this notebook will break it down and show how simple and powerful it can be.\n",
    "\n",
    "\n"
   ]
  },
  {
   "cell_type": "markdown",
   "metadata": {
    "cell_style": "split"
   },
   "source": [
    "<img src=\"http://www.mercurynews.com/wp-content/uploads/2017/02/sjm-stancalbkc-0218-01.jpg?w=620\" style=\"width: 300px; height: 450px;\" />\n"
   ]
  },
  {
   "cell_type": "markdown",
   "metadata": {},
   "source": [
    "## Setup and Data"
   ]
  },
  {
   "cell_type": "code",
   "execution_count": 1,
   "metadata": {},
   "outputs": [
    {
     "name": "stdout",
     "output_type": "stream",
     "text": [
      "Adding datascience helper tools to path...\n",
      "Setting up Matplotlib...\n",
      "Matplotlib imported as mpl\n",
      "Matplotlib.pyplot imported as plt\n"
     ]
    }
   ],
   "source": [
    "%run ../../utils/notebook_setup.py"
   ]
  },
  {
   "cell_type": "code",
   "execution_count": 2,
   "metadata": {},
   "outputs": [],
   "source": [
    "from datascience import *\n",
    "import numpy as np\n",
    "%matplotlib inline\n",
    "import matplotlib.pyplot as plt\n",
    "import seaborn as sns"
   ]
  },
  {
   "cell_type": "markdown",
   "metadata": {},
   "source": [
    "### The Data\n",
    "\n",
    "We'll be working the total stats of all players from the 2016-17 NBA season. The metrics contain each player's unique totals for statistics like Points, Assists, Rebounds, Blocks and Steals.\n",
    "\n",
    "Here are the columns in the table below:\n",
    "* Rk -- Rank\n",
    "* Pos -- Position\n",
    "* Age -- Age of Player at the start of February 1st of that season.\n",
    "* Tm -- Team\n",
    "* G -- Games\n",
    "* GS -- Games Started\n",
    "* MP -- Minutes Played\n",
    "* FG -- Field Goals\n",
    "* FGA -- Field Goal Attempts\n",
    "* FG% -- Field Goal Percentage\n",
    "* 3P -- 3-Point Field Goals\n",
    "* 3PA -- 3-Point Field Goal Attempts\n",
    "* 3P% -- 3-Point Field Goal Percentage\n",
    "* 2P -- 2-Point Field Goals\n",
    "* 2PA -- 2-point Field Goal Attempts\n",
    "* 2P% -- 2-Point Field Goal Percentage\n",
    "* eFG% -- Effective Field Goal Percentage\n",
    "* FT -- Free Throws\n",
    "* FTA -- Free Throw Attempts\n",
    "* FT% -- Free Throw Percentage\n",
    "* ORB -- Offensive Rebounds\n",
    "* DRB -- Defensive Rebounds\n",
    "* TRB -- Total Rebounds\n",
    "* AST -- Assists\n",
    "* STL -- Steals\n",
    "* BLK -- Blocks\n",
    "* TOV -- Turnovers\n",
    "* PF -- Personal Fouls\n",
    "* PTS -- Points\n",
    "\n",
    "\n",
    "Our data has some players appearing more than once. That is because that player was traded or moved teams in the middle of the season. \n",
    "\n",
    "*For example:* Quincy Acy played 38 games total (TOT). Of those, 32 games were played for the Brooklyn Nets (BRK) and 6 were played for the Dallas Mavericks (DAL)"
   ]
  },
  {
   "cell_type": "code",
   "execution_count": 3,
   "metadata": {},
   "outputs": [
    {
     "data": {
      "text/html": [
       "<table border=\"1\" class=\"dataframe\">\n",
       "    <thead>\n",
       "        <tr>\n",
       "            <th>Rk</th> <th>Player</th> <th>Pos</th> <th>Age</th> <th>Tm</th> <th>G</th> <th>GS</th> <th>MP</th> <th>FG</th> <th>FGA</th> <th>FG%</th> <th>3P</th> <th>3PA</th> <th>3P%</th> <th>2P</th> <th>2PA</th> <th>2P%</th> <th>eFG%</th> <th>FT</th> <th>FTA</th> <th>FT%</th> <th>ORB</th> <th>DRB</th> <th>TRB</th> <th>AST</th> <th>STL</th> <th>BLK</th> <th>TOV</th> <th>PF</th> <th>PTS</th>\n",
       "        </tr>\n",
       "    </thead>\n",
       "    <tbody>\n",
       "        <tr>\n",
       "            <td>1   </td> <td>Alex Abrines</td> <td>SG  </td> <td>23  </td> <td>OKC </td> <td>68  </td> <td>6   </td> <td>1055</td> <td>134 </td> <td>341 </td> <td>0.393</td> <td>94  </td> <td>247 </td> <td>0.381</td> <td>40  </td> <td>94  </td> <td>0.426</td> <td>0.531</td> <td>44  </td> <td>49  </td> <td>0.898</td> <td>18  </td> <td>68  </td> <td>86  </td> <td>40  </td> <td>37  </td> <td>8   </td> <td>33  </td> <td>114 </td> <td>406 </td>\n",
       "        </tr>\n",
       "        <tr>\n",
       "            <td>2   </td> <td>Quincy Acy  </td> <td>PF  </td> <td>26  </td> <td>TOT </td> <td>38  </td> <td>1   </td> <td>558 </td> <td>70  </td> <td>170 </td> <td>0.412</td> <td>37  </td> <td>90  </td> <td>0.411</td> <td>33  </td> <td>80  </td> <td>0.413</td> <td>0.521</td> <td>45  </td> <td>60  </td> <td>0.75 </td> <td>20  </td> <td>95  </td> <td>115 </td> <td>18  </td> <td>14  </td> <td>15  </td> <td>21  </td> <td>67  </td> <td>222 </td>\n",
       "        </tr>\n",
       "        <tr>\n",
       "            <td>2   </td> <td>Quincy Acy  </td> <td>PF  </td> <td>26  </td> <td>DAL </td> <td>6   </td> <td>0   </td> <td>48  </td> <td>5   </td> <td>17  </td> <td>0.294</td> <td>1   </td> <td>7   </td> <td>0.143</td> <td>4   </td> <td>10  </td> <td>0.4  </td> <td>0.324</td> <td>2   </td> <td>3   </td> <td>0.667</td> <td>2   </td> <td>6   </td> <td>8   </td> <td>0   </td> <td>0   </td> <td>0   </td> <td>2   </td> <td>9   </td> <td>13  </td>\n",
       "        </tr>\n",
       "        <tr>\n",
       "            <td>2   </td> <td>Quincy Acy  </td> <td>PF  </td> <td>26  </td> <td>BRK </td> <td>32  </td> <td>1   </td> <td>510 </td> <td>65  </td> <td>153 </td> <td>0.425</td> <td>36  </td> <td>83  </td> <td>0.434</td> <td>29  </td> <td>70  </td> <td>0.414</td> <td>0.542</td> <td>43  </td> <td>57  </td> <td>0.754</td> <td>18  </td> <td>89  </td> <td>107 </td> <td>18  </td> <td>14  </td> <td>15  </td> <td>19  </td> <td>58  </td> <td>209 </td>\n",
       "        </tr>\n",
       "        <tr>\n",
       "            <td>3   </td> <td>Steven Adams</td> <td>C   </td> <td>23  </td> <td>OKC </td> <td>80  </td> <td>80  </td> <td>2389</td> <td>374 </td> <td>655 </td> <td>0.571</td> <td>0   </td> <td>1   </td> <td>0    </td> <td>374 </td> <td>654 </td> <td>0.572</td> <td>0.571</td> <td>157 </td> <td>257 </td> <td>0.611</td> <td>281 </td> <td>332 </td> <td>613 </td> <td>86  </td> <td>89  </td> <td>78  </td> <td>146 </td> <td>195 </td> <td>905 </td>\n",
       "        </tr>\n",
       "    </tbody>\n",
       "</table>\n",
       "<p>... (590 rows omitted)</p>"
      ],
      "text/plain": [
       "<IPython.core.display.HTML object>"
      ]
     },
     "metadata": {},
     "output_type": "display_data"
    }
   ],
   "source": [
    "player_stats = Table().read_table('NBAPlayerStats2017.csv')\n",
    "player_stats.show(5)"
   ]
  },
  {
   "cell_type": "markdown",
   "metadata": {},
   "source": [
    "#### Remove TOT entries"
   ]
  },
  {
   "cell_type": "code",
   "execution_count": 4,
   "metadata": {},
   "outputs": [],
   "source": [
    "player_stats = player_stats.where('Tm', are.not_equal_to('TOT'))"
   ]
  },
  {
   "cell_type": "markdown",
   "metadata": {},
   "source": [
    "## PER\n",
    "\n",
    "John Hollinger was an NBA columnist for ESPN.com for eight years and is currently the Vice President of Basketball Operations for the Memphis Grizzlies. While at ESPN, he coined many advanced metrics in order to quantify player and team performance, such as Player Efficiency Rating (PER), Offensive Efficiency, Defensive Efficiency and Pace Factor.\n",
    "\n",
    "PER is a rating of a player’s per-minute statistical performance that Hollinger developed to make player comparisons easier, and has become a widely used standard over the past decade. Hollinger has described PER as the sum of <a href http://www.espn.com/nba/columns/story?columnist=hollinger_john&id=2850240> \"all a player's positive accomplishments, subtracts the negative accomplishments, and returns a per-minute rating of a player's performance.\"</a>\n",
    "\n",
    "As PER attempts to be an all-encompassing number that looks at positive accomplishments, such as field goals, free throws, 3-pointers, assists, rebounds, blocks and steals, and negative results, such as missed shots, turnovers and fouls. \n",
    "\n",
    "The formula adds positive stats and subtracts negative ones through a statistical point value system. The rating for each player is then adjusted to a per-minute basis so that no player is negatively impcted by lack of playing time. It is also adjusted for pace of play. In the end, PER serves as one number that attempts to create an overall player score.\n"
   ]
  },
  {
   "cell_type": "markdown",
   "metadata": {},
   "source": [
    "### PER Formula\n",
    "$$\\ PER = \\left ( uPER \\times \\frac{lgPace}{tmPace} \\right ) \\times \\frac{15}{lguPER} $$\n",
    "\n",
    "Where:\n",
    "* ''uPER'' stands for unadjusted PER\n",
    "* ''tm'', the prefix, indicating of team rather than of player;\n",
    "* ''lg'', the prefix, indicating of league rather than of player;\n",
    "* ''Pace'' is related to the style of play of a team. We'll also get there later.\n",
    "\n",
    "The basic idea behind $uPER$ is the following:\n",
    "\\begin{align*}\n",
    "uPER & = \\frac{1}{min} \\times \\Bigg(\\Bigg.\\\\\n",
    "     & \\quad\\quad \\text{Three Pointers Made} \\\\\n",
    "     & \\quad\\quad + \\text{Contributions from Assists} \\\\\n",
    "     & \\quad\\quad + \\text{Contributions from FGs} \\\\\n",
    "     & \\quad\\quad + \\text{Contributions from FTs} \\\\\n",
    "     & \\quad\\quad - \\text{Contributions from TOs} \\\\\n",
    "     & \\quad\\quad - \\text{Contributions from Missed FGs} \\\\\n",
    "     & \\quad\\quad - \\text{Contributions from Missed FTs} \\\\\n",
    "     & \\quad\\quad + \\text{Contributions from Def Rebounds} \\\\\n",
    "     & \\quad\\quad + \\text{Contributions from Off Rebounds} \\\\\n",
    "     & \\quad\\quad + \\text{Contributions from Steals} \\\\\n",
    "     & \\quad\\quad + \\text{Contributions from Blocks} \\\\\n",
    "     & \\quad\\quad - \\text{Contributions from Fouls} \\\\\n",
    "     & \\quad \\Bigg.\\Bigg)\n",
    "\\end{align*}"
   ]
  },
  {
   "cell_type": "markdown",
   "metadata": {},
   "source": [
    "### The Components of $uPER$\n",
    "Let's do the computation for a specific player: Steph Curry\n",
    "\n"
   ]
  },
  {
   "cell_type": "code",
   "execution_count": 5,
   "metadata": {},
   "outputs": [
    {
     "data": {
      "text/html": [
       "<table border=\"1\" class=\"dataframe\">\n",
       "    <thead>\n",
       "        <tr>\n",
       "            <th>Rk</th> <th>Player</th> <th>Pos</th> <th>Age</th> <th>Tm</th> <th>G</th> <th>GS</th> <th>MP</th> <th>FG</th> <th>FGA</th> <th>FG%</th> <th>3P</th> <th>3PA</th> <th>3P%</th> <th>2P</th> <th>2PA</th> <th>2P%</th> <th>eFG%</th> <th>FT</th> <th>FTA</th> <th>FT%</th> <th>ORB</th> <th>DRB</th> <th>TRB</th> <th>AST</th> <th>STL</th> <th>BLK</th> <th>TOV</th> <th>PF</th> <th>PTS</th>\n",
       "        </tr>\n",
       "    </thead>\n",
       "    <tbody>\n",
       "        <tr>\n",
       "            <td>98  </td> <td>Stephen Curry</td> <td>PG  </td> <td>28  </td> <td>GSW </td> <td>79  </td> <td>79  </td> <td>2638</td> <td>675 </td> <td>1443</td> <td>0.468</td> <td>324 </td> <td>789 </td> <td>0.411</td> <td>351 </td> <td>654 </td> <td>0.537</td> <td>0.58</td> <td>325 </td> <td>362 </td> <td>0.898</td> <td>61  </td> <td>292 </td> <td>353 </td> <td>524 </td> <td>142 </td> <td>17  </td> <td>239 </td> <td>183 </td> <td>1999</td>\n",
       "        </tr>\n",
       "    </tbody>\n",
       "</table>"
      ],
      "text/plain": [
       "Rk   | Player        | Pos  | Age  | Tm   | G    | GS   | MP   | FG   | FGA  | FG%   | 3P   | 3PA  | 3P%   | 2P   | 2PA  | 2P%   | eFG% | FT   | FTA  | FT%   | ORB  | DRB  | TRB  | AST  | STL  | BLK  | TOV  | PF   | PTS\n",
       "98   | Stephen Curry | PG   | 28   | GSW  | 79   | 79   | 2638 | 675  | 1443 | 0.468 | 324  | 789  | 0.411 | 351  | 654  | 0.537 | 0.58 | 325  | 362  | 0.898 | 61   | 292  | 353  | 524  | 142  | 17   | 239  | 183  | 1999"
      ]
     },
     "execution_count": 5,
     "metadata": {},
     "output_type": "execute_result"
    }
   ],
   "source": [
    "curry = player_stats.where('Player', are.equal_to('Stephen Curry'))\n",
    "curry"
   ]
  },
  {
   "cell_type": "markdown",
   "metadata": {},
   "source": [
    "#### Three Pointers\n",
    "Since three point shots are worth an extra point, we need to add in the extra point since it's not accounted for elsewhere.\n",
    "$$\n",
    "    \\text{Three Pointers Made} = \\mathit{3P}\n",
    "$$"
   ]
  },
  {
   "cell_type": "code",
   "execution_count": 6,
   "metadata": {},
   "outputs": [
    {
     "data": {
      "text/plain": [
       "324"
      ]
     },
     "execution_count": 6,
     "metadata": {},
     "output_type": "execute_result"
    }
   ],
   "source": [
    "three_pt_contr = curry['3P'][0]\n",
    "three_pt_contr"
   ]
  },
  {
   "cell_type": "markdown",
   "metadata": {},
   "source": [
    "#### Assists\n",
    "\n",
    "Assists were determined to have value of $2/3$: an assist directly leads to a bucket but you shouldn't get full credit for the bucket. You get two-thirds of a point from the field goal.\n",
    "\n",
    "$$ \\text{Contributions from Assists} = \\frac23 \\times AST$$"
   ]
  },
  {
   "cell_type": "code",
   "execution_count": 7,
   "metadata": {},
   "outputs": [
    {
     "data": {
      "text/plain": [
       "349.3333333333333"
      ]
     },
     "execution_count": 7,
     "metadata": {},
     "output_type": "execute_result"
    }
   ],
   "source": [
    "asts_contr = (2/3) * curry.column('AST')[0]\n",
    "asts_contr"
   ]
  },
  {
   "cell_type": "markdown",
   "metadata": {},
   "source": [
    "#### Field Goals\n",
    "\n",
    "The FG might have been assisted.  If so, we need to discount the value of the FG to account for that.  We do that using a league average rate at which FGs actually have assists.  $\\text{factor} \\times \\frac{tmAST}{tmFG}$ is meant to capture the expected number of FGs which were assisted with $\\text{factor}$ driving that expected value.  This is a lot like some of the baseball calculations we've seen with stolen bases or GIDP.\n",
    "\n",
    "$$\n",
    "\\text{Contributions from FGs} = \\left ( 2 - \\text{factor} \\times \\frac{tmAST}{tmFG} \\right ) \\times FG\n",
    "$$\n",
    "where \n",
    "$$\n",
    "    \\text{factor} = \\frac{2}{3} - \\left [ \\left ( 0.5 \\times \\frac{lgAST}{lgFG} \\right ) \\div \\left ( 2 \\times \\frac{lgFG}{lgFT} \\right ) \\right ]\n",
    "$$"
   ]
  },
  {
   "cell_type": "code",
   "execution_count": 8,
   "metadata": {},
   "outputs": [
    {
     "data": {
      "text/plain": [
       "1064.1325273986868"
      ]
     },
     "execution_count": 8,
     "metadata": {},
     "output_type": "execute_result"
    }
   ],
   "source": [
    "# Team values\n",
    "team = player_stats.where('Tm', are.equal_to(curry.column('Tm')[0]))\n",
    "tmAST = sum(team.column('AST'))\n",
    "tmFG = (sum(team.column('FG')))\n",
    "\n",
    "# League values\n",
    "lgAST = sum(player_stats.column('AST'))\n",
    "lgFG = sum(player_stats.column('FG'))\n",
    "lgFT = sum(player_stats.column('FT'))\n",
    "\n",
    "# Factor\n",
    "factor = (2 / 3) - (0.5 * (lgAST / lgFG)) / (2 * (lgFG / lgFT))\n",
    "\n",
    "# FGs\n",
    "FG = curry.column('FG')[0]\n",
    "\n",
    "fg_contr = (2 - factor * tmAST / tmFG) * FG\n",
    "fg_contr"
   ]
  },
  {
   "cell_type": "markdown",
   "metadata": {},
   "source": [
    "#### Free Throws\n",
    "\n",
    "As with FGs, we need to discount FTs by the expected number of times they were assisted.\n",
    "$$\n",
    "    \\text{Contributions from FTs} = 0.5 \\times FT \\times \\left ( 2 -  \\frac{1}{3} \\times \\frac{tmAST}{tmFG} \\right )\n",
    "$$"
   ]
  },
  {
   "cell_type": "code",
   "execution_count": 9,
   "metadata": {},
   "outputs": [
    {
     "data": {
      "text/plain": [
       "286.79808418271045"
      ]
     },
     "execution_count": 9,
     "metadata": {},
     "output_type": "execute_result"
    }
   ],
   "source": [
    "FT = curry.column('FT')[0]\n",
    "ft_contr = .5 * FT * (2 - tmAST / (3 * tmFG) )\n",
    "ft_contr"
   ]
  },
  {
   "cell_type": "markdown",
   "metadata": {},
   "source": [
    "#### Turnovers\n",
    "Turnovers prevent a chance at scoring so we need to dock the value of a possession from the player's rating.\n",
    "$$\n",
    "    \\text{Contributions from TOs} = VOP \\times TO\n",
    "$$\n",
    "where $VOP$ is the value of a possession and is equal to\n",
    "$$\n",
    "    VOP = \\frac{lgPTS}{lgFGA - lgORB + lgTO + 0.44 \\times lgFTA}\n",
    "$$\n",
    "The denominator is an approximation to the number of possessions."
   ]
  },
  {
   "cell_type": "code",
   "execution_count": 10,
   "metadata": {},
   "outputs": [
    {
     "data": {
      "text/plain": [
       "1.0685413540268014"
      ]
     },
     "execution_count": 10,
     "metadata": {},
     "output_type": "execute_result"
    }
   ],
   "source": [
    "lgPTS = sum(player_stats.column('PTS'))\n",
    "lgFGA = sum(player_stats.column('FGA'))\n",
    "lgORB = sum(player_stats.column('ORB'))\n",
    "lgTOV = sum(player_stats.column('TOV'))\n",
    "lgFTA = sum(player_stats.column('FTA'))\n",
    "\n",
    "vop = lgPTS / (lgFGA - lgORB + lgTOV + (.44 * lgFTA))\n",
    "vop"
   ]
  },
  {
   "cell_type": "code",
   "execution_count": 11,
   "metadata": {},
   "outputs": [
    {
     "data": {
      "text/plain": [
       "255.38138361240553"
      ]
     },
     "execution_count": 11,
     "metadata": {},
     "output_type": "execute_result"
    }
   ],
   "source": [
    "TO = curry['TOV'][0]\n",
    "to_contr = TO * vop \n",
    "to_contr"
   ]
  },
  {
   "cell_type": "markdown",
   "metadata": {},
   "source": [
    "#### MIssed FGs\n",
    "We need to dock the player for missed FGs that got rebounded by the defense.  A missed shot and no offensive rebound means a loss in the value of a possession.\n",
    "$$\n",
    "    \\text{Contributions from Missed FGs} = VOP \\times DRBP \\times \\left(FGA - FG \\right) \n",
    "$$\n",
    "where \n",
    "$$\n",
    "    DRBP = \\frac{lgTRB - lgORB}{lgTRB}\n",
    "$$"
   ]
  },
  {
   "cell_type": "code",
   "execution_count": 12,
   "metadata": {},
   "outputs": [
    {
     "data": {
      "text/plain": [
       "0.7670440745100238"
      ]
     },
     "execution_count": 12,
     "metadata": {},
     "output_type": "execute_result"
    }
   ],
   "source": [
    "lgTRB = sum(player_stats.column('TRB'))\n",
    "lgORB = sum(player_stats.column('ORB'))\n",
    "drbp = (lgTRB - lgORB) / lgTRB\n",
    "drbp"
   ]
  },
  {
   "cell_type": "code",
   "execution_count": 13,
   "metadata": {},
   "outputs": [
    {
     "data": {
      "text/plain": [
       "629.4668651329348"
      ]
     },
     "execution_count": 13,
     "metadata": {},
     "output_type": "execute_result"
    }
   ],
   "source": [
    "FGA = curry.column('FGA')[0]\n",
    "missedfg_contr = vop * drbp * (FGA - FG)\n",
    "missedfg_contr"
   ]
  },
  {
   "cell_type": "markdown",
   "metadata": {},
   "source": [
    "#### Missed FTs\n",
    "We need to account for how missed FTs that didn't get rebounded by the offense led to a diminished value of the possession (not a full loss like a missed FG).  The arithmetic to account for this is given by,\n",
    "$$\n",
    "    \\text{Contributions from Missed FTs} = VOP \\times 0.44 \\times \\left(0.44 + 0.56 \\times DRBP \\right)\n",
    "         \\times \\left(FTA - FT \\right) \n",
    "$$"
   ]
  },
  {
   "cell_type": "code",
   "execution_count": 14,
   "metadata": {},
   "outputs": [
    {
     "data": {
      "text/plain": [
       "15.126471672013666"
      ]
     },
     "execution_count": 14,
     "metadata": {},
     "output_type": "execute_result"
    }
   ],
   "source": [
    "FTA = curry.column('FTA')[0]\n",
    "missedft_contr = vop * .44 * (.44 + .56 * drbp) * (FTA - FT)\n",
    "missedft_contr"
   ]
  },
  {
   "cell_type": "markdown",
   "metadata": {},
   "source": [
    "#### Defensive Rebounds\n",
    "Since you are gaining a possession for your team, you should be rewarded for your rebounds but at the rate at which the team offensive rebound.\n",
    "\n",
    "$$\n",
    "    \\text{Contributions from Def Rebounds} = VOP \\times \\left(1 - DRBP \\right) \\times \\left(TRB - ORB \\right)\n",
    "$$"
   ]
  },
  {
   "cell_type": "code",
   "execution_count": 15,
   "metadata": {},
   "outputs": [
    {
     "data": {
      "text/plain": [
       "72.68552769507475"
      ]
     },
     "execution_count": 15,
     "metadata": {},
     "output_type": "execute_result"
    }
   ],
   "source": [
    "TRB = curry.column('TRB')[0]\n",
    "ORB = curry.column('ORB')[0]\n",
    "drb_contr = vop * (1 - drbp) * (TRB - ORB)\n",
    "drb_contr"
   ]
  },
  {
   "cell_type": "markdown",
   "metadata": {},
   "source": [
    "#### Offensive Rebounds\n",
    "Offensive rebounds lead to an extended possession so this should be rewarded but discounted by how often teams give up offensive rebounds.\n",
    "$$\n",
    "    \\text{Contributions from Off Rebounds} = VOP \\times DRBP \\times ORB \n",
    "$$"
   ]
  },
  {
   "cell_type": "code",
   "execution_count": 16,
   "metadata": {},
   "outputs": [
    {
     "data": {
      "text/plain": [
       "49.99671715248571"
      ]
     },
     "execution_count": 16,
     "metadata": {},
     "output_type": "execute_result"
    }
   ],
   "source": [
    "orb_contr = vop * drbp * ORB\n",
    "orb_contr"
   ]
  },
  {
   "cell_type": "markdown",
   "metadata": {},
   "source": [
    "#### Steals\n",
    "Steals lead to a possession for the team so reward with $VOP$\n",
    "$$\n",
    "\\text{Contributions from Steals} = VOP \\times STL\n",
    "$$"
   ]
  },
  {
   "cell_type": "code",
   "execution_count": 17,
   "metadata": {},
   "outputs": [
    {
     "data": {
      "text/plain": [
       "151.7328722718058"
      ]
     },
     "execution_count": 17,
     "metadata": {},
     "output_type": "execute_result"
    }
   ],
   "source": [
    "STL = curry['STL'][0]\n",
    "stl_contr = vop * STL\n",
    "stl_contr"
   ]
  },
  {
   "cell_type": "markdown",
   "metadata": {},
   "source": [
    "#### Blocks\n",
    "Blocks are rewarded for gaining a possession at the rate at which they are rebounded.\n",
    "$$\n",
    "    \\text{Contributions from Blocks} = VOP \\times DRBP \\times BLK \n",
    "$$"
   ]
  },
  {
   "cell_type": "code",
   "execution_count": 18,
   "metadata": {},
   "outputs": [
    {
     "data": {
      "text/plain": [
       "13.933511337577983"
      ]
     },
     "execution_count": 18,
     "metadata": {},
     "output_type": "execute_result"
    }
   ],
   "source": [
    "BLK = curry['BLK'][0]\n",
    "blk_contr = vop * drbp * BLK\n",
    "blk_contr"
   ]
  },
  {
   "cell_type": "markdown",
   "metadata": {},
   "source": [
    "#### Fouls\n",
    "Fouls lead to opposing points so you should be docked for giving up points.  You should only be docked for giving points above the expected value for those possessions.\n",
    "\n",
    "\\begin{align*}\n",
    "    \\text{Contributions from Fouls} & = \\text{Total points from commmited fouls} - \\text{Points expected on those possessions} \\\\\n",
    "    & = \n",
    "    PF \\times \\frac{lgFT}{lgPF} - PF \\times 0.44 \\times \\frac{lgFTA}{lgPF} \\times VOP\n",
    "\\end{align*}"
   ]
  },
  {
   "cell_type": "code",
   "execution_count": 19,
   "metadata": {},
   "outputs": [
    {
     "data": {
      "text/plain": [
       "64.12348330192515"
      ]
     },
     "execution_count": 19,
     "metadata": {},
     "output_type": "execute_result"
    }
   ],
   "source": [
    "lgPF = sum(player_stats.column('PF'))\n",
    "\n",
    "PF = curry['PF'][0]\n",
    "foul_contr = PF * lgFT / lgPF - PF * .44 * lgFTA / lgPF * vop\n",
    "foul_contr"
   ]
  },
  {
   "cell_type": "markdown",
   "metadata": {},
   "source": [
    "#### Curry's $uPER$\n",
    "\n",
    "We put together all the contributions and we get $uPER$."
   ]
  },
  {
   "cell_type": "code",
   "execution_count": 20,
   "metadata": {},
   "outputs": [
    {
     "data": {
      "text/plain": [
       "0.5111881613542061"
      ]
     },
     "execution_count": 20,
     "metadata": {},
     "output_type": "execute_result"
    }
   ],
   "source": [
    "MP = curry['MP'][0]\n",
    "curry_uper = (\n",
    "    three_pt_contr + asts_contr + fg_contr + ft_contr\n",
    "    - to_contr - missedfg_contr - missedft_contr\n",
    "    + drb_contr + orb_contr + stl_contr + blk_contr\n",
    "    - foul_contr\n",
    ") / MP\n",
    "curry_uper"
   ]
  },
  {
   "cell_type": "markdown",
   "metadata": {},
   "source": [
    "### Computing PER\n",
    "\n",
    "Recall the formula\n",
    "$$\\ PER = \\left ( uPER \\times \\frac{lgPace}{tmPace} \\right ) \\times \\frac{15}{lguPER} $$\n",
    "where we now have $uPER$ for Steph Curry.\n",
    "\n",
    "#### $lguPER$\n",
    "We need to compute $uPER$ for every player.  We take the previous code and put it into a function to compute for every player."
   ]
  },
  {
   "cell_type": "code",
   "execution_count": 21,
   "metadata": {},
   "outputs": [],
   "source": [
    "def uPER(player_name, player_stats):\n",
    "    player = player_stats.where('Player', are.equal_to(player_name))\n",
    "\n",
    "    # Team values\n",
    "    team = player_stats.where('Tm', are.equal_to(player['Tm'][0]))\n",
    "    tmAST = sum(team.column('AST'))\n",
    "    tmFG = (sum(team.column('FG')))\n",
    "\n",
    "    # League values\n",
    "    lgPTS = sum(player_stats.column('PTS'))\n",
    "    lgFG = sum(player_stats.column('FG'))\n",
    "    lgFGA = sum(player_stats.column('FGA'))\n",
    "    lgAST = sum(player_stats.column('AST'))\n",
    "    lgFT = sum(player_stats.column('FT'))\n",
    "    lgFTA = sum(player_stats.column('FTA'))\n",
    "    lgTRB = sum(player_stats.column('TRB'))\n",
    "    lgORB = sum(player_stats.column('ORB'))\n",
    "    lgTOV = sum(player_stats.column('TOV'))\n",
    "    lgPF = sum(player_stats.column('PF'))\n",
    "\n",
    "    # Values\n",
    "    factor = (2 / 3) - (0.5 * (lgAST / lgFG)) / (2 * (lgFG / lgFT))\n",
    "    vop = lgPTS / (lgFGA - lgORB + lgTOV + (.44 * lgFTA))\n",
    "    drbp = (lgTRB - lgORB) / lgTRB\n",
    "\n",
    "    # Stats\n",
    "    MP = player['MP'][0]\n",
    "    FG3 = player['3P'][0]\n",
    "    FG = player.column('FG')[0]\n",
    "    FGA = player.column('FGA')[0]\n",
    "    AST = player.column('AST')[0]\n",
    "    FT = player.column('FT')[0]\n",
    "    FTA = player.column('FTA')[0]\n",
    "    TRB = player.column('TRB')[0]\n",
    "    ORB = player.column('ORB')[0]\n",
    "    STL = player['STL'][0]\n",
    "    TO = player['TOV'][0]\n",
    "    BLK = player['BLK'][0]\n",
    "    PF = player['PF'][0]\n",
    "\n",
    "    # Contributions\n",
    "    three_pt_contr = FG3\n",
    "    asts_contr = (2/3) * AST\n",
    "    fg_contr = (2 - factor * tmAST / tmFG) * FG\n",
    "    ft_contr = .5 * FT * (2 - tmAST / (3 * tmFG))\n",
    "    to_contr = TO * vop \n",
    "    missedfg_contr = vop * drbp * (FGA - FG)\n",
    "    missedft_contr = vop * .44 * (.44 + .56 * drbp) * (FTA - FT)\n",
    "    drb_contr = vop * (1 - drbp) * (TRB - ORB)\n",
    "    orb_contr = vop * drbp * ORB\n",
    "    stl_contr = vop * STL\n",
    "    blk_contr = vop * drbp * BLK\n",
    "    foul_contr = PF * lgFT / lgPF - PF * .44 * lgFTA / lgPF * vop\n",
    "\n",
    "    player_uper = (\n",
    "        three_pt_contr + asts_contr + fg_contr + ft_contr\n",
    "        - to_contr - missedfg_contr - missedft_contr\n",
    "        + drb_contr + orb_contr + stl_contr + blk_contr\n",
    "        - foul_contr\n",
    "    ) / MP\n",
    "    return player_uper"
   ]
  },
  {
   "cell_type": "code",
   "execution_count": 22,
   "metadata": {},
   "outputs": [
    {
     "data": {
      "text/plain": [
       "True"
      ]
     },
     "execution_count": 22,
     "metadata": {},
     "output_type": "execute_result"
    }
   ],
   "source": [
    "# verify\n",
    "uPER('Stephen Curry', player_stats) == curry_uper"
   ]
  },
  {
   "cell_type": "markdown",
   "metadata": {},
   "source": [
    "#### Compute $uPER$ for each player"
   ]
  },
  {
   "cell_type": "code",
   "execution_count": 23,
   "metadata": {},
   "outputs": [
    {
     "data": {
      "text/html": [
       "<table border=\"1\" class=\"dataframe\">\n",
       "    <thead>\n",
       "        <tr>\n",
       "            <th>Rk</th> <th>Player</th> <th>Pos</th> <th>Age</th> <th>Tm</th> <th>G</th> <th>GS</th> <th>MP</th> <th>FG</th> <th>FGA</th> <th>FG%</th> <th>3P</th> <th>3PA</th> <th>3P%</th> <th>2P</th> <th>2PA</th> <th>2P%</th> <th>eFG%</th> <th>FT</th> <th>FTA</th> <th>FT%</th> <th>ORB</th> <th>DRB</th> <th>TRB</th> <th>AST</th> <th>STL</th> <th>BLK</th> <th>TOV</th> <th>PF</th> <th>PTS</th> <th>uPER</th>\n",
       "        </tr>\n",
       "    </thead>\n",
       "    <tbody>\n",
       "        <tr>\n",
       "            <td>1   </td> <td>Alex Abrines         </td> <td>SG  </td> <td>23  </td> <td>OKC </td> <td>68  </td> <td>6   </td> <td>1055</td> <td>134 </td> <td>341 </td> <td>0.393</td> <td>94  </td> <td>247 </td> <td>0.381</td> <td>40  </td> <td>94  </td> <td>0.426</td> <td>0.531</td> <td>44  </td> <td>49  </td> <td>0.898</td> <td>18  </td> <td>68  </td> <td>86  </td> <td>40  </td> <td>37  </td> <td>8   </td> <td>33  </td> <td>114 </td> <td>406 </td> <td>0.205542  </td>\n",
       "        </tr>\n",
       "        <tr>\n",
       "            <td>2   </td> <td>Quincy Acy           </td> <td>PF  </td> <td>26  </td> <td>DAL </td> <td>6   </td> <td>0   </td> <td>48  </td> <td>5   </td> <td>17  </td> <td>0.294</td> <td>1   </td> <td>7   </td> <td>0.143</td> <td>4   </td> <td>10  </td> <td>0.4  </td> <td>0.324</td> <td>2   </td> <td>3   </td> <td>0.667</td> <td>2   </td> <td>6   </td> <td>8   </td> <td>0   </td> <td>0   </td> <td>0   </td> <td>2   </td> <td>9   </td> <td>13  </td> <td>-0.0274677</td>\n",
       "        </tr>\n",
       "        <tr>\n",
       "            <td>2   </td> <td>Quincy Acy           </td> <td>PF  </td> <td>26  </td> <td>BRK </td> <td>32  </td> <td>1   </td> <td>510 </td> <td>65  </td> <td>153 </td> <td>0.425</td> <td>36  </td> <td>83  </td> <td>0.434</td> <td>29  </td> <td>70  </td> <td>0.414</td> <td>0.542</td> <td>43  </td> <td>57  </td> <td>0.754</td> <td>18  </td> <td>89  </td> <td>107 </td> <td>18  </td> <td>14  </td> <td>15  </td> <td>19  </td> <td>58  </td> <td>209 </td> <td>-0.0274677</td>\n",
       "        </tr>\n",
       "        <tr>\n",
       "            <td>3   </td> <td>Steven Adams         </td> <td>C   </td> <td>23  </td> <td>OKC </td> <td>80  </td> <td>80  </td> <td>2389</td> <td>374 </td> <td>655 </td> <td>0.571</td> <td>0   </td> <td>1   </td> <td>0    </td> <td>374 </td> <td>654 </td> <td>0.572</td> <td>0.571</td> <td>157 </td> <td>257 </td> <td>0.611</td> <td>281 </td> <td>332 </td> <td>613 </td> <td>86  </td> <td>89  </td> <td>78  </td> <td>146 </td> <td>195 </td> <td>905 </td> <td>0.337159  </td>\n",
       "        </tr>\n",
       "        <tr>\n",
       "            <td>4   </td> <td>Arron Afflalo        </td> <td>SG  </td> <td>31  </td> <td>SAC </td> <td>61  </td> <td>45  </td> <td>1580</td> <td>185 </td> <td>420 </td> <td>0.44 </td> <td>62  </td> <td>151 </td> <td>0.411</td> <td>123 </td> <td>269 </td> <td>0.457</td> <td>0.514</td> <td>83  </td> <td>93  </td> <td>0.892</td> <td>9   </td> <td>116 </td> <td>125 </td> <td>78  </td> <td>21  </td> <td>6   </td> <td>42  </td> <td>104 </td> <td>515 </td> <td>0.176202  </td>\n",
       "        </tr>\n",
       "        <tr>\n",
       "            <td>5   </td> <td>Alexis Ajinca        </td> <td>C   </td> <td>28  </td> <td>NOP </td> <td>39  </td> <td>15  </td> <td>584 </td> <td>89  </td> <td>178 </td> <td>0.5  </td> <td>0   </td> <td>4   </td> <td>0    </td> <td>89  </td> <td>174 </td> <td>0.511</td> <td>0.5  </td> <td>29  </td> <td>40  </td> <td>0.725</td> <td>46  </td> <td>131 </td> <td>177 </td> <td>12  </td> <td>20  </td> <td>22  </td> <td>31  </td> <td>77  </td> <td>207 </td> <td>0.262386  </td>\n",
       "        </tr>\n",
       "        <tr>\n",
       "            <td>6   </td> <td>Cole Aldrich         </td> <td>C   </td> <td>28  </td> <td>MIN </td> <td>62  </td> <td>0   </td> <td>531 </td> <td>45  </td> <td>86  </td> <td>0.523</td> <td>0   </td> <td>0   </td> <td>nan  </td> <td>45  </td> <td>86  </td> <td>0.523</td> <td>0.523</td> <td>15  </td> <td>22  </td> <td>0.682</td> <td>51  </td> <td>107 </td> <td>158 </td> <td>25  </td> <td>25  </td> <td>23  </td> <td>17  </td> <td>85  </td> <td>105 </td> <td>0.251501  </td>\n",
       "        </tr>\n",
       "        <tr>\n",
       "            <td>7   </td> <td>LaMarcus Aldridge    </td> <td>PF  </td> <td>31  </td> <td>SAS </td> <td>72  </td> <td>72  </td> <td>2335</td> <td>500 </td> <td>1049</td> <td>0.477</td> <td>23  </td> <td>56  </td> <td>0.411</td> <td>477 </td> <td>993 </td> <td>0.48 </td> <td>0.488</td> <td>220 </td> <td>271 </td> <td>0.812</td> <td>172 </td> <td>351 </td> <td>523 </td> <td>139 </td> <td>46  </td> <td>88  </td> <td>98  </td> <td>158 </td> <td>1243</td> <td>0.364055  </td>\n",
       "        </tr>\n",
       "        <tr>\n",
       "            <td>8   </td> <td>Lavoy Allen          </td> <td>PF  </td> <td>27  </td> <td>IND </td> <td>61  </td> <td>5   </td> <td>871 </td> <td>77  </td> <td>168 </td> <td>0.458</td> <td>0   </td> <td>1   </td> <td>0    </td> <td>77  </td> <td>167 </td> <td>0.461</td> <td>0.458</td> <td>23  </td> <td>33  </td> <td>0.697</td> <td>105 </td> <td>114 </td> <td>219 </td> <td>57  </td> <td>18  </td> <td>24  </td> <td>29  </td> <td>78  </td> <td>177 </td> <td>0.232702  </td>\n",
       "        </tr>\n",
       "        <tr>\n",
       "            <td>9   </td> <td>Tony Allen           </td> <td>SG  </td> <td>35  </td> <td>MEM </td> <td>71  </td> <td>66  </td> <td>1914</td> <td>274 </td> <td>595 </td> <td>0.461</td> <td>15  </td> <td>54  </td> <td>0.278</td> <td>259 </td> <td>541 </td> <td>0.479</td> <td>0.473</td> <td>80  </td> <td>130 </td> <td>0.615</td> <td>166 </td> <td>225 </td> <td>391 </td> <td>98  </td> <td>115 </td> <td>29  </td> <td>100 </td> <td>178 </td> <td>643 </td> <td>0.25618   </td>\n",
       "        </tr>\n",
       "        <tr>\n",
       "            <td>10  </td> <td>Al-Farouq Aminu      </td> <td>SF  </td> <td>26  </td> <td>POR </td> <td>61  </td> <td>25  </td> <td>1773</td> <td>183 </td> <td>466 </td> <td>0.393</td> <td>70  </td> <td>212 </td> <td>0.33 </td> <td>113 </td> <td>254 </td> <td>0.445</td> <td>0.468</td> <td>96  </td> <td>136 </td> <td>0.706</td> <td>77  </td> <td>374 </td> <td>451 </td> <td>99  </td> <td>60  </td> <td>44  </td> <td>94  </td> <td>102 </td> <td>532 </td> <td>0.227085  </td>\n",
       "        </tr>\n",
       "        <tr>\n",
       "            <td>11  </td> <td>Chris Andersen       </td> <td>C   </td> <td>38  </td> <td>CLE </td> <td>12  </td> <td>0   </td> <td>114 </td> <td>9   </td> <td>22  </td> <td>0.409</td> <td>0   </td> <td>3   </td> <td>0    </td> <td>9   </td> <td>19  </td> <td>0.474</td> <td>0.409</td> <td>10  </td> <td>14  </td> <td>0.714</td> <td>9   </td> <td>22  </td> <td>31  </td> <td>5   </td> <td>5   </td> <td>7   </td> <td>5   </td> <td>20  </td> <td>28  </td> <td>0.233452  </td>\n",
       "        </tr>\n",
       "        <tr>\n",
       "            <td>12  </td> <td>Alan Anderson        </td> <td>SF  </td> <td>34  </td> <td>LAC </td> <td>30  </td> <td>0   </td> <td>308 </td> <td>30  </td> <td>80  </td> <td>0.375</td> <td>14  </td> <td>44  </td> <td>0.318</td> <td>16  </td> <td>36  </td> <td>0.444</td> <td>0.463</td> <td>12  </td> <td>16  </td> <td>0.75 </td> <td>3   </td> <td>21  </td> <td>24  </td> <td>11  </td> <td>3   </td> <td>0   </td> <td>7   </td> <td>35  </td> <td>86  </td> <td>0.0988842 </td>\n",
       "        </tr>\n",
       "        <tr>\n",
       "            <td>13  </td> <td>Justin Anderson      </td> <td>SF  </td> <td>23  </td> <td>DAL </td> <td>51  </td> <td>2   </td> <td>710 </td> <td>111 </td> <td>277 </td> <td>0.401</td> <td>37  </td> <td>122 </td> <td>0.303</td> <td>74  </td> <td>155 </td> <td>0.477</td> <td>0.468</td> <td>70  </td> <td>88  </td> <td>0.795</td> <td>39  </td> <td>110 </td> <td>149 </td> <td>32  </td> <td>28  </td> <td>16  </td> <td>40  </td> <td>64  </td> <td>329 </td> <td>0.280476  </td>\n",
       "        </tr>\n",
       "        <tr>\n",
       "            <td>13  </td> <td>Justin Anderson      </td> <td>SF  </td> <td>23  </td> <td>PHI </td> <td>24  </td> <td>8   </td> <td>518 </td> <td>75  </td> <td>162 </td> <td>0.463</td> <td>21  </td> <td>72  </td> <td>0.292</td> <td>54  </td> <td>90  </td> <td>0.6  </td> <td>0.528</td> <td>32  </td> <td>41  </td> <td>0.78 </td> <td>30  </td> <td>66  </td> <td>96  </td> <td>34  </td> <td>13  </td> <td>7   </td> <td>26  </td> <td>45  </td> <td>203 </td> <td>0.280476  </td>\n",
       "        </tr>\n",
       "        <tr>\n",
       "            <td>14  </td> <td>Kyle Anderson        </td> <td>SG  </td> <td>23  </td> <td>SAS </td> <td>72  </td> <td>14  </td> <td>1020</td> <td>93  </td> <td>209 </td> <td>0.445</td> <td>15  </td> <td>40  </td> <td>0.375</td> <td>78  </td> <td>169 </td> <td>0.462</td> <td>0.481</td> <td>45  </td> <td>57  </td> <td>0.789</td> <td>33  </td> <td>175 </td> <td>208 </td> <td>91  </td> <td>51  </td> <td>26  </td> <td>39  </td> <td>63  </td> <td>246 </td> <td>0.246015  </td>\n",
       "        </tr>\n",
       "        <tr>\n",
       "            <td>15  </td> <td>Ryan Anderson        </td> <td>PF  </td> <td>28  </td> <td>HOU </td> <td>72  </td> <td>72  </td> <td>2116</td> <td>323 </td> <td>773 </td> <td>0.418</td> <td>204 </td> <td>506 </td> <td>0.403</td> <td>119 </td> <td>267 </td> <td>0.446</td> <td>0.55 </td> <td>129 </td> <td>150 </td> <td>0.86 </td> <td>112 </td> <td>218 </td> <td>330 </td> <td>68  </td> <td>31  </td> <td>14  </td> <td>55  </td> <td>142 </td> <td>979 </td> <td>0.280769  </td>\n",
       "        </tr>\n",
       "        <tr>\n",
       "            <td>16  </td> <td>Giannis Antetokounmpo</td> <td>SF  </td> <td>22  </td> <td>MIL </td> <td>80  </td> <td>80  </td> <td>2845</td> <td>656 </td> <td>1259</td> <td>0.521</td> <td>49  </td> <td>180 </td> <td>0.272</td> <td>607 </td> <td>1079</td> <td>0.563</td> <td>0.541</td> <td>471 </td> <td>612 </td> <td>0.77 </td> <td>142 </td> <td>558 </td> <td>700 </td> <td>434 </td> <td>131 </td> <td>151 </td> <td>234 </td> <td>246 </td> <td>1832</td> <td>0.512369  </td>\n",
       "        </tr>\n",
       "        <tr>\n",
       "            <td>17  </td> <td>Carmelo Anthony      </td> <td>SF  </td> <td>32  </td> <td>NYK </td> <td>74  </td> <td>74  </td> <td>2538</td> <td>602 </td> <td>1389</td> <td>0.433</td> <td>151 </td> <td>421 </td> <td>0.359</td> <td>451 </td> <td>968 </td> <td>0.466</td> <td>0.488</td> <td>304 </td> <td>365 </td> <td>0.833</td> <td>62  </td> <td>376 </td> <td>438 </td> <td>213 </td> <td>60  </td> <td>34  </td> <td>153 </td> <td>198 </td> <td>1659</td> <td>0.357615  </td>\n",
       "        </tr>\n",
       "        <tr>\n",
       "            <td>18  </td> <td>Joel Anthony         </td> <td>C   </td> <td>34  </td> <td>SAS </td> <td>19  </td> <td>0   </td> <td>122 </td> <td>10  </td> <td>16  </td> <td>0.625</td> <td>0   </td> <td>0   </td> <td>nan  </td> <td>10  </td> <td>16  </td> <td>0.625</td> <td>0.625</td> <td>5   </td> <td>8   </td> <td>0.625</td> <td>8   </td> <td>23  </td> <td>31  </td> <td>3   </td> <td>2   </td> <td>6   </td> <td>4   </td> <td>11  </td> <td>25  </td> <td>0.228829  </td>\n",
       "        </tr>\n",
       "    </tbody>\n",
       "</table>\n",
       "<p>... (522 rows omitted)</p>"
      ],
      "text/plain": [
       "<IPython.core.display.HTML object>"
      ]
     },
     "metadata": {},
     "output_type": "display_data"
    }
   ],
   "source": [
    "players = player_stats.column('Player')\n",
    "\n",
    "array = make_array()\n",
    "for player in players:\n",
    "    array = np.append(array, uPER(player, player_stats))\n",
    "\n",
    "player_stats = player_stats.with_column('uPER', array)\n",
    "player_stats.show(20)"
   ]
  },
  {
   "cell_type": "markdown",
   "metadata": {},
   "source": [
    "#### Team and League Pace\n",
    "Team pace is stored in a separate file."
   ]
  },
  {
   "cell_type": "code",
   "execution_count": 24,
   "metadata": {},
   "outputs": [
    {
     "data": {
      "text/html": [
       "<table border=\"1\" class=\"dataframe\">\n",
       "    <thead>\n",
       "        <tr>\n",
       "            <th>Team</th> <th>Pace</th>\n",
       "        </tr>\n",
       "    </thead>\n",
       "    <tbody>\n",
       "        <tr>\n",
       "            <td>BRK           </td> <td>101.3</td>\n",
       "        </tr>\n",
       "        <tr>\n",
       "            <td>PHO           </td> <td>100.3</td>\n",
       "        </tr>\n",
       "        <tr>\n",
       "            <td>HOU           </td> <td>100  </td>\n",
       "        </tr>\n",
       "        <tr>\n",
       "            <td>GSW           </td> <td>99.8 </td>\n",
       "        </tr>\n",
       "        <tr>\n",
       "            <td>LAL           </td> <td>98.5 </td>\n",
       "        </tr>\n",
       "        <tr>\n",
       "            <td>PHI           </td> <td>98.5 </td>\n",
       "        </tr>\n",
       "        <tr>\n",
       "            <td>DEN           </td> <td>98.3 </td>\n",
       "        </tr>\n",
       "        <tr>\n",
       "            <td>NOP           </td> <td>98   </td>\n",
       "        </tr>\n",
       "        <tr>\n",
       "            <td>OKC           </td> <td>97.8 </td>\n",
       "        </tr>\n",
       "        <tr>\n",
       "            <td>ATL           </td> <td>97.4 </td>\n",
       "        </tr>\n",
       "        <tr>\n",
       "            <td>WAS           </td> <td>97.4 </td>\n",
       "        </tr>\n",
       "        <tr>\n",
       "            <td>ORL           </td> <td>96.8 </td>\n",
       "        </tr>\n",
       "        <tr>\n",
       "            <td>BOS           </td> <td>96.8 </td>\n",
       "        </tr>\n",
       "        <tr>\n",
       "            <td>POR           </td> <td>96.7 </td>\n",
       "        </tr>\n",
       "        <tr>\n",
       "            <td>League Average</td> <td>96.4 </td>\n",
       "        </tr>\n",
       "        <tr>\n",
       "            <td>CLE           </td> <td>96.2 </td>\n",
       "        </tr>\n",
       "        <tr>\n",
       "            <td>LAC           </td> <td>96.1 </td>\n",
       "        </tr>\n",
       "        <tr>\n",
       "            <td>NYK           </td> <td>96   </td>\n",
       "        </tr>\n",
       "        <tr>\n",
       "            <td>IND           </td> <td>95.9 </td>\n",
       "        </tr>\n",
       "        <tr>\n",
       "            <td>CHO           </td> <td>95.7 </td>\n",
       "        </tr>\n",
       "        <tr>\n",
       "            <td>CHI           </td> <td>95.3 </td>\n",
       "        </tr>\n",
       "        <tr>\n",
       "            <td>MIA           </td> <td>95.2 </td>\n",
       "        </tr>\n",
       "        <tr>\n",
       "            <td>DET           </td> <td>95   </td>\n",
       "        </tr>\n",
       "        <tr>\n",
       "            <td>SAC           </td> <td>94.9 </td>\n",
       "        </tr>\n",
       "        <tr>\n",
       "            <td>TOR           </td> <td>94.7 </td>\n",
       "        </tr>\n",
       "        <tr>\n",
       "            <td>MIN           </td> <td>94.6 </td>\n",
       "        </tr>\n",
       "        <tr>\n",
       "            <td>MIL           </td> <td>94.5 </td>\n",
       "        </tr>\n",
       "        <tr>\n",
       "            <td>SAS           </td> <td>94.2 </td>\n",
       "        </tr>\n",
       "        <tr>\n",
       "            <td>MEM           </td> <td>92.3 </td>\n",
       "        </tr>\n",
       "        <tr>\n",
       "            <td>DAL           </td> <td>92.2 </td>\n",
       "        </tr>\n",
       "        <tr>\n",
       "            <td>UTA           </td> <td>91.6 </td>\n",
       "        </tr>\n",
       "    </tbody>\n",
       "</table>"
      ],
      "text/plain": [
       "<IPython.core.display.HTML object>"
      ]
     },
     "metadata": {},
     "output_type": "display_data"
    }
   ],
   "source": [
    "pace = Table().read_table('Pace.csv')\n",
    "pace.sort('Pace', descending=True).show()"
   ]
  },
  {
   "cell_type": "code",
   "execution_count": 25,
   "metadata": {},
   "outputs": [
    {
     "data": {
      "text/plain": [
       "96.4"
      ]
     },
     "execution_count": 25,
     "metadata": {},
     "output_type": "execute_result"
    }
   ],
   "source": [
    "lgPace = pace.where('Team', 'League Average')['Pace'][0]\n",
    "lgPace"
   ]
  },
  {
   "cell_type": "code",
   "execution_count": 26,
   "metadata": {
    "scrolled": true
   },
   "outputs": [
    {
     "data": {
      "text/html": [
       "<table border=\"1\" class=\"dataframe\">\n",
       "    <thead>\n",
       "        <tr>\n",
       "            <th>Tm</th> <th>Rk</th> <th>Player</th> <th>Pos</th> <th>Age</th> <th>G</th> <th>GS</th> <th>MP</th> <th>FG</th> <th>FGA</th> <th>FG%</th> <th>3P</th> <th>3PA</th> <th>3P%</th> <th>2P</th> <th>2PA</th> <th>2P%</th> <th>eFG%</th> <th>FT</th> <th>FTA</th> <th>FT%</th> <th>ORB</th> <th>DRB</th> <th>TRB</th> <th>AST</th> <th>STL</th> <th>BLK</th> <th>TOV</th> <th>PF</th> <th>PTS</th> <th>uPER</th> <th>Pace</th> <th>Pace Factor</th>\n",
       "        </tr>\n",
       "    </thead>\n",
       "    <tbody>\n",
       "        <tr>\n",
       "            <td>ATL </td> <td>35  </td> <td>Kent Bazemore  </td> <td>SF  </td> <td>27  </td> <td>73  </td> <td>64  </td> <td>1963</td> <td>295 </td> <td>721 </td> <td>0.409</td> <td>92  </td> <td>266 </td> <td>0.346</td> <td>203 </td> <td>455 </td> <td>0.446</td> <td>0.473</td> <td>119 </td> <td>168 </td> <td>0.708</td> <td>45  </td> <td>186 </td> <td>231 </td> <td>177 </td> <td>91  </td> <td>52  </td> <td>125 </td> <td>165 </td> <td>801 </td> <td>0.233943</td> <td>97.4</td> <td>0.989733   </td>\n",
       "        </tr>\n",
       "        <tr>\n",
       "            <td>ATL </td> <td>40  </td> <td>DeAndre' Bembry</td> <td>SF  </td> <td>22  </td> <td>38  </td> <td>1   </td> <td>371 </td> <td>47  </td> <td>98  </td> <td>0.48 </td> <td>1   </td> <td>18  </td> <td>0.056</td> <td>46  </td> <td>80  </td> <td>0.575</td> <td>0.485</td> <td>6   </td> <td>16  </td> <td>0.375</td> <td>14  </td> <td>45  </td> <td>59  </td> <td>28  </td> <td>8   </td> <td>5   </td> <td>16  </td> <td>21  </td> <td>101 </td> <td>0.179274</td> <td>97.4</td> <td>0.989733   </td>\n",
       "        </tr>\n",
       "        <tr>\n",
       "            <td>ATL </td> <td>68  </td> <td>Jose Calderon  </td> <td>PG  </td> <td>35  </td> <td>17  </td> <td>2   </td> <td>247 </td> <td>23  </td> <td>57  </td> <td>0.404</td> <td>8   </td> <td>30  </td> <td>0.267</td> <td>15  </td> <td>27  </td> <td>0.556</td> <td>0.474</td> <td>7   </td> <td>8   </td> <td>0.875</td> <td>7   </td> <td>25  </td> <td>32  </td> <td>37  </td> <td>4   </td> <td>0   </td> <td>15  </td> <td>14  </td> <td>61  </td> <td>0.186176</td> <td>97.4</td> <td>0.989733   </td>\n",
       "        </tr>\n",
       "        <tr>\n",
       "            <td>ATL </td> <td>105 </td> <td>Malcolm Delaney</td> <td>PG  </td> <td>27  </td> <td>73  </td> <td>2   </td> <td>1248</td> <td>145 </td> <td>388 </td> <td>0.374</td> <td>26  </td> <td>110 </td> <td>0.236</td> <td>119 </td> <td>278 </td> <td>0.428</td> <td>0.407</td> <td>75  </td> <td>93  </td> <td>0.806</td> <td>10  </td> <td>113 </td> <td>123 </td> <td>193 </td> <td>39  </td> <td>1   </td> <td>95  </td> <td>112 </td> <td>391 </td> <td>0.151772</td> <td>97.4</td> <td>0.989733   </td>\n",
       "        </tr>\n",
       "        <tr>\n",
       "            <td>ATL </td> <td>117 </td> <td>Mike Dunleavy  </td> <td>SF  </td> <td>36  </td> <td>30  </td> <td>0   </td> <td>475 </td> <td>57  </td> <td>130 </td> <td>0.438</td> <td>33  </td> <td>77  </td> <td>0.429</td> <td>24  </td> <td>53  </td> <td>0.453</td> <td>0.565</td> <td>22  </td> <td>26  </td> <td>0.846</td> <td>13  </td> <td>55  </td> <td>68  </td> <td>30  </td> <td>9   </td> <td>5   </td> <td>14  </td> <td>35  </td> <td>169 </td> <td>0.152657</td> <td>97.4</td> <td>0.989733   </td>\n",
       "        </tr>\n",
       "    </tbody>\n",
       "</table>\n",
       "<p>... (537 rows omitted)</p>"
      ],
      "text/plain": [
       "<IPython.core.display.HTML object>"
      ]
     },
     "metadata": {},
     "output_type": "display_data"
    }
   ],
   "source": [
    "player_stats = player_stats.join('Tm', pace, 'Team')\n",
    "player_stats['Pace Factor'] = lgPace / player_stats['Pace']\n",
    "player_stats.show(5)"
   ]
  },
  {
   "cell_type": "code",
   "execution_count": 27,
   "metadata": {},
   "outputs": [],
   "source": [
    "PER = player_stats['uPER'] * player_stats['Pace Factor'] * 15 / np.mean(player_stats['uPER'])\n",
    "player_stats['PER'] = PER"
   ]
  },
  {
   "cell_type": "code",
   "execution_count": 28,
   "metadata": {},
   "outputs": [
    {
     "data": {
      "text/html": [
       "<table border=\"1\" class=\"dataframe\">\n",
       "    <thead>\n",
       "        <tr>\n",
       "            <th>Tm</th> <th>Rk</th> <th>Player</th> <th>Pos</th> <th>Age</th> <th>G</th> <th>GS</th> <th>MP</th> <th>FG</th> <th>FGA</th> <th>FG%</th> <th>3P</th> <th>3PA</th> <th>3P%</th> <th>2P</th> <th>2PA</th> <th>2P%</th> <th>eFG%</th> <th>FT</th> <th>FTA</th> <th>FT%</th> <th>ORB</th> <th>DRB</th> <th>TRB</th> <th>AST</th> <th>STL</th> <th>BLK</th> <th>TOV</th> <th>PF</th> <th>PTS</th> <th>uPER</th> <th>Pace</th> <th>Pace Factor</th> <th>PER</th>\n",
       "        </tr>\n",
       "    </thead>\n",
       "    <tbody>\n",
       "        <tr>\n",
       "            <td>OKC </td> <td>458 </td> <td>Russell Westbrook    </td> <td>PG  </td> <td>28  </td> <td>81  </td> <td>81  </td> <td>2802</td> <td>824 </td> <td>1941</td> <td>0.425</td> <td>200 </td> <td>583 </td> <td>0.343</td> <td>624 </td> <td>1358</td> <td>0.459</td> <td>0.476</td> <td>710 </td> <td>840 </td> <td>0.845</td> <td>137 </td> <td>727 </td> <td>864 </td> <td>840 </td> <td>132 </td> <td>31  </td> <td>438 </td> <td>190 </td> <td>2558</td> <td>0.624007</td> <td>97.8</td> <td>0.985685   </td> <td>36.1614</td>\n",
       "        </tr>\n",
       "        <tr>\n",
       "            <td>GSW </td> <td>119 </td> <td>Kevin Durant         </td> <td>SF  </td> <td>28  </td> <td>62  </td> <td>62  </td> <td>2070</td> <td>551 </td> <td>1026</td> <td>0.537</td> <td>117 </td> <td>312 </td> <td>0.375</td> <td>434 </td> <td>714 </td> <td>0.608</td> <td>0.594</td> <td>336 </td> <td>384 </td> <td>0.875</td> <td>39  </td> <td>474 </td> <td>513 </td> <td>300 </td> <td>66  </td> <td>99  </td> <td>138 </td> <td>117 </td> <td>1555</td> <td>0.573128</td> <td>99.8</td> <td>0.965932   </td> <td>32.5474</td>\n",
       "        </tr>\n",
       "        <tr>\n",
       "            <td>SAS </td> <td>261 </td> <td>Kawhi Leonard        </td> <td>SF  </td> <td>25  </td> <td>74  </td> <td>74  </td> <td>2474</td> <td>636 </td> <td>1312</td> <td>0.485</td> <td>147 </td> <td>387 </td> <td>0.38 </td> <td>489 </td> <td>925 </td> <td>0.529</td> <td>0.541</td> <td>469 </td> <td>533 </td> <td>0.88 </td> <td>80  </td> <td>350 </td> <td>430 </td> <td>260 </td> <td>133 </td> <td>55  </td> <td>154 </td> <td>122 </td> <td>1888</td> <td>0.539479</td> <td>94.2</td> <td>1.02335    </td> <td>32.4578</td>\n",
       "        </tr>\n",
       "        <tr>\n",
       "            <td>NOP </td> <td>100 </td> <td>Anthony Davis        </td> <td>C   </td> <td>23  </td> <td>75  </td> <td>75  </td> <td>2708</td> <td>770 </td> <td>1526</td> <td>0.505</td> <td>40  </td> <td>134 </td> <td>0.299</td> <td>730 </td> <td>1392</td> <td>0.524</td> <td>0.518</td> <td>519 </td> <td>647 </td> <td>0.802</td> <td>172 </td> <td>712 </td> <td>884 </td> <td>157 </td> <td>94  </td> <td>167 </td> <td>181 </td> <td>168 </td> <td>2099</td> <td>0.559593</td> <td>98  </td> <td>0.983673   </td> <td>32.3625</td>\n",
       "        </tr>\n",
       "        <tr>\n",
       "            <td>HOU </td> <td>172 </td> <td>James Harden         </td> <td>PG  </td> <td>27  </td> <td>81  </td> <td>81  </td> <td>2947</td> <td>674 </td> <td>1533</td> <td>0.44 </td> <td>262 </td> <td>756 </td> <td>0.347</td> <td>412 </td> <td>777 </td> <td>0.53 </td> <td>0.525</td> <td>746 </td> <td>881 </td> <td>0.847</td> <td>95  </td> <td>564 </td> <td>659 </td> <td>907 </td> <td>121 </td> <td>38  </td> <td>464 </td> <td>215 </td> <td>2356</td> <td>0.569261</td> <td>100 </td> <td>0.964      </td> <td>32.2632</td>\n",
       "        </tr>\n",
       "        <tr>\n",
       "            <td>CLE </td> <td>220 </td> <td>LeBron James         </td> <td>SF  </td> <td>32  </td> <td>74  </td> <td>74  </td> <td>2794</td> <td>736 </td> <td>1344</td> <td>0.548</td> <td>124 </td> <td>342 </td> <td>0.363</td> <td>612 </td> <td>1002</td> <td>0.611</td> <td>0.594</td> <td>358 </td> <td>531 </td> <td>0.674</td> <td>97  </td> <td>542 </td> <td>639 </td> <td>646 </td> <td>92  </td> <td>44  </td> <td>303 </td> <td>134 </td> <td>1954</td> <td>0.540118</td> <td>96.2</td> <td>1.00208    </td> <td>31.8206</td>\n",
       "        </tr>\n",
       "        <tr>\n",
       "            <td>BOS </td> <td>424 </td> <td>Isaiah Thomas        </td> <td>PG  </td> <td>27  </td> <td>76  </td> <td>76  </td> <td>2569</td> <td>682 </td> <td>1473</td> <td>0.463</td> <td>245 </td> <td>646 </td> <td>0.379</td> <td>437 </td> <td>827 </td> <td>0.528</td> <td>0.546</td> <td>590 </td> <td>649 </td> <td>0.909</td> <td>43  </td> <td>162 </td> <td>205 </td> <td>448 </td> <td>70  </td> <td>13  </td> <td>210 </td> <td>167 </td> <td>2199</td> <td>0.533925</td> <td>96.8</td> <td>0.995868   </td> <td>31.2608</td>\n",
       "        </tr>\n",
       "        <tr>\n",
       "            <td>SAC </td> <td>90  </td> <td>DeMarcus Cousins     </td> <td>C   </td> <td>26  </td> <td>55  </td> <td>55  </td> <td>1891</td> <td>505 </td> <td>1118</td> <td>0.452</td> <td>95  </td> <td>267 </td> <td>0.356</td> <td>410 </td> <td>851 </td> <td>0.482</td> <td>0.494</td> <td>423 </td> <td>549 </td> <td>0.77 </td> <td>115 </td> <td>468 </td> <td>583 </td> <td>266 </td> <td>75  </td> <td>74  </td> <td>207 </td> <td>203 </td> <td>1528</td> <td>0.522823</td> <td>94.9</td> <td>1.01581    </td> <td>31.2236</td>\n",
       "        </tr>\n",
       "        <tr>\n",
       "            <td>DEN </td> <td>233 </td> <td>Nikola Jokic         </td> <td>C   </td> <td>21  </td> <td>73  </td> <td>59  </td> <td>2038</td> <td>494 </td> <td>854 </td> <td>0.578</td> <td>45  </td> <td>139 </td> <td>0.324</td> <td>449 </td> <td>715 </td> <td>0.628</td> <td>0.605</td> <td>188 </td> <td>228 </td> <td>0.825</td> <td>212 </td> <td>506 </td> <td>718 </td> <td>359 </td> <td>61  </td> <td>55  </td> <td>171 </td> <td>214 </td> <td>1221</td> <td>0.539483</td> <td>98.3</td> <td>0.980671   </td> <td>31.1042</td>\n",
       "        </tr>\n",
       "        <tr>\n",
       "            <td>LAC </td> <td>351 </td> <td>Chris Paul           </td> <td>PG  </td> <td>31  </td> <td>61  </td> <td>61  </td> <td>1921</td> <td>374 </td> <td>785 </td> <td>0.476</td> <td>124 </td> <td>302 </td> <td>0.411</td> <td>250 </td> <td>483 </td> <td>0.518</td> <td>0.555</td> <td>232 </td> <td>260 </td> <td>0.892</td> <td>40  </td> <td>264 </td> <td>304 </td> <td>563 </td> <td>119 </td> <td>8   </td> <td>147 </td> <td>146 </td> <td>1104</td> <td>0.523136</td> <td>96.1</td> <td>1.00312    </td> <td>30.8522</td>\n",
       "        </tr>\n",
       "        <tr>\n",
       "            <td>MIL </td> <td>16  </td> <td>Giannis Antetokounmpo</td> <td>SF  </td> <td>22  </td> <td>80  </td> <td>80  </td> <td>2845</td> <td>656 </td> <td>1259</td> <td>0.521</td> <td>49  </td> <td>180 </td> <td>0.272</td> <td>607 </td> <td>1079</td> <td>0.563</td> <td>0.541</td> <td>471 </td> <td>612 </td> <td>0.77 </td> <td>142 </td> <td>558 </td> <td>700 </td> <td>434 </td> <td>131 </td> <td>151 </td> <td>234 </td> <td>246 </td> <td>1832</td> <td>0.512369</td> <td>94.5</td> <td>1.02011    </td> <td>30.7288</td>\n",
       "        </tr>\n",
       "        <tr>\n",
       "            <td>MIN </td> <td>433 </td> <td>Karl-Anthony Towns   </td> <td>C   </td> <td>21  </td> <td>82  </td> <td>82  </td> <td>3030</td> <td>802 </td> <td>1480</td> <td>0.542</td> <td>101 </td> <td>275 </td> <td>0.367</td> <td>701 </td> <td>1205</td> <td>0.582</td> <td>0.576</td> <td>356 </td> <td>428 </td> <td>0.832</td> <td>296 </td> <td>711 </td> <td>1007</td> <td>220 </td> <td>56  </td> <td>103 </td> <td>212 </td> <td>241 </td> <td>2061</td> <td>0.511885</td> <td>94.6</td> <td>1.01903    </td> <td>30.6674</td>\n",
       "        </tr>\n",
       "        <tr>\n",
       "            <td>CHI </td> <td>66  </td> <td>Jimmy Butler         </td> <td>SF  </td> <td>27  </td> <td>76  </td> <td>75  </td> <td>2809</td> <td>570 </td> <td>1252</td> <td>0.455</td> <td>91  </td> <td>248 </td> <td>0.367</td> <td>479 </td> <td>1004</td> <td>0.477</td> <td>0.492</td> <td>585 </td> <td>676 </td> <td>0.865</td> <td>129 </td> <td>341 </td> <td>470 </td> <td>417 </td> <td>143 </td> <td>32  </td> <td>159 </td> <td>112 </td> <td>1816</td> <td>0.498912</td> <td>95.3</td> <td>1.01154    </td> <td>29.6706</td>\n",
       "        </tr>\n",
       "        <tr>\n",
       "            <td>GSW </td> <td>98  </td> <td>Stephen Curry        </td> <td>PG  </td> <td>28  </td> <td>79  </td> <td>79  </td> <td>2638</td> <td>675 </td> <td>1443</td> <td>0.468</td> <td>324 </td> <td>789 </td> <td>0.411</td> <td>351 </td> <td>654 </td> <td>0.537</td> <td>0.58 </td> <td>325 </td> <td>362 </td> <td>0.898</td> <td>61  </td> <td>292 </td> <td>353 </td> <td>524 </td> <td>142 </td> <td>17  </td> <td>239 </td> <td>183 </td> <td>1999</td> <td>0.511188</td> <td>99.8</td> <td>0.965932   </td> <td>29.0299</td>\n",
       "        </tr>\n",
       "        <tr>\n",
       "            <td>POR </td> <td>266 </td> <td>Damian Lillard       </td> <td>PG  </td> <td>26  </td> <td>75  </td> <td>75  </td> <td>2694</td> <td>661 </td> <td>1488</td> <td>0.444</td> <td>214 </td> <td>579 </td> <td>0.37 </td> <td>447 </td> <td>909 </td> <td>0.492</td> <td>0.516</td> <td>488 </td> <td>545 </td> <td>0.895</td> <td>46  </td> <td>322 </td> <td>368 </td> <td>440 </td> <td>68  </td> <td>20  </td> <td>197 </td> <td>152 </td> <td>2024</td> <td>0.483956</td> <td>96.7</td> <td>0.996898   </td> <td>28.3645</td>\n",
       "        </tr>\n",
       "        <tr>\n",
       "            <td>TOR </td> <td>108 </td> <td>DeMar DeRozan        </td> <td>SG  </td> <td>27  </td> <td>74  </td> <td>74  </td> <td>2620</td> <td>721 </td> <td>1545</td> <td>0.467</td> <td>33  </td> <td>124 </td> <td>0.266</td> <td>688 </td> <td>1421</td> <td>0.484</td> <td>0.477</td> <td>545 </td> <td>647 </td> <td>0.842</td> <td>70  </td> <td>316 </td> <td>386 </td> <td>290 </td> <td>78  </td> <td>13  </td> <td>180 </td> <td>134 </td> <td>2020</td> <td>0.473112</td> <td>94.7</td> <td>1.01795    </td> <td>28.3145</td>\n",
       "        </tr>\n",
       "        <tr>\n",
       "            <td>OKC </td> <td>243 </td> <td>Enes Kanter          </td> <td>C   </td> <td>24  </td> <td>72  </td> <td>0   </td> <td>1533</td> <td>402 </td> <td>737 </td> <td>0.545</td> <td>5   </td> <td>38  </td> <td>0.132</td> <td>397 </td> <td>699 </td> <td>0.568</td> <td>0.549</td> <td>224 </td> <td>285 </td> <td>0.786</td> <td>195 </td> <td>287 </td> <td>482 </td> <td>67  </td> <td>32  </td> <td>38  </td> <td>123 </td> <td>154 </td> <td>1033</td> <td>0.483482</td> <td>97.8</td> <td>0.985685   </td> <td>28.018 </td>\n",
       "        </tr>\n",
       "        <tr>\n",
       "            <td>UTA </td> <td>155 </td> <td>Rudy Gobert          </td> <td>C   </td> <td>24  </td> <td>81  </td> <td>81  </td> <td>2744</td> <td>413 </td> <td>625 </td> <td>0.661</td> <td>0   </td> <td>1   </td> <td>0    </td> <td>413 </td> <td>624 </td> <td>0.662</td> <td>0.661</td> <td>311 </td> <td>476 </td> <td>0.653</td> <td>314 </td> <td>721 </td> <td>1035</td> <td>97  </td> <td>49  </td> <td>214 </td> <td>147 </td> <td>246 </td> <td>1137</td> <td>0.444079</td> <td>91.6</td> <td>1.0524     </td> <td>27.4764</td>\n",
       "        </tr>\n",
       "        <tr>\n",
       "            <td>MEM </td> <td>87  </td> <td>Mike Conley          </td> <td>PG  </td> <td>29  </td> <td>69  </td> <td>68  </td> <td>2292</td> <td>464 </td> <td>1009</td> <td>0.46 </td> <td>171 </td> <td>419 </td> <td>0.408</td> <td>293 </td> <td>590 </td> <td>0.497</td> <td>0.545</td> <td>316 </td> <td>368 </td> <td>0.859</td> <td>31  </td> <td>210 </td> <td>241 </td> <td>433 </td> <td>92  </td> <td>19  </td> <td>156 </td> <td>126 </td> <td>1415</td> <td>0.446251</td> <td>92.3</td> <td>1.04442    </td> <td>27.4014</td>\n",
       "        </tr>\n",
       "        <tr>\n",
       "            <td>WAS </td> <td>452 </td> <td>John Wall            </td> <td>PG  </td> <td>26  </td> <td>78  </td> <td>78  </td> <td>2836</td> <td>647 </td> <td>1435</td> <td>0.451</td> <td>89  </td> <td>272 </td> <td>0.327</td> <td>558 </td> <td>1163</td> <td>0.48 </td> <td>0.482</td> <td>422 </td> <td>527 </td> <td>0.801</td> <td>59  </td> <td>267 </td> <td>326 </td> <td>831 </td> <td>157 </td> <td>49  </td> <td>322 </td> <td>151 </td> <td>1805</td> <td>0.469346</td> <td>97.4</td> <td>0.989733   </td> <td>27.3105</td>\n",
       "        </tr>\n",
       "    </tbody>\n",
       "</table>\n",
       "<p>... (163 rows omitted)</p>"
      ],
      "text/plain": [
       "<IPython.core.display.HTML object>"
      ]
     },
     "metadata": {},
     "output_type": "display_data"
    }
   ],
   "source": [
    "player_stats.sort('PER', descending=True).\\\n",
    "    where('MP', are.above_or_equal_to(1500)).\\\n",
    "    show(20)"
   ]
  },
  {
   "cell_type": "markdown",
   "metadata": {},
   "source": [
    "#### Why we need to pace adjust"
   ]
  },
  {
   "cell_type": "code",
   "execution_count": 29,
   "metadata": {},
   "outputs": [],
   "source": [
    "PER = player_stats['uPER'] * 15 / np.mean(player_stats['uPER'])\n",
    "player_stats['PER_nopace'] = player_stats['uPER'] * 15 / np.mean(player_stats['uPER'])\n",
    "player_stats['PER_diff'] = player_stats['PER_nopace'] - player_stats['PER']"
   ]
  },
  {
   "cell_type": "code",
   "execution_count": 30,
   "metadata": {},
   "outputs": [
    {
     "data": {
      "text/html": [
       "<table border=\"1\" class=\"dataframe\">\n",
       "    <thead>\n",
       "        <tr>\n",
       "            <th>Tm</th> <th>Rk</th> <th>Player</th> <th>Pos</th> <th>Age</th> <th>G</th> <th>GS</th> <th>MP</th> <th>FG</th> <th>FGA</th> <th>FG%</th> <th>3P</th> <th>3PA</th> <th>3P%</th> <th>2P</th> <th>2PA</th> <th>2P%</th> <th>eFG%</th> <th>FT</th> <th>FTA</th> <th>FT%</th> <th>ORB</th> <th>DRB</th> <th>TRB</th> <th>AST</th> <th>STL</th> <th>BLK</th> <th>TOV</th> <th>PF</th> <th>PTS</th> <th>uPER</th> <th>Pace</th> <th>Pace Factor</th> <th>PER</th> <th>PER_nopace</th> <th>PER_diff</th>\n",
       "        </tr>\n",
       "    </thead>\n",
       "    <tbody>\n",
       "        <tr>\n",
       "            <td>BRK </td> <td>271 </td> <td>Brook Lopez            </td> <td>C   </td> <td>28  </td> <td>75  </td> <td>75  </td> <td>2222</td> <td>555 </td> <td>1172</td> <td>0.474</td> <td>134 </td> <td>387 </td> <td>0.346</td> <td>421 </td> <td>785 </td> <td>0.536</td> <td>0.531</td> <td>295 </td> <td>364 </td> <td>0.81 </td> <td>121 </td> <td>282 </td> <td>403 </td> <td>176 </td> <td>38  </td> <td>124 </td> <td>184 </td> <td>192 </td> <td>1539</td> <td>0.429183</td> <td>101.3</td> <td>0.951629   </td> <td>24.012 </td> <td>25.2325   </td> <td>1.22053 </td>\n",
       "        </tr>\n",
       "        <tr>\n",
       "            <td>HOU </td> <td>172 </td> <td>James Harden           </td> <td>PG  </td> <td>27  </td> <td>81  </td> <td>81  </td> <td>2947</td> <td>674 </td> <td>1533</td> <td>0.44 </td> <td>262 </td> <td>756 </td> <td>0.347</td> <td>412 </td> <td>777 </td> <td>0.53 </td> <td>0.525</td> <td>746 </td> <td>881 </td> <td>0.847</td> <td>95  </td> <td>564 </td> <td>659 </td> <td>907 </td> <td>121 </td> <td>38  </td> <td>464 </td> <td>215 </td> <td>2356</td> <td>0.569261</td> <td>100  </td> <td>0.964      </td> <td>32.2632</td> <td>33.468    </td> <td>1.20485 </td>\n",
       "        </tr>\n",
       "        <tr>\n",
       "            <td>GSW </td> <td>119 </td> <td>Kevin Durant           </td> <td>SF  </td> <td>28  </td> <td>62  </td> <td>62  </td> <td>2070</td> <td>551 </td> <td>1026</td> <td>0.537</td> <td>117 </td> <td>312 </td> <td>0.375</td> <td>434 </td> <td>714 </td> <td>0.608</td> <td>0.594</td> <td>336 </td> <td>384 </td> <td>0.875</td> <td>39  </td> <td>474 </td> <td>513 </td> <td>300 </td> <td>66  </td> <td>99  </td> <td>138 </td> <td>117 </td> <td>1555</td> <td>0.573128</td> <td>99.8 </td> <td>0.965932   </td> <td>32.5474</td> <td>33.6953   </td> <td>1.14794 </td>\n",
       "        </tr>\n",
       "        <tr>\n",
       "            <td>GSW </td> <td>98  </td> <td>Stephen Curry          </td> <td>PG  </td> <td>28  </td> <td>79  </td> <td>79  </td> <td>2638</td> <td>675 </td> <td>1443</td> <td>0.468</td> <td>324 </td> <td>789 </td> <td>0.411</td> <td>351 </td> <td>654 </td> <td>0.537</td> <td>0.58 </td> <td>325 </td> <td>362 </td> <td>0.898</td> <td>61  </td> <td>292 </td> <td>353 </td> <td>524 </td> <td>142 </td> <td>17  </td> <td>239 </td> <td>183 </td> <td>1999</td> <td>0.511188</td> <td>99.8 </td> <td>0.965932   </td> <td>29.0299</td> <td>30.0538   </td> <td>1.02388 </td>\n",
       "        </tr>\n",
       "        <tr>\n",
       "            <td>PHO </td> <td>49  </td> <td>Eric Bledsoe           </td> <td>PG  </td> <td>27  </td> <td>66  </td> <td>66  </td> <td>2176</td> <td>449 </td> <td>1034</td> <td>0.434</td> <td>104 </td> <td>310 </td> <td>0.335</td> <td>345 </td> <td>724 </td> <td>0.477</td> <td>0.485</td> <td>388 </td> <td>458 </td> <td>0.847</td> <td>52  </td> <td>268 </td> <td>320 </td> <td>418 </td> <td>91  </td> <td>31  </td> <td>224 </td> <td>164 </td> <td>1390</td> <td>0.428196</td> <td>100.3</td> <td>0.961117   </td> <td>24.1956</td> <td>25.1745   </td> <td>0.97887 </td>\n",
       "        </tr>\n",
       "        <tr>\n",
       "            <td>HOU </td> <td>71  </td> <td>Clint Capela           </td> <td>C   </td> <td>22  </td> <td>65  </td> <td>59  </td> <td>1551</td> <td>362 </td> <td>563 </td> <td>0.643</td> <td>0   </td> <td>0   </td> <td>nan  </td> <td>362 </td> <td>563 </td> <td>0.643</td> <td>0.643</td> <td>94  </td> <td>177 </td> <td>0.531</td> <td>178 </td> <td>348 </td> <td>526 </td> <td>63  </td> <td>34  </td> <td>79  </td> <td>87  </td> <td>179 </td> <td>818 </td> <td>0.446986</td> <td>100  </td> <td>0.964      </td> <td>25.3331</td> <td>26.2792   </td> <td>0.946051</td>\n",
       "        </tr>\n",
       "        <tr>\n",
       "            <td>BRK </td> <td>54  </td> <td>Trevor Booker          </td> <td>PF  </td> <td>29  </td> <td>71  </td> <td>43  </td> <td>1754</td> <td>305 </td> <td>591 </td> <td>0.516</td> <td>25  </td> <td>78  </td> <td>0.321</td> <td>280 </td> <td>513 </td> <td>0.546</td> <td>0.537</td> <td>74  </td> <td>110 </td> <td>0.673</td> <td>143 </td> <td>428 </td> <td>571 </td> <td>138 </td> <td>75  </td> <td>28  </td> <td>127 </td> <td>152 </td> <td>709 </td> <td>0.330148</td> <td>101.3</td> <td>0.951629   </td> <td>18.4712</td> <td>19.4101   </td> <td>0.938887</td>\n",
       "        </tr>\n",
       "        <tr>\n",
       "            <td>BRK </td> <td>200 </td> <td>Rondae Hollis-Jefferson</td> <td>SF  </td> <td>22  </td> <td>78  </td> <td>50  </td> <td>1761</td> <td>235 </td> <td>542 </td> <td>0.434</td> <td>15  </td> <td>67  </td> <td>0.224</td> <td>220 </td> <td>475 </td> <td>0.463</td> <td>0.447</td> <td>190 </td> <td>253 </td> <td>0.751</td> <td>96  </td> <td>356 </td> <td>452 </td> <td>154 </td> <td>82  </td> <td>44  </td> <td>116 </td> <td>177 </td> <td>675 </td> <td>0.288183</td> <td>101.3</td> <td>0.951629   </td> <td>16.1233</td> <td>16.9428   </td> <td>0.819545</td>\n",
       "        </tr>\n",
       "        <tr>\n",
       "            <td>BRK </td> <td>246 </td> <td>Sean Kilpatrick        </td> <td>SG  </td> <td>27  </td> <td>70  </td> <td>24  </td> <td>1754</td> <td>305 </td> <td>735 </td> <td>0.415</td> <td>105 </td> <td>308 </td> <td>0.341</td> <td>200 </td> <td>427 </td> <td>0.468</td> <td>0.486</td> <td>204 </td> <td>242 </td> <td>0.843</td> <td>22  </td> <td>258 </td> <td>280 </td> <td>157 </td> <td>45  </td> <td>6   </td> <td>135 </td> <td>118 </td> <td>919 </td> <td>0.275043</td> <td>101.3</td> <td>0.951629   </td> <td>15.3881</td> <td>16.1703   </td> <td>0.782177</td>\n",
       "        </tr>\n",
       "        <tr>\n",
       "            <td>PHO </td> <td>454 </td> <td>T.J. Warren            </td> <td>SF  </td> <td>23  </td> <td>66  </td> <td>59  </td> <td>2048</td> <td>403 </td> <td>814 </td> <td>0.495</td> <td>26  </td> <td>98  </td> <td>0.265</td> <td>377 </td> <td>716 </td> <td>0.527</td> <td>0.511</td> <td>119 </td> <td>154 </td> <td>0.773</td> <td>125 </td> <td>214 </td> <td>339 </td> <td>75  </td> <td>76  </td> <td>39  </td> <td>57  </td> <td>175 </td> <td>951 </td> <td>0.326203</td> <td>100.3</td> <td>0.961117   </td> <td>18.4324</td> <td>19.1781   </td> <td>0.745709</td>\n",
       "        </tr>\n",
       "        <tr>\n",
       "            <td>GSW </td> <td>427 </td> <td>Klay Thompson          </td> <td>SG  </td> <td>26  </td> <td>78  </td> <td>78  </td> <td>2649</td> <td>644 </td> <td>1376</td> <td>0.468</td> <td>268 </td> <td>647 </td> <td>0.414</td> <td>376 </td> <td>729 </td> <td>0.516</td> <td>0.565</td> <td>186 </td> <td>218 </td> <td>0.853</td> <td>49  </td> <td>236 </td> <td>285 </td> <td>160 </td> <td>66  </td> <td>40  </td> <td>128 </td> <td>139 </td> <td>1742</td> <td>0.361555</td> <td>99.8 </td> <td>0.965932   </td> <td>20.5323</td> <td>21.2565   </td> <td>0.72417 </td>\n",
       "        </tr>\n",
       "        <tr>\n",
       "            <td>PHO </td> <td>260 </td> <td>Alex Len               </td> <td>C   </td> <td>23  </td> <td>77  </td> <td>34  </td> <td>1560</td> <td>230 </td> <td>463 </td> <td>0.497</td> <td>3   </td> <td>12  </td> <td>0.25 </td> <td>227 </td> <td>451 </td> <td>0.503</td> <td>0.5  </td> <td>150 </td> <td>208 </td> <td>0.721</td> <td>156 </td> <td>354 </td> <td>510 </td> <td>44  </td> <td>38  </td> <td>98  </td> <td>102 </td> <td>242 </td> <td>613 </td> <td>0.314589</td> <td>100.3</td> <td>0.961117   </td> <td>17.7761</td> <td>18.4953   </td> <td>0.719159</td>\n",
       "        </tr>\n",
       "        <tr>\n",
       "            <td>PHO </td> <td>53  </td> <td>Devin Booker           </td> <td>SG  </td> <td>20  </td> <td>78  </td> <td>78  </td> <td>2730</td> <td>606 </td> <td>1431</td> <td>0.423</td> <td>147 </td> <td>405 </td> <td>0.363</td> <td>459 </td> <td>1026</td> <td>0.447</td> <td>0.475</td> <td>367 </td> <td>441 </td> <td>0.832</td> <td>46  </td> <td>203 </td> <td>249 </td> <td>268 </td> <td>72  </td> <td>21  </td> <td>241 </td> <td>242 </td> <td>1726</td> <td>0.303953</td> <td>100.3</td> <td>0.961117   </td> <td>17.1751</td> <td>17.87     </td> <td>0.694845</td>\n",
       "        </tr>\n",
       "        <tr>\n",
       "            <td>GSW </td> <td>164 </td> <td>Draymond Green         </td> <td>PF  </td> <td>26  </td> <td>76  </td> <td>76  </td> <td>2471</td> <td>272 </td> <td>650 </td> <td>0.418</td> <td>81  </td> <td>263 </td> <td>0.308</td> <td>191 </td> <td>387 </td> <td>0.494</td> <td>0.481</td> <td>151 </td> <td>213 </td> <td>0.709</td> <td>98  </td> <td>501 </td> <td>599 </td> <td>533 </td> <td>154 </td> <td>106 </td> <td>184 </td> <td>217 </td> <td>776 </td> <td>0.342795</td> <td>99.8 </td> <td>0.965932   </td> <td>19.467 </td> <td>20.1536   </td> <td>0.686596</td>\n",
       "        </tr>\n",
       "        <tr>\n",
       "            <td>DEN </td> <td>233 </td> <td>Nikola Jokic           </td> <td>C   </td> <td>21  </td> <td>73  </td> <td>59  </td> <td>2038</td> <td>494 </td> <td>854 </td> <td>0.578</td> <td>45  </td> <td>139 </td> <td>0.324</td> <td>449 </td> <td>715 </td> <td>0.628</td> <td>0.605</td> <td>188 </td> <td>228 </td> <td>0.825</td> <td>212 </td> <td>506 </td> <td>718 </td> <td>359 </td> <td>61  </td> <td>55  </td> <td>171 </td> <td>214 </td> <td>1221</td> <td>0.539483</td> <td>98.3 </td> <td>0.980671   </td> <td>31.1042</td> <td>31.7173   </td> <td>0.61305 </td>\n",
       "        </tr>\n",
       "        <tr>\n",
       "            <td>GSW </td> <td>211 </td> <td>Andre Iguodala         </td> <td>SF  </td> <td>33  </td> <td>76  </td> <td>0   </td> <td>1998</td> <td>219 </td> <td>415 </td> <td>0.528</td> <td>64  </td> <td>177 </td> <td>0.362</td> <td>155 </td> <td>238 </td> <td>0.651</td> <td>0.605</td> <td>72  </td> <td>102 </td> <td>0.706</td> <td>51  </td> <td>253 </td> <td>304 </td> <td>261 </td> <td>76  </td> <td>39  </td> <td>58  </td> <td>97  </td> <td>574 </td> <td>0.298232</td> <td>99.8 </td> <td>0.965932   </td> <td>16.9363</td> <td>17.5336   </td> <td>0.597338</td>\n",
       "        </tr>\n",
       "        <tr>\n",
       "            <td>HOU </td> <td>15  </td> <td>Ryan Anderson          </td> <td>PF  </td> <td>28  </td> <td>72  </td> <td>72  </td> <td>2116</td> <td>323 </td> <td>773 </td> <td>0.418</td> <td>204 </td> <td>506 </td> <td>0.403</td> <td>119 </td> <td>267 </td> <td>0.446</td> <td>0.55 </td> <td>129 </td> <td>150 </td> <td>0.86 </td> <td>112 </td> <td>218 </td> <td>330 </td> <td>68  </td> <td>31  </td> <td>14  </td> <td>55  </td> <td>142 </td> <td>979 </td> <td>0.280769</td> <td>100  </td> <td>0.964      </td> <td>15.9127</td> <td>16.507    </td> <td>0.594251</td>\n",
       "        </tr>\n",
       "        <tr>\n",
       "            <td>PHO </td> <td>79  </td> <td>Marquese Chriss        </td> <td>PF  </td> <td>19  </td> <td>82  </td> <td>75  </td> <td>1743</td> <td>284 </td> <td>632 </td> <td>0.449</td> <td>72  </td> <td>224 </td> <td>0.321</td> <td>212 </td> <td>408 </td> <td>0.52 </td> <td>0.506</td> <td>113 </td> <td>181 </td> <td>0.624</td> <td>96  </td> <td>252 </td> <td>348 </td> <td>60  </td> <td>67  </td> <td>70  </td> <td>108 </td> <td>263 </td> <td>753 </td> <td>0.258119</td> <td>100.3</td> <td>0.961117   </td> <td>14.5852</td> <td>15.1753   </td> <td>0.590067</td>\n",
       "        </tr>\n",
       "        <tr>\n",
       "            <td>HOU </td> <td>158 </td> <td>Eric Gordon            </td> <td>SG  </td> <td>28  </td> <td>75  </td> <td>15  </td> <td>2323</td> <td>412 </td> <td>1016</td> <td>0.406</td> <td>246 </td> <td>661 </td> <td>0.372</td> <td>166 </td> <td>355 </td> <td>0.468</td> <td>0.527</td> <td>147 </td> <td>175 </td> <td>0.84 </td> <td>29  </td> <td>172 </td> <td>201 </td> <td>188 </td> <td>48  </td> <td>41  </td> <td>121 </td> <td>150 </td> <td>1217</td> <td>0.273423</td> <td>100  </td> <td>0.964      </td> <td>15.4964</td> <td>16.0751   </td> <td>0.578703</td>\n",
       "        </tr>\n",
       "        <tr>\n",
       "            <td>HOU </td> <td>45  </td> <td>Patrick Beverley       </td> <td>SG  </td> <td>28  </td> <td>67  </td> <td>67  </td> <td>2058</td> <td>228 </td> <td>543 </td> <td>0.42 </td> <td>110 </td> <td>288 </td> <td>0.382</td> <td>118 </td> <td>255 </td> <td>0.463</td> <td>0.521</td> <td>73  </td> <td>95  </td> <td>0.768</td> <td>95  </td> <td>298 </td> <td>393 </td> <td>281 </td> <td>99  </td> <td>25  </td> <td>100 </td> <td>222 </td> <td>639 </td> <td>0.271848</td> <td>100  </td> <td>0.964      </td> <td>15.4071</td> <td>15.9825   </td> <td>0.57537 </td>\n",
       "        </tr>\n",
       "    </tbody>\n",
       "</table>\n",
       "<p>... (163 rows omitted)</p>"
      ],
      "text/plain": [
       "<IPython.core.display.HTML object>"
      ]
     },
     "metadata": {},
     "output_type": "display_data"
    }
   ],
   "source": [
    "player_stats.sort('PER_diff', descending=True).\\\n",
    "    where('MP', are.above_or_equal_to(1500)).\\\n",
    "    show(20)"
   ]
  }
 ],
 "metadata": {
  "anaconda-cloud": {},
  "hide_input": false,
  "kernelspec": {
   "display_name": "Python 3",
   "language": "python",
   "name": "python3"
  },
  "language_info": {
   "codemirror_mode": {
    "name": "ipython",
    "version": 3
   },
   "file_extension": ".py",
   "mimetype": "text/x-python",
   "name": "python",
   "nbconvert_exporter": "python",
   "pygments_lexer": "ipython3",
   "version": "3.6.5"
  },
  "varInspector": {
   "cols": {
    "lenName": 16,
    "lenType": 16,
    "lenVar": 40
   },
   "kernels_config": {
    "python": {
     "delete_cmd_postfix": "",
     "delete_cmd_prefix": "del ",
     "library": "var_list.py",
     "varRefreshCmd": "print(var_dic_list())"
    },
    "r": {
     "delete_cmd_postfix": ") ",
     "delete_cmd_prefix": "rm(",
     "library": "var_list.r",
     "varRefreshCmd": "cat(var_dic_list()) "
    }
   },
   "types_to_exclude": [
    "module",
    "function",
    "builtin_function_or_method",
    "instance",
    "_Feature"
   ],
   "window_display": false
  }
 },
 "nbformat": 4,
 "nbformat_minor": 1
}
